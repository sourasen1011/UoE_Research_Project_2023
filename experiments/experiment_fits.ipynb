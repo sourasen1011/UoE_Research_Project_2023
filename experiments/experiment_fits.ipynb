{
 "cells": [
  {
   "cell_type": "markdown",
   "metadata": {},
   "source": [
    "### **Experiments**"
   ]
  },
  {
   "cell_type": "code",
   "execution_count": 1,
   "metadata": {},
   "outputs": [],
   "source": [
    "import sys\n",
    "import os\n",
    "import pickle\n",
    "sys.path.append('../')\n",
    "sys.path.append('../nn_survival_analysis')"
   ]
  },
  {
   "cell_type": "code",
   "execution_count": 2,
   "metadata": {},
   "outputs": [
    {
     "name": "stderr",
     "output_type": "stream",
     "text": [
      "Using `tqdm.autonotebook.tqdm` in notebook mode. Use `tqdm.tqdm` instead to force console mode (e.g. in jupyter console)\n"
     ]
    }
   ],
   "source": [
    "from nn_survival_analysis.general_utils import *\n",
    "from nn_survival_analysis.model_utils import *\n",
    "from nn_survival_analysis.losses import *\n",
    "from nn_survival_analysis.models import *\n",
    "from nn_survival_analysis.other_nn_models import *\n",
    "from nn_survival_analysis.time_invariant_surv import *\n",
    "from nn_survival_analysis.time_variant_surv import *\n",
    "from nn_survival_analysis.traditional_models import *"
   ]
  },
  {
   "cell_type": "markdown",
   "metadata": {},
   "source": [
    "### **Load Data for TIS**"
   ]
  },
  {
   "cell_type": "code",
   "execution_count": 5,
   "metadata": {},
   "outputs": [],
   "source": [
    "# Read the pickled DataFrames\n",
    "with open('../05_preprocessing_emr_data/data/x_train.pickle', 'rb') as file:\n",
    "    x_train = pickle.load(file)\n",
    "with open('../05_preprocessing_emr_data/data/x_test.pickle', 'rb') as file:\n",
    "    x_test = pickle.load(file)\n",
    "with open('../05_preprocessing_emr_data/data/x_val.pickle', 'rb') as file:\n",
    "    x_val = pickle.load(file)\n",
    "# Get configs\n",
    "with open('../nn_survival_analysis/config.json', \"r\") as file:\n",
    "    configs = json.load(file)"
   ]
  },
  {
   "cell_type": "markdown",
   "metadata": {},
   "source": [
    "### **Testing Time-Invariant Performance**"
   ]
  },
  {
   "cell_type": "code",
   "execution_count": 6,
   "metadata": {},
   "outputs": [
    {
     "name": "stdout",
     "output_type": "stream",
     "text": [
      "training cluster 0\n",
      "Epoch 50: Training Loss: 0.0052754, Val Loss: 0.0063630\n",
      "Epoch 100: Training Loss: 0.0035944, Val Loss: 0.0030867\n",
      "Epoch 150: Training Loss: 0.0013075, Val Loss: 0.0006926\n",
      "Epoch 200: Training Loss: -0.0007793, Val Loss: 0.0005737\n",
      "Epoch 250: Training Loss: -0.0004497, Val Loss: -0.0002188\n",
      "Epoch 300: Training Loss: -0.0022442, Val Loss: 0.0007392\n",
      "Epoch 350: Training Loss: -0.0104226, Val Loss: -0.0011012\n",
      "Epoch 400: Training Loss: -0.0033959, Val Loss: -0.0000453\n",
      "shapes : (1060, 1060, 1060, 1060)\n"
     ]
    }
   ],
   "source": [
    "#-----------------------------------------------------------------------------------------------\n",
    "# instantiate - Time Invariant Survival\n",
    "tis = Time_Invariant_Survival(\n",
    "        configs = configs, \n",
    "        train_data = x_train,\n",
    "        test_data = x_test, \n",
    "        val_data = x_val\n",
    ")\n",
    "\n",
    "# fit\n",
    "tis.fit(verbose = True)\n",
    "mean_ , up_ , low_ , y_test_dur , y_test_event = tis.predict() # Visualize -> tis.visualize(mean_ , up_ , low_ , _from = 40 , _to = 50 )\n",
    "tis_cindex , tis_ibs = tis.evaluation(mean_ , y_test_dur , y_test_event, plot = False)    "
   ]
  },
  {
   "cell_type": "code",
   "execution_count": 7,
   "metadata": {},
   "outputs": [
    {
     "data": {
      "text/plain": [
       "(0.6957719495276475, 0.39952222311343927)"
      ]
     },
     "execution_count": 7,
     "metadata": {},
     "output_type": "execute_result"
    }
   ],
   "source": [
    "tis_cindex , tis_ibs"
   ]
  },
  {
   "cell_type": "markdown",
   "metadata": {},
   "source": [
    "### **Load Data for TVS**"
   ]
  },
  {
   "cell_type": "code",
   "execution_count": 8,
   "metadata": {},
   "outputs": [],
   "source": [
    "# Read the pickled DataFrames\n",
    "with open('../05_preprocessing_emr_data/data/x_train_reshape_tv.pickle', 'rb') as file:\n",
    "    x_train_reshape_tv = pickle.load(file)\n",
    "with open('../05_preprocessing_emr_data/data/x_test_reshape_tv.pickle', 'rb') as file:\n",
    "    x_test_reshape_tv = pickle.load(file)\n",
    "with open('../05_preprocessing_emr_data/data/x_val_reshape_tv.pickle', 'rb') as file:\n",
    "    x_val_reshape_tv = pickle.load(file)\n",
    "\n",
    "# Read the pickled targets\n",
    "with open('../05_preprocessing_emr_data/data/y_train.pickle', 'rb') as file:\n",
    "    y_train = pickle.load(file)\n",
    "with open('../05_preprocessing_emr_data/data/y_test.pickle', 'rb') as file:\n",
    "    y_test = pickle.load(file)\n",
    "with open('../05_preprocessing_emr_data/data/y_val.pickle', 'rb') as file:\n",
    "    y_val = pickle.load(file)"
   ]
  },
  {
   "cell_type": "markdown",
   "metadata": {},
   "source": [
    "### **Testing Time-Variant Performance**"
   ]
  },
  {
   "cell_type": "code",
   "execution_count": 9,
   "metadata": {},
   "outputs": [
    {
     "name": "stdout",
     "output_type": "stream",
     "text": [
      "Epoch 50: Training Loss: -0.0025976, Val Loss: 0.0015660\n",
      "Epoch 100: Training Loss: 0.0000589, Val Loss: 0.0010896\n",
      "shapes : (1180, 1180, 1180, 1180)\n"
     ]
    }
   ],
   "source": [
    "#-----------------------------------------------------------------------------------------------\n",
    "# instantiate - Time Variant Survival\n",
    "tvs = Time_Variant_Survival(\n",
    "            configs = configs, \n",
    "            x_train_reshape_tv = x_train_reshape_tv,\n",
    "            x_test_reshape_tv = x_test_reshape_tv, \n",
    "            x_val_reshape_tv = x_val_reshape_tv,\n",
    "            y_train = y_train,\n",
    "            y_test = y_test,\n",
    "            y_val = y_val\n",
    ")\n",
    "\n",
    "# fit\n",
    "tvs.fit(verbose = True)\n",
    "mean_ , up_ , low_ , y_test_dur , y_test_event = tvs.predict() # Visualize -> tis.visualize(mean_ , up_ , low_ , _from = 40 , _to = 50 )\n",
    "tvs_cindex , tvs_ibs = tvs.evaluation(mean_ , y_test_dur , y_test_event, plot = False)"
   ]
  },
  {
   "cell_type": "code",
   "execution_count": 10,
   "metadata": {},
   "outputs": [
    {
     "data": {
      "text/plain": [
       "(0.7335313759085885, 0.40075786613809444)"
      ]
     },
     "execution_count": 10,
     "metadata": {},
     "output_type": "execute_result"
    }
   ],
   "source": [
    "tvs_cindex , tvs_ibs"
   ]
  }
 ],
 "metadata": {
  "kernelspec": {
   "display_name": "project_env",
   "language": "python",
   "name": "python3"
  },
  "language_info": {
   "codemirror_mode": {
    "name": "ipython",
    "version": 3
   },
   "file_extension": ".py",
   "mimetype": "text/x-python",
   "name": "python",
   "nbconvert_exporter": "python",
   "pygments_lexer": "ipython3",
   "version": "3.10.7"
  },
  "orig_nbformat": 4
 },
 "nbformat": 4,
 "nbformat_minor": 2
}
