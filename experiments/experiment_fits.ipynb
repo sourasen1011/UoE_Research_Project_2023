{
 "cells": [
  {
   "cell_type": "markdown",
   "metadata": {},
   "source": [
    "### **Experiments**"
   ]
  },
  {
   "cell_type": "code",
   "execution_count": 1,
   "metadata": {},
   "outputs": [],
   "source": [
    "import sys\n",
    "import os\n",
    "import pickle\n",
    "sys.path.append('../')\n",
    "sys.path.append('../nn_survival_analysis')"
   ]
  },
  {
   "cell_type": "code",
   "execution_count": 2,
   "metadata": {},
   "outputs": [
    {
     "name": "stderr",
     "output_type": "stream",
     "text": [
      "Using `tqdm.autonotebook.tqdm` in notebook mode. Use `tqdm.tqdm` instead to force console mode (e.g. in jupyter console)\n"
     ]
    }
   ],
   "source": [
    "from nn_survival_analysis.general_utils import *\n",
    "from nn_survival_analysis.model_utils import *\n",
    "from nn_survival_analysis.losses import *\n",
    "from nn_survival_analysis.models import *\n",
    "from nn_survival_analysis.other_nn_models import *\n",
    "from nn_survival_analysis.time_invariant_surv import *\n",
    "from nn_survival_analysis.time_variant_surv import *\n",
    "from nn_survival_analysis.traditional_models import *"
   ]
  },
  {
   "cell_type": "markdown",
   "metadata": {},
   "source": [
    "### **Load Data for TIS**"
   ]
  },
  {
   "cell_type": "code",
   "execution_count": 3,
   "metadata": {},
   "outputs": [],
   "source": [
    "# Read the pickled DataFrames\n",
    "with open('../05_preprocessing_emr_data/data/x_train.pickle', 'rb') as file:\n",
    "    x_train = pickle.load(file)\n",
    "with open('../05_preprocessing_emr_data/data/x_test.pickle', 'rb') as file:\n",
    "    x_test = pickle.load(file)\n",
    "with open('../05_preprocessing_emr_data/data/x_val.pickle', 'rb') as file:\n",
    "    x_val = pickle.load(file)\n",
    "# Get configs\n",
    "with open('../nn_survival_analysis/config.json', \"r\") as file:\n",
    "    configs = json.load(file)"
   ]
  },
  {
   "cell_type": "markdown",
   "metadata": {},
   "source": [
    "### **Testing Time-Invariant Performance**"
   ]
  },
  {
   "cell_type": "code",
   "execution_count": 4,
   "metadata": {},
   "outputs": [
    {
     "name": "stdout",
     "output_type": "stream",
     "text": [
      "training cluster 0\n",
      "Epoch 50: Training Loss: -0.0004460, Val Loss: 0.0033232\n",
      "Epoch 100: Training Loss: 0.0026795, Val Loss: 0.0010117\n",
      "Epoch 150: Training Loss: 0.0012533, Val Loss: -0.0004708\n",
      "Epoch 200: Training Loss: -0.0053277, Val Loss: -0.0003173\n",
      "Epoch 250: Training Loss: -0.0013284, Val Loss: -0.0014054\n",
      "Epoch 300: Training Loss: -0.0071553, Val Loss: -0.0019198\n",
      "Epoch 350: Training Loss: -0.0041237, Val Loss: 0.0005913\n",
      "Epoch 400: Training Loss: -0.0105718, Val Loss: -0.0011580\n",
      "shapes : (1060, 1060, 1060, 1060)\n"
     ]
    }
   ],
   "source": [
    "#-----------------------------------------------------------------------------------------------\n",
    "# instantiate - Time Invariant Survival\n",
    "tis = Time_Invariant_Survival(\n",
    "        configs = configs, \n",
    "        train_data = x_train,\n",
    "        test_data = x_test, \n",
    "        val_data = x_val\n",
    ")\n",
    "\n",
    "# fit\n",
    "tis.fit(verbose = True)\n",
    "mean_ , up_ , low_ , y_test_dur , y_test_event = tis.predict() # Visualize -> tis.visualize(mean_ , up_ , low_ , _from = 40 , _to = 50 )\n",
    "tis_cindex , tis_ibs = tis.evaluation(mean_ , y_test_dur , y_test_event, plot = False)    "
   ]
  },
  {
   "cell_type": "code",
   "execution_count": 5,
   "metadata": {},
   "outputs": [
    {
     "data": {
      "text/plain": [
       "(0.6895818193829689, 0.3899501849786396)"
      ]
     },
     "execution_count": 5,
     "metadata": {},
     "output_type": "execute_result"
    }
   ],
   "source": [
    "tis_cindex , tis_ibs"
   ]
  },
  {
   "cell_type": "markdown",
   "metadata": {},
   "source": [
    "### **Load Data for TVS**"
   ]
  },
  {
   "cell_type": "code",
   "execution_count": 8,
   "metadata": {},
   "outputs": [],
   "source": [
    "# Read the pickled DataFrames\n",
    "with open('../05_preprocessing_emr_data/data/x_train_reshape_tv.pickle', 'rb') as file:\n",
    "    x_train_reshape_tv = pickle.load(file)\n",
    "with open('../05_preprocessing_emr_data/data/x_test_reshape_tv.pickle', 'rb') as file:\n",
    "    x_test_reshape_tv = pickle.load(file)\n",
    "with open('../05_preprocessing_emr_data/data/x_val_reshape_tv.pickle', 'rb') as file:\n",
    "    x_val_reshape_tv = pickle.load(file)\n",
    "\n",
    "# Read the pickled targets\n",
    "with open('../05_preprocessing_emr_data/data/y_train.pickle', 'rb') as file:\n",
    "    y_train = pickle.load(file)\n",
    "with open('../05_preprocessing_emr_data/data/y_test.pickle', 'rb') as file:\n",
    "    y_test = pickle.load(file)\n",
    "with open('../05_preprocessing_emr_data/data/y_val.pickle', 'rb') as file:\n",
    "    y_val = pickle.load(file)"
   ]
  },
  {
   "cell_type": "markdown",
   "metadata": {},
   "source": [
    "### **Testing Time-Variant Performance**"
   ]
  },
  {
   "cell_type": "code",
   "execution_count": 9,
   "metadata": {},
   "outputs": [
    {
     "name": "stdout",
     "output_type": "stream",
     "text": [
      "Epoch 50: Training Loss: -0.0025976, Val Loss: 0.0015660\n",
      "Epoch 100: Training Loss: 0.0000589, Val Loss: 0.0010896\n",
      "shapes : (1180, 1180, 1180, 1180)\n"
     ]
    }
   ],
   "source": [
    "#-----------------------------------------------------------------------------------------------\n",
    "# instantiate - Time Variant Survival\n",
    "tvs = Time_Variant_Survival(\n",
    "            configs = configs, \n",
    "            x_train_reshape_tv = x_train_reshape_tv,\n",
    "            x_test_reshape_tv = x_test_reshape_tv, \n",
    "            x_val_reshape_tv = x_val_reshape_tv,\n",
    "            y_train = y_train,\n",
    "            y_test = y_test,\n",
    "            y_val = y_val\n",
    ")\n",
    "\n",
    "# fit\n",
    "tvs.fit(verbose = True)\n",
    "mean_ , up_ , low_ , y_test_dur , y_test_event = tvs.predict() # Visualize -> tis.visualize(mean_ , up_ , low_ , _from = 40 , _to = 50 )\n",
    "tvs_cindex , tvs_ibs = tvs.evaluation(mean_ , y_test_dur , y_test_event, plot = False)"
   ]
  },
  {
   "cell_type": "code",
   "execution_count": 10,
   "metadata": {},
   "outputs": [
    {
     "data": {
      "text/plain": [
       "(0.7335313759085885, 0.40075786613809444)"
      ]
     },
     "execution_count": 10,
     "metadata": {},
     "output_type": "execute_result"
    }
   ],
   "source": [
    "tvs_cindex , tvs_ibs"
   ]
  },
  {
   "cell_type": "markdown",
   "metadata": {},
   "source": [
    "### **Trying with different cluster size**"
   ]
  },
  {
   "cell_type": "code",
   "execution_count": 28,
   "metadata": {},
   "outputs": [],
   "source": [
    "# configs['time_invariant']['training']['clusters'] = 1"
   ]
  },
  {
   "cell_type": "code",
   "execution_count": 29,
   "metadata": {},
   "outputs": [
    {
     "name": "stdout",
     "output_type": "stream",
     "text": [
      "shapes : (1060, 1060, 1060, 1060)\n"
     ]
    }
   ],
   "source": [
    "#-----------------------------------------------------------------------------------------------\n",
    "# instantiate - Time Invariant Survival\n",
    "tis = Time_Invariant_Survival(\n",
    "        configs = configs, \n",
    "        train_data = x_train,\n",
    "        test_data = x_test, \n",
    "        val_data = x_val\n",
    ")\n",
    "\n",
    "# fit\n",
    "tis.fit(verbose = False)\n",
    "mean_ , up_ , low_ , y_test_dur , y_test_event = tis.predict() # Visualize -> tis.visualize(mean_ , up_ , low_ , _from = 40 , _to = 50 )\n",
    "tis_cindex , tis_ibs = tis.evaluation(mean_ , y_test_dur , y_test_event, plot = False)"
   ]
  },
  {
   "cell_type": "code",
   "execution_count": 30,
   "metadata": {},
   "outputs": [
    {
     "data": {
      "text/plain": [
       "(0.6887229966307723, 0.4019491137098817)"
      ]
     },
     "execution_count": 30,
     "metadata": {},
     "output_type": "execute_result"
    }
   ],
   "source": [
    "tis_cindex , tis_ibs"
   ]
  },
  {
   "cell_type": "markdown",
   "metadata": {},
   "source": [
    "### **Adding PCA to reduce number of components**"
   ]
  },
  {
   "cell_type": "code",
   "execution_count": 69,
   "metadata": {},
   "outputs": [],
   "source": [
    "from sklearn.decomposition import PCA\n",
    "pca = PCA(n_components=1)"
   ]
  },
  {
   "cell_type": "code",
   "execution_count": 70,
   "metadata": {},
   "outputs": [],
   "source": [
    "# strip of target cols\n",
    "feed_to_pca = lambda x:x.iloc[: , :-2]\n",
    "\n",
    "x_train_b4_pca = feed_to_pca(x_train)\n",
    "x_test_b4_pca = feed_to_pca(x_test)\n",
    "x_val_b4_pca = feed_to_pca(x_val)"
   ]
  },
  {
   "cell_type": "code",
   "execution_count": 71,
   "metadata": {},
   "outputs": [],
   "source": [
    "x_train_pca_0 = pd.DataFrame(pca.fit_transform(x_train_b4_pca))\n",
    "x_test_pca_0 = pd.DataFrame(pca.fit_transform(x_test_b4_pca))\n",
    "x_val_pca_0 = pd.DataFrame(pca.fit_transform(x_val_b4_pca))"
   ]
  },
  {
   "cell_type": "code",
   "execution_count": 72,
   "metadata": {},
   "outputs": [
    {
     "data": {
      "text/plain": [
       "0.31334215"
      ]
     },
     "execution_count": 72,
     "metadata": {},
     "output_type": "execute_result"
    }
   ],
   "source": [
    "# Check variance captured\n",
    "np.sum(pca.explained_variance_ratio_)"
   ]
  },
  {
   "cell_type": "code",
   "execution_count": 73,
   "metadata": {},
   "outputs": [],
   "source": [
    "x_train_pca = pd.concat([x_train_pca_0 , x_train.iloc[: , -2:]] , axis = 1)\n",
    "x_test_pca = pd.concat([x_test_pca_0 , x_test.iloc[: , -2:]] , axis = 1)\n",
    "x_val_pca = pd.concat([x_val_pca_0 , x_val.iloc[: , -2:]] , axis = 1)"
   ]
  },
  {
   "cell_type": "code",
   "execution_count": 74,
   "metadata": {},
   "outputs": [
    {
     "name": "stdout",
     "output_type": "stream",
     "text": [
      "shapes : (1060, 1060, 1060, 1060)\n"
     ]
    }
   ],
   "source": [
    "#-----------------------------------------------------------------------------------------------\n",
    "# instantiate - Time Invariant Survival\n",
    "tis = Time_Invariant_Survival(\n",
    "        configs = configs, \n",
    "        train_data = x_train_pca,\n",
    "        test_data = x_test_pca, \n",
    "        val_data = x_val_pca\n",
    ")\n",
    "\n",
    "# fit\n",
    "tis.fit(verbose = False)\n",
    "mean_ , up_ , low_ , y_test_dur , y_test_event = tis.predict() # Visualize -> tis.visualize(mean_ , up_ , low_ , _from = 40 , _to = 50 )\n",
    "tis_cindex , tis_ibs = tis.evaluation(mean_ , y_test_dur , y_test_event, plot = False)"
   ]
  },
  {
   "cell_type": "code",
   "execution_count": 75,
   "metadata": {},
   "outputs": [
    {
     "data": {
      "text/plain": [
       "(0.4891259826914184, 0.4147688930722147)"
      ]
     },
     "execution_count": 75,
     "metadata": {},
     "output_type": "execute_result"
    }
   ],
   "source": [
    "tis_cindex , tis_ibs"
   ]
  },
  {
   "cell_type": "markdown",
   "metadata": {},
   "source": [
    "### **PCA & Clustering**"
   ]
  },
  {
   "cell_type": "code",
   "execution_count": 4,
   "metadata": {},
   "outputs": [
    {
     "name": "stdout",
     "output_type": "stream",
     "text": [
      "0.6008797\n",
      "shapes : (1060, 1060, 1060, 1060)\n",
      "0.4986919468851159 0.4150643009153472\n"
     ]
    }
   ],
   "source": [
    "from sklearn.decomposition import PCA\n",
    "pca = PCA(n_components=2)\n",
    "\n",
    "# strip of target cols\n",
    "feed_to_pca = lambda x:x.iloc[: , :-2]\n",
    "\n",
    "x_train_b4_pca = feed_to_pca(x_train)\n",
    "x_test_b4_pca = feed_to_pca(x_test)\n",
    "x_val_b4_pca = feed_to_pca(x_val)\n",
    "\n",
    "x_train_pca_0 = pd.DataFrame(pca.fit_transform(x_train_b4_pca))\n",
    "x_test_pca_0 = pd.DataFrame(pca.fit_transform(x_test_b4_pca))\n",
    "x_val_pca_0 = pd.DataFrame(pca.fit_transform(x_val_b4_pca))\n",
    "\n",
    "# Check variance captured\n",
    "print(np.sum(pca.explained_variance_ratio_))\n",
    "\n",
    "x_train_pca = pd.concat([x_train_pca_0 , x_train.iloc[: , -2:]] , axis = 1)\n",
    "x_test_pca = pd.concat([x_test_pca_0 , x_test.iloc[: , -2:]] , axis = 1)\n",
    "x_val_pca = pd.concat([x_val_pca_0 , x_val.iloc[: , -2:]] , axis = 1)\n",
    "\n",
    "# Increase cluster size\n",
    "configs['time_invariant']['training']['clusters'] = 2\n",
    "\n",
    "#-----------------------------------------------------------------------------------------------\n",
    "# instantiate - Time Invariant Survival\n",
    "tis = Time_Invariant_Survival(\n",
    "        configs = configs, \n",
    "        train_data = x_train_pca,\n",
    "        test_data = x_test_pca, \n",
    "        val_data = x_val_pca\n",
    ")\n",
    "\n",
    "# fit\n",
    "tis.fit(verbose = False)\n",
    "mean_ , up_ , low_ , y_test_dur , y_test_event = tis.predict() # Visualize -> tis.visualize(mean_ , up_ , low_ , _from = 40 , _to = 50 )\n",
    "tis_cindex , tis_ibs = tis.evaluation(mean_ , y_test_dur , y_test_event, plot = False)\n",
    "\n",
    "print(tis_cindex , tis_ibs)"
   ]
  },
  {
   "cell_type": "code",
   "execution_count": 5,
   "metadata": {},
   "outputs": [
    {
     "data": {
      "image/png": "[encoded data removed]",
      "text/plain": [
       "<Figure size 640x480 with 1 Axes>"
      ]
     },
     "metadata": {},
     "output_type": "display_data"
    }
   ],
   "source": [
    "tis.visualize(mean_ , up_ , low_ , _from = 4 , _to = 5 )"
   ]
  }
 ],
 "metadata": {
  "kernelspec": {
   "display_name": "project_env",
   "language": "python",
   "name": "python3"
  },
  "language_info": {
   "codemirror_mode": {
    "name": "ipython",
    "version": 3
   },
   "file_extension": ".py",
   "mimetype": "text/x-python",
   "name": "python",
   "nbconvert_exporter": "python",
   "pygments_lexer": "ipython3",
   "version": "3.10.7"
  },
  "orig_nbformat": 4
 },
 "nbformat": 4,
 "nbformat_minor": 2
}
