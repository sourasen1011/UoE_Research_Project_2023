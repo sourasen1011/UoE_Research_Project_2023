{
 "cells": [
  {
   "cell_type": "code",
   "execution_count": 1,
   "metadata": {},
   "outputs": [],
   "source": [
    "import numpy as np\n",
    "import pandas as pd\n",
    "import matplotlib.pyplot as plt\n",
    "import torch\n",
    "import torch.nn as nn\n",
    "import torch.nn.functional as F\n",
    "from torch import Tensor\n",
    "\n",
    "# device config\n",
    "device = torch.device('cuda' if torch.cuda.is_available() else 'cpu')"
   ]
  },
  {
   "cell_type": "code",
   "execution_count": 2,
   "metadata": {},
   "outputs": [],
   "source": [
    "whas = pd.read_excel(\"C:\\\\Users\\\\soura\\\\Documents\\\\ECMM451\\\\resources\\\\other_data\\\\whas.xlsx\")\n",
    "whas.drop(['ID'] , axis = 1 , inplace = True)\n",
    "# whas.shape\n",
    "X = np.array(whas.iloc[: , :-2])\n",
    "y = np.array(whas.iloc[: , -2:])"
   ]
  },
  {
   "cell_type": "code",
   "execution_count": 3,
   "metadata": {},
   "outputs": [],
   "source": [
    "# get sorted index based on duration\n",
    "idx = np.argsort(y[:,0])\n",
    "\n",
    "# arrange events and covariates with same index\n",
    "index = torch.Tensor(idx.astype('int64'))\n",
    "durations = torch.Tensor(y[: , 0][idx].astype('int64'))\n",
    "events = torch.Tensor(y[: , 1][idx].astype('int64'))\n",
    "covariates = torch.Tensor(X[idx])"
   ]
  },
  {
   "attachments": {},
   "cell_type": "markdown",
   "metadata": {},
   "source": [
    "## Network"
   ]
  },
  {
   "cell_type": "code",
   "execution_count": 62,
   "metadata": {},
   "outputs": [],
   "source": [
    "class MLP(nn.Module):\n",
    "    def __init__(self , input_size , hidden_size , output_size , dropout_rate = 0.5):\n",
    "        super(MLP , self).__init__()\n",
    "        self.l1 = nn.Linear(input_size , hidden_size)\n",
    "        self.l2 = nn.Linear(hidden_size , hidden_size)\n",
    "        self.l3 = nn.Linear(hidden_size , output_size)\n",
    "        self.relu = nn.ReLU()\n",
    "        self.bn = nn.BatchNorm1d(hidden_size)\n",
    "        self.dropout = nn.Dropout(dropout_rate)\n",
    "    \n",
    "    def forward(self , x):\n",
    "        # stack layers\n",
    "        out = self.l1(x)\n",
    "        # out = out.view(1 , out.shape[0])\n",
    "        out = self.bn(out)\n",
    "        out = self.relu(out)\n",
    "        out = self.dropout(out)\n",
    "        \n",
    "        out = self.l2(out)\n",
    "        out = self.bn(out)\n",
    "        out = self.relu(out)\n",
    "        out = self.dropout(out)\n",
    "\n",
    "        out = self.l3(out)\n",
    "        return out"
   ]
  },
  {
   "attachments": {},
   "cell_type": "markdown",
   "metadata": {},
   "source": [
    "## Loss"
   ]
  },
  {
   "cell_type": "code",
   "execution_count": 63,
   "metadata": {},
   "outputs": [],
   "source": [
    "def nll_logistic_hazard(phi: Tensor, idx_durations: Tensor, events: Tensor, reduction: str = 'mean') -> Tensor:\n",
    "    if phi.shape[1] <= idx_durations.max():\n",
    "        raise ValueError(f\"Network output `phi` is too small for `idx_durations`.\"+\n",
    "                        f\" Need at least `phi.shape[1] = {idx_durations.max().item()+1}`,\"+\n",
    "                        f\" but got `phi.shape[1] = {phi.shape[1]}`\")\n",
    "    if events.dtype is torch.bool:\n",
    "        events = events.float()\n",
    "    events = events.view(-1, 1)\n",
    "    idx_durations = idx_durations.view(-1, 1)\n",
    "    y_bce = torch.zeros_like(phi)    \n",
    "    y_bce = y_bce.type(torch.int64).scatter(1, idx_durations.type(torch.int64), events.type(torch.int64))\n",
    "    bce = F.binary_cross_entropy_with_logits(phi, y_bce.type(torch.float32), reduction='none')\n",
    "    loss = bce.cumsum(1).gather(1, idx_durations.type(torch.int64)).view(-1)\n",
    "    # loss.requires_grad = True\n",
    "    return loss.mean()"
   ]
  },
  {
   "attachments": {},
   "cell_type": "markdown",
   "metadata": {},
   "source": [
    "## Training"
   ]
  },
  {
   "cell_type": "code",
   "execution_count": 88,
   "metadata": {},
   "outputs": [
    {
     "name": "stdout",
     "output_type": "stream",
     "text": [
      "epoch 0 , loss 176.85684204101562\n",
      "epoch 10 , loss 139.12191772460938\n",
      "epoch 20 , loss 104.82030487060547\n",
      "epoch 30 , loss 75.98455047607422\n",
      "epoch 40 , loss 55.97677993774414\n",
      "epoch 50 , loss 42.936363220214844\n",
      "epoch 60 , loss 32.55217361450195\n",
      "epoch 70 , loss 24.659988403320312\n",
      "epoch 80 , loss 19.95172882080078\n",
      "epoch 90 , loss 16.70022964477539\n",
      "epoch 100 , loss 14.248162269592285\n",
      "epoch 110 , loss 12.005606651306152\n",
      "epoch 120 , loss 10.750707626342773\n",
      "epoch 130 , loss 10.340108871459961\n",
      "epoch 140 , loss 8.564875602722168\n",
      "epoch 150 , loss 7.8353424072265625\n",
      "epoch 160 , loss 7.729866981506348\n",
      "epoch 170 , loss 7.057493209838867\n",
      "epoch 180 , loss 6.241583347320557\n",
      "epoch 190 , loss 6.384840965270996\n"
     ]
    },
    {
     "data": {
      "text/plain": [
       "MLP(\n",
       "  (l1): Linear(in_features=11, out_features=100, bias=True)\n",
       "  (l2): Linear(in_features=100, out_features=100, bias=True)\n",
       "  (l3): Linear(in_features=100, out_features=481, bias=True)\n",
       "  (relu): ReLU()\n",
       "  (bn): BatchNorm1d(100, eps=1e-05, momentum=0.1, affine=True, track_running_stats=True)\n",
       "  (dropout): Dropout(p=0.5, inplace=False)\n",
       ")"
      ]
     },
     "execution_count": 88,
     "metadata": {},
     "output_type": "execute_result"
    }
   ],
   "source": [
    "input_size = covariates.shape[1]\n",
    "hidden_size = 100\n",
    "output_size = index.shape[0]\n",
    "learning_rate = 0.001\n",
    "num_epochs = 200\n",
    "\n",
    "model = MLP(input_size , hidden_size , output_size)\n",
    "\n",
    "optimizer = torch.optim.Adam(model.parameters() , lr = learning_rate)\n",
    "\n",
    "# Prime for training\n",
    "model.train()\n",
    "for epoch in range(num_epochs):\n",
    "    # Create an empty list to store tensors\n",
    "    tensor_list = []\n",
    "\n",
    "    # # Generate and append tensors to the list dynamically\n",
    "    # for i , covar in enumerate(covariates):\n",
    "    #     output = model(covar)\n",
    "    #     tensor_list.append(output)\n",
    "\n",
    "    # Dynamically stack tensors\n",
    "    # phi = torch.stack(tensor_list)\n",
    "\n",
    "    phi = model(covariates)\n",
    "\n",
    "    # get loss\n",
    "    loss = nll_logistic_hazard(phi , index , events)\n",
    "\n",
    "    # backward pass\n",
    "    optimizer.zero_grad()\n",
    "    loss.backward()\n",
    "    optimizer.step()\n",
    "    if epoch%10==0: print(f'epoch {epoch} , loss {loss}')\n",
    "\n",
    "# turn training off\n",
    "model.eval()"
   ]
  },
  {
   "cell_type": "code",
   "execution_count": 83,
   "metadata": {},
   "outputs": [],
   "source": [
    "#testing\n",
    "hazards = torch.sigmoid(model(covariates[190:200]))\n",
    "survival = torch.cumprod(1 - hazards , dim = 1)"
   ]
  },
  {
   "cell_type": "code",
   "execution_count": 87,
   "metadata": {},
   "outputs": [
    {
     "data": {
      "image/png": "[encoded data removed]",
      "text/plain": [
       "<Figure size 640x480 with 1 Axes>"
      ]
     },
     "metadata": {},
     "output_type": "display_data"
    }
   ],
   "source": [
    "for surv in survival:\n",
    "    plt.plot(durations , surv.detach().numpy())"
   ]
  },
  {
   "attachments": {},
   "cell_type": "markdown",
   "metadata": {},
   "source": [
    "TESTING"
   ]
  },
  {
   "cell_type": "code",
   "execution_count": 2,
   "metadata": {},
   "outputs": [
    {
     "name": "stdout",
     "output_type": "stream",
     "text": [
      "0:\t[0s / 0s],\t\ttrain_loss: 2.9263,\tval_loss: 2.7659\n",
      "1:\t[0s / 0s],\t\ttrain_loss: 2.6603,\tval_loss: 2.5461\n",
      "2:\t[0s / 0s],\t\ttrain_loss: 2.3791,\tval_loss: 2.2354\n",
      "3:\t[0s / 0s],\t\ttrain_loss: 2.0756,\tval_loss: 1.9005\n",
      "4:\t[0s / 0s],\t\ttrain_loss: 1.7898,\tval_loss: 1.5965\n",
      "5:\t[0s / 0s],\t\ttrain_loss: 1.5691,\tval_loss: 1.4399\n",
      "6:\t[0s / 0s],\t\ttrain_loss: 1.4533,\tval_loss: 1.3834\n",
      "7:\t[0s / 0s],\t\ttrain_loss: 1.4080,\tval_loss: 1.3732\n",
      "8:\t[0s / 0s],\t\ttrain_loss: 1.3977,\tval_loss: 1.3749\n",
      "9:\t[0s / 0s],\t\ttrain_loss: 1.3683,\tval_loss: 1.3710\n",
      "10:\t[0s / 0s],\t\ttrain_loss: 1.3406,\tval_loss: 1.3672\n",
      "11:\t[0s / 0s],\t\ttrain_loss: 1.3476,\tval_loss: 1.3632\n",
      "12:\t[0s / 0s],\t\ttrain_loss: 1.3404,\tval_loss: 1.3599\n",
      "13:\t[0s / 0s],\t\ttrain_loss: 1.3284,\tval_loss: 1.3536\n",
      "14:\t[0s / 0s],\t\ttrain_loss: 1.3253,\tval_loss: 1.3544\n",
      "15:\t[0s / 0s],\t\ttrain_loss: 1.3170,\tval_loss: 1.3566\n",
      "16:\t[0s / 0s],\t\ttrain_loss: 1.3101,\tval_loss: 1.3618\n",
      "17:\t[0s / 0s],\t\ttrain_loss: 1.3191,\tval_loss: 1.3643\n",
      "18:\t[0s / 0s],\t\ttrain_loss: 1.2992,\tval_loss: 1.3638\n",
      "19:\t[0s / 0s],\t\ttrain_loss: 1.2867,\tval_loss: 1.3570\n",
      "20:\t[0s / 0s],\t\ttrain_loss: 1.2903,\tval_loss: 1.3649\n",
      "21:\t[0s / 0s],\t\ttrain_loss: 1.2903,\tval_loss: 1.3677\n",
      "22:\t[0s / 0s],\t\ttrain_loss: 1.2833,\tval_loss: 1.3673\n",
      "23:\t[0s / 0s],\t\ttrain_loss: 1.2822,\tval_loss: 1.3744\n"
     ]
    }
   ],
   "source": [
    "import numpy as np\n",
    "import matplotlib.pyplot as plt\n",
    "\n",
    "# For preprocessing\n",
    "from sklearn.preprocessing import StandardScaler\n",
    "from sklearn_pandas import DataFrameMapper \n",
    "import torch # For building the networks \n",
    "import torchtuples as tt # Some useful functions\n",
    "from pycox.datasets import metabric\n",
    "from pycox.models import LogisticHazard\n",
    "# from pycox.models import PMF\n",
    "# from pycox.models import DeepHitSingle\n",
    "from pycox.evaluation import EvalSurv\n",
    "# We also set some seeds to make this reproducable.\n",
    "# Note that on gpu, there is still some randomness.\n",
    "np.random.seed(1234)\n",
    "_ = torch.manual_seed(123)\n",
    "df_train = metabric.read_df()\n",
    "df_test = df_train.sample(frac=0.2)\n",
    "df_train = df_train.drop(df_test.index)\n",
    "df_val = df_train.sample(frac=0.2)\n",
    "df_train = df_train.drop(df_val.index)\n",
    "\n",
    "cols_standardize = ['x0', 'x1', 'x2', 'x3', 'x8']\n",
    "cols_leave = ['x4', 'x5', 'x6', 'x7']\n",
    "\n",
    "standardize = [([col], StandardScaler()) for col in cols_standardize]\n",
    "leave = [(col, None) for col in cols_leave]\n",
    "\n",
    "x_mapper = DataFrameMapper(standardize + leave)\n",
    "\n",
    "x_train = x_mapper.fit_transform(df_train).astype('float32')\n",
    "x_val = x_mapper.transform(df_val).astype('float32')\n",
    "x_test = x_mapper.transform(df_test).astype('float32')\n",
    "\n",
    "#output nodes.\n",
    "\n",
    "num_durations = 10\n",
    "\n",
    "labtrans = LogisticHazard.label_transform(num_durations)\n",
    "# labtrans = PMF.label_transform(num_durations)\n",
    "# labtrans = DeepHitSingle.label_transform(num_durations)\n",
    "\n",
    "get_target = lambda df: (df['duration'].values, df['event'].values)\n",
    "y_train = labtrans.fit_transform(*get_target(df_train))\n",
    "y_val = labtrans.transform(*get_target(df_val))\n",
    "\n",
    "train = (x_train, y_train)\n",
    "val = (x_val, y_val)\n",
    "\n",
    "# We don't need to transform the test labels\n",
    "durations_test, events_test = get_target(df_test)\n",
    "\n",
    "in_features = x_train.shape[1]\n",
    "num_nodes = [32, 32]\n",
    "out_features = labtrans.out_features\n",
    "batch_norm = True\n",
    "dropout = 0.1\n",
    "\n",
    "net = tt.practical.MLPVanilla(in_features, num_nodes, out_features, batch_norm, dropout)\n",
    "\n",
    "model = LogisticHazard(net, tt.optim.Adam(0.01), duration_index=labtrans.cuts)\n",
    "\n",
    "batch_size = 256\n",
    "epochs = 100\n",
    "callbacks = [tt.cb.EarlyStopping()]\n",
    "\n",
    "log = model.fit(x_train, y_train, batch_size, epochs, callbacks, val_data=val)"
   ]
  },
  {
   "cell_type": "code",
   "execution_count": 4,
   "metadata": {},
   "outputs": [
    {
     "data": {
      "text/plain": [
       "(9, 10)"
      ]
     },
     "execution_count": 4,
     "metadata": {},
     "output_type": "execute_result"
    }
   ],
   "source": [
    "in_features , out_features"
   ]
  },
  {
   "cell_type": "code",
   "execution_count": null,
   "metadata": {},
   "outputs": [],
   "source": []
  },
  {
   "cell_type": "code",
   "execution_count": null,
   "metadata": {},
   "outputs": [],
   "source": []
  }
 ],
 "metadata": {
  "kernelspec": {
   "display_name": "project_env",
   "language": "python",
   "name": "python3"
  },
  "language_info": {
   "codemirror_mode": {
    "name": "ipython",
    "version": 3
   },
   "file_extension": ".py",
   "mimetype": "text/x-python",
   "name": "python",
   "nbconvert_exporter": "python",
   "pygments_lexer": "ipython3",
   "version": "3.10.7"
  },
  "orig_nbformat": 4
 },
 "nbformat": 4,
 "nbformat_minor": 2
}
