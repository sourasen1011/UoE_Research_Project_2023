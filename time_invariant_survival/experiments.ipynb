{
 "cells": [
  {
   "cell_type": "code",
   "execution_count": 1,
   "metadata": {},
   "outputs": [
    {
     "name": "stderr",
     "output_type": "stream",
     "text": [
      "Using `tqdm.autonotebook.tqdm` in notebook mode. Use `tqdm.tqdm` instead to force console mode (e.g. in jupyter console)\n"
     ]
    },
    {
     "name": "stdout",
     "output_type": "stream",
     "text": [
      "training cluster 0\n",
      "Epoch 50: Training Loss: 0.0012448, Val Loss: 0.0072768\n",
      "Epoch 100: Training Loss: 0.0031012, Val Loss: 0.0058012\n",
      "Epoch 150: Training Loss: 0.0044431, Val Loss: 0.0066643\n",
      "Epoch 200: Training Loss: 0.0044808, Val Loss: 0.0049065\n",
      "shapes : (1060, 1060, 1060, 1060)\n",
      "shapes : (1060, 1060, 1060, 1060)\n",
      "shapes : (1060, 1060, 1060, 1060)\n",
      "shapes : (1060, 1060, 1060, 1060)\n",
      "training cluster 0\n",
      "Epoch 50: Training Loss: 0.0087396, Val Loss: 0.0071330\n",
      "Epoch 100: Training Loss: 0.0053730, Val Loss: 0.0054773\n",
      "Epoch 150: Training Loss: 0.0080923, Val Loss: 0.0059326\n",
      "Epoch 200: Training Loss: 0.0055322, Val Loss: 0.0055455\n",
      "shapes : (1060, 1060, 1060, 1060)\n",
      "shapes : (1060, 1060, 1060, 1060)\n",
      "shapes : (1060, 1060, 1060, 1060)\n",
      "shapes : (1060, 1060, 1060, 1060)\n",
      "training cluster 0\n",
      "Epoch 50: Training Loss: 0.0075343, Val Loss: 0.0059009\n",
      "Epoch 100: Training Loss: 0.0069002, Val Loss: 0.0054942\n",
      "Epoch 150: Training Loss: 0.0008111, Val Loss: 0.0048506\n",
      "Epoch 200: Training Loss: -0.0016451, Val Loss: 0.0030904\n",
      "Epoch 250: Training Loss: 0.0046720, Val Loss: 0.0035100\n",
      "Epoch 300: Training Loss: -0.0008984, Val Loss: 0.0022493\n",
      "shapes : (1060, 1060, 1060, 1060)\n",
      "shapes : (1060, 1060, 1060, 1060)\n",
      "shapes : (1060, 1060, 1060, 1060)\n",
      "shapes : (1060, 1060, 1060, 1060)\n"
     ]
    }
   ],
   "source": [
    "from main import *\n",
    "\n",
    "# have a dictionary to store all the metrics\n",
    "eval_dict_iter = {\n",
    "    'tis':{\n",
    "        'cindex':[] , \n",
    "        'ibs':[]\n",
    "    },\n",
    "    'cph':{\n",
    "        'cindex':[] , \n",
    "        'ibs':[]\n",
    "    },\n",
    "    'aft':{\n",
    "        'cindex':[] , \n",
    "        'ibs':[]\n",
    "    },\n",
    "    'rsf':{\n",
    "        'cindex':[] , \n",
    "        'ibs':[]\n",
    "    },\n",
    "}\n",
    "\n",
    "# iterate\n",
    "for i in range(3):\n",
    "    eval_dict = run_fitters()\n",
    "    for model in eval_dict:\n",
    "        for eval_metric in eval_dict[model]:\n",
    "            eval_dict_iter[model][eval_metric].append(eval_dict[model][eval_metric])"
   ]
  },
  {
   "cell_type": "code",
   "execution_count": 2,
   "metadata": {},
   "outputs": [
    {
     "data": {
      "text/plain": [
       "{'tis': {'cindex': [0.6867212789852679,\n",
       "   0.6886371143555526,\n",
       "   0.6919072471427627],\n",
       "  'ibs': [0.411557398557476, 0.40757600495280477, 0.4008903725538921]},\n",
       " 'cph': {'cindex': [0.6953971238645091,\n",
       "   0.6953971238645091,\n",
       "   0.6953971238645091],\n",
       "  'ibs': [0.17313085627507496, 0.17313085627507496, 0.17313085627507496]},\n",
       " 'aft': {'cindex': [0.6953838819884001,\n",
       "   0.6953838819884001,\n",
       "   0.6953838819884001],\n",
       "  'ibs': [0.17419123792832816, 0.17419123792832816, 0.17419123792832816]},\n",
       " 'rsf': {'cindex': [0.6932585608729045,\n",
       "   0.6876704891549035,\n",
       "   0.6935498821473026],\n",
       "  'ibs': [0.19993132047596598, 0.20409665723236772, 0.202918532400085]}}"
      ]
     },
     "execution_count": 2,
     "metadata": {},
     "output_type": "execute_result"
    }
   ],
   "source": [
    "eval_dict_iter"
   ]
  }
 ],
 "metadata": {
  "kernelspec": {
   "display_name": "project_env",
   "language": "python",
   "name": "python3"
  },
  "language_info": {
   "codemirror_mode": {
    "name": "ipython",
    "version": 3
   },
   "file_extension": ".py",
   "mimetype": "text/x-python",
   "name": "python",
   "nbconvert_exporter": "python",
   "pygments_lexer": "ipython3",
   "version": "3.10.7"
  },
  "orig_nbformat": 4
 },
 "nbformat": 4,
 "nbformat_minor": 2
}
