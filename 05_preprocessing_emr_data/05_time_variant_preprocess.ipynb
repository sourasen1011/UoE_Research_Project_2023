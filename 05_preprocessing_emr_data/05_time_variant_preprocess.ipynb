{
 "cells": [
  {
   "cell_type": "code",
   "execution_count": 1,
   "metadata": {},
   "outputs": [],
   "source": [
    "import numpy as np\n",
    "import pandas as pd\n",
    "import json\n",
    "from sqlalchemy import create_engine\n",
    "import matplotlib.pyplot as plt\n",
    "from scipy import interpolate\n",
    "from sklearn.impute import SimpleImputer\n",
    "import pickle\n",
    "pd.set_option('display.max_columns', None)\n",
    "import os"
   ]
  },
  {
   "cell_type": "code",
   "execution_count": 2,
   "metadata": {},
   "outputs": [],
   "source": [
    "# access creds\n",
    "with open('../psql_key.json') as file:\n",
    "    creds = json.load(file)\n",
    "\n",
    "# Create an SQLAlchemy engine with the PostgreSQL database URI\n",
    "engine = create_engine(f\"postgresql+psycopg2://{creds['user']}:{creds['password']}@{creds['host']}:{creds['port']}/{creds['database']}\")"
   ]
  },
  {
   "cell_type": "code",
   "execution_count": 3,
   "metadata": {},
   "outputs": [
    {
     "name": "stdout",
     "output_type": "stream",
     "text": [
      "patients 24348\n"
     ]
    }
   ],
   "source": [
    "# these diag codes were taken from table mimiciv_hosp.d_icd_diagnoses\n",
    "hf_codes = '''('39891','40200','40201','40210','40211','40290','40291','40400','40401','40402','40403','40410','40411','40412',\n",
    "'40413','40490','40491','40492','40493','4280','4281','42820','42821','42822','42823','42830','42831','42832','42833','42840','42841',\n",
    "'42842','42843','4289','E8726','E8745','I0981','I110','I119','I130','I131','I1310','I1311','I132','I50','I501','I502','I5020','I5021','I5022',\n",
    "'I5023','I503','I5030','I5031','I5032','I5033','I504','I5040','I5041','I5042','I5043','I508','I5081','I50810','I50811','I50812','I50813','I50814',\n",
    "'I5082','I5083','I5084','I5089','I509','I9713','I97130','I97131','T8622','T8632','Y625')'''\n",
    "\n",
    "# get all admissions related to HF codes\n",
    "query = f'''\n",
    "select distinct a.subject_id , a.hadm_id , a.admittime , a.dischtime , p.gender , p.anchor_age , p.dod\n",
    "from (select hadm_id from mimiciv_hosp.diagnoses_icd where icd_code in {hf_codes}) d\n",
    "inner join (select * from mimiciv_hosp.admissions) a\n",
    "on a.hadm_id = d.hadm_id\n",
    "inner join (select * from mimiciv_hosp.patients) p\n",
    "on p.subject_id = a.subject_id\n",
    "'''\n",
    "\n",
    "all_hf_pats_0 = pd.read_sql_query(query , engine)\n",
    "\n",
    "all_hf_pats_0['dod'] = pd.to_datetime(all_hf_pats_0['dod']).dt.date\n",
    "all_hf_pats_0['admittime'] = all_hf_pats_0['admittime'].dt.date\n",
    "all_hf_pats_0['dischtime'] = all_hf_pats_0['dischtime'].dt.date\n",
    "\n",
    "print(f'patients {all_hf_pats_0.subject_id.nunique()}')"
   ]
  },
  {
   "cell_type": "code",
   "execution_count": 4,
   "metadata": {},
   "outputs": [
    {
     "name": "stdout",
     "output_type": "stream",
     "text": [
      "150427\n"
     ]
    }
   ],
   "source": [
    "# (OMR) Get online medical record data\n",
    "reqd_results = (\"BMI (kg/m2)\" , \"Height (Inches)\" , \"Weight (Lbs)\") # Not including BP as I can get it from vitalsigns\n",
    "\n",
    "q = f'''select distinct subject_id , chartdate , result_name , \n",
    "result_value::FLOAT from mimiciv_hosp.omr where result_name in {reqd_results}'''\n",
    "\n",
    "omr = pd.read_sql_query(q , engine)\n",
    "# omr = pd.merge(all_hf_pats_0[['subject_id']].drop_duplicates() , omr , on = 'subject_id' , how = 'inner')\n",
    "omr_ = omr.sort_values(['subject_id' , 'chartdate'] , ascending = True)\n",
    "omr_pivot = omr_.pivot_table(\n",
    "    index = ['subject_id' , 'chartdate'] , \n",
    "    columns = 'result_name' , \n",
    "    values = 'result_value' , \n",
    "    aggfunc = 'sum'\n",
    ").reset_index()\n",
    "\n",
    "# Checksum\n",
    "assert np.abs(np.sum(omr_['result_value'].to_numpy()) - np.sum(omr_pivot.iloc[: , -3:].sum(axis = 1))) <= 1e-3 , 'sums not matching'\n",
    "\n",
    "# Check level of table\n",
    "assert len(omr_pivot[['subject_id' , 'chartdate']].drop_duplicates()) == len(omr_pivot) , 'not a patient-date level table!'\n",
    "\n",
    "# Convert to date\n",
    "omr_pivot['chartdate'] = pd.to_datetime(omr_pivot['chartdate']).dt.date\n",
    "omr_pivot.rename(columns = {'chartdate':'charttime'} , inplace = True)\n",
    "\n",
    "print(omr_pivot.subject_id.nunique())"
   ]
  },
  {
   "cell_type": "code",
   "execution_count": 5,
   "metadata": {},
   "outputs": [
    {
     "name": "stdout",
     "output_type": "stream",
     "text": [
      "180733\n"
     ]
    }
   ],
   "source": [
    "# RACE\n",
    "q = '''\n",
    "select subject_id , race , count(race) as c_race\n",
    "from mimiciv_hosp.admissions\n",
    "group by subject_id , race\n",
    "order by c_race desc\n",
    "'''\n",
    "\n",
    "race_0 = pd.read_sql_query(q , engine)\n",
    "race = race_0.groupby('subject_id').first().reset_index().drop('c_race' , axis = 1)\n",
    "\n",
    "# QC\n",
    "assert len(race) == race_0[\"subject_id\"].nunique() , 'is not patient level table'\n",
    "\n",
    "#QC \n",
    "assert race.groupby('subject_id').agg({'race':'nunique'}).sort_values('race' , ascending = False).iloc[0 , ][0] == 1 , 'multiple races'\n",
    "\n",
    "race_broad = pd.DataFrame( [\n",
    "    ('AMERICAN INDIAN/ALASKA NATIVE','NATIVE'),\n",
    "    ( 'ASIAN','ASIAN'),\n",
    "    ( 'ASIAN - ASIAN INDIAN','ASIAN'),\n",
    "    ( 'ASIAN - CHINESE','ASIAN'),\n",
    "    ( 'ASIAN - KOREAN','ASIAN'),\n",
    "    ( 'ASIAN - SOUTH EAST ASIAN','ASIAN'),\n",
    "    ( 'BLACK/AFRICAN','BLACK'),\n",
    "    ( 'BLACK/AFRICAN AMERICAN','BLACK'),\n",
    "    ( 'BLACK/CAPE VERDEAN','BLACK'),\n",
    "    ( 'BLACK/CARIBBEAN ISLAND','BLACK'),\n",
    "    ( 'HISPANIC OR LATINO','HISPANIC'),\n",
    "    ( 'HISPANIC/LATINO - CENTRAL AMERICAN','HISPANIC'),\n",
    "    ( 'HISPANIC/LATINO - COLUMBIAN','HISPANIC'),\n",
    "    ( 'HISPANIC/LATINO - CUBAN','HISPANIC'),\n",
    "    ( 'HISPANIC/LATINO - DOMINICAN','HISPANIC'),\n",
    "    ( 'HISPANIC/LATINO - GUATEMALAN','HISPANIC'),\n",
    "    ( 'HISPANIC/LATINO - HONDURAN','HISPANIC'),\n",
    "    ( 'HISPANIC/LATINO - MEXICAN','HISPANIC'),\n",
    "    ( 'HISPANIC/LATINO - PUERTO RICAN','HISPANIC'),\n",
    "    ( 'HISPANIC/LATINO - SALVADORAN','HISPANIC'),\n",
    "    ( 'MULTIPLE RACE/ETHNICITY','OTHER'),\n",
    "    ( 'NATIVE HAWAIIAN OR OTHER PACIFIC ISLANDER','NATIVE'),\n",
    "    ( 'OTHER','OTHER'),\n",
    "    ( 'PATIENT DECLINED TO ANSWER','OTHER'),\n",
    "    ( 'PORTUGUESE','WHITE'),\n",
    "    ( 'SOUTH AMERICAN','HISPANIC'),\n",
    "    ( 'UNABLE TO OBTAIN','OTHER'),\n",
    "    ( 'UNKNOWN','OTHER'),\n",
    "    ( 'WHITE','WHITE'),\n",
    "    ( 'WHITE - BRAZILIAN','WHITE'),\n",
    "    ( 'WHITE - EASTERN EUROPEAN','WHITE'),\n",
    "    ( 'WHITE - OTHER EUROPEAN','WHITE'),\n",
    "    ( 'WHITE - RUSSIAN','WHITE')\n",
    "] , columns = ['race' , 'race_broad']\n",
    ")\n",
    "race = pd.merge(race , race_broad , on = 'race' , how = 'inner')\n",
    "race.drop('race' , axis = 1 , inplace = True)\n",
    "race.rename(columns = {'race_broad':'race'} , inplace = True)\n",
    "\n",
    "print(race.subject_id.nunique())"
   ]
  },
  {
   "cell_type": "code",
   "execution_count": 12,
   "metadata": {},
   "outputs": [
    {
     "name": "stdout",
     "output_type": "stream",
     "text": [
      "245879\n"
     ]
    }
   ],
   "source": [
    "# LAB\n",
    "q = '''\n",
    "select distinct subject_id , charttime::DATE , itemid , sum(valuenum) as valuenum from mimiciv_hosp.labevents a \n",
    "where a.itemid = 50907 \n",
    "or a.itemid = 50983\n",
    "or a.itemid = 51222 \n",
    "-- or a.itemid = 51133\n",
    "group by subject_id , charttime , itemid \n",
    "order by subject_id , charttime\n",
    "'''\n",
    "\n",
    "bloodwork = pd.read_sql_query(q , engine) # Takes long time\n",
    "\n",
    "bloodwork_pivot = bloodwork.pivot_table(\n",
    "    index = ['subject_id' , 'charttime'] , \n",
    "    columns = 'itemid' , \n",
    "    values = 'valuenum' , \n",
    "    aggfunc = 'sum'\n",
    ").reset_index()\n",
    " \n",
    "# Convert to date\n",
    "bloodwork_pivot['charttime'] = pd.to_datetime(bloodwork_pivot['charttime']).dt.date\n",
    "\n",
    "# name change\n",
    "bloodwork_pivot.rename(\n",
    "    columns = {\n",
    "        50907:'cholesterol' , \n",
    "        50983:'sodium' , \n",
    "        # 51133:'lymphocyte' , \n",
    "        51222:'hemoglobin'\n",
    "    } , inplace = True)\n",
    "\n",
    "# Checksum\n",
    "assert np.abs(bloodwork['valuenum'].sum() - np.sum(bloodwork_pivot.iloc[: , -3:].sum(axis = 1))) <= 1e-3 , 'sums not matching'\n",
    "\n",
    "# QC\n",
    "assert len(bloodwork_pivot) == len(bloodwork[['subject_id' , 'charttime']].drop_duplicates()) , 'is not patient level table'\n",
    "\n",
    "print(bloodwork_pivot.subject_id.nunique())"
   ]
  },
  {
   "cell_type": "code",
   "execution_count": 13,
   "metadata": {},
   "outputs": [
    {
     "name": "stdout",
     "output_type": "stream",
     "text": [
      "8047\n"
     ]
    }
   ],
   "source": [
    "# MEDICATION\n",
    "hadm_id_list = \"('\"+\"','\".join(list(all_hf_pats_0['hadm_id'].unique().astype('str')))+\"')\"\n",
    "hadm_id_list\n",
    "\n",
    "# Note: Leaving out 'atenolol' as it does not have any usage within the cohort \n",
    "q = f'''\n",
    "select a.* from\n",
    "(\n",
    "    select subject_id , charttime::DATE , lower(medication) as l_medication , event_txt , hadm_id\n",
    "    from mimiciv_hosp.emar\n",
    "    where  hadm_id::VARCHAR in {hadm_id_list}\n",
    ") a\n",
    "where a.l_medication in ('amlodipine','diltiazem','felodipine','isradipine','nicardipine',\n",
    "'nifedipine','nisoldipine','verapamil','azilsartan','candesartan','eprosartan','irbesartan',\n",
    "'losartan','olmesartan','telmisartan','valsartan','benazepril','captopril','enalapril','fosinopril',\n",
    "'lisinopril','moexipril','perindopril','quinapril','ramipril','trandolapril','acebutolol','atenolol','Atenolol',\n",
    "'bisoprolol','metoprolol','nadolol','nebivolol','propranolol')\n",
    "and a.event_txt = 'Administered'\n",
    "'''\n",
    "\n",
    "medication = pd.read_sql_query(q , engine)\n",
    "medication['medication'] = medication['l_medication']\n",
    "\n",
    "# pivot\n",
    "medication_pivot =  medication.pivot_table(\n",
    "    index = ['subject_id' , 'charttime'] , \n",
    "    columns = 'l_medication' , \n",
    "    values = 'hadm_id' , \n",
    "    aggfunc = 'count'\n",
    ").fillna(0)\n",
    "\n",
    "assert medication.shape[0] == np.sum(medication_pivot.sum(axis = 1)) , 'counts not matching'\n",
    "\n",
    "medication_pivot.reset_index(inplace = True)\n",
    "\n",
    "# Convert to date\n",
    "medication_pivot['charttime'] = pd.to_datetime(medication_pivot['charttime']).dt.date\n",
    "\n",
    "print(medication_pivot.subject_id.nunique())"
   ]
  },
  {
   "cell_type": "code",
   "execution_count": 14,
   "metadata": {},
   "outputs": [
    {
     "name": "stdout",
     "output_type": "stream",
     "text": [
      "198131\n"
     ]
    }
   ],
   "source": [
    "# Vitalsigns\n",
    "\n",
    "query = f'''\n",
    "select subject_id , charttime , avg(temperature) as temperature ,\n",
    "avg(heartrate) as heartrate , avg(resprate) as resprate , avg(o2sat) as o2sat , \n",
    "avg(sbp) as sbp , avg(dbp) as dbp \n",
    "from \n",
    "(\n",
    "    select subject_id , charttime::DATE , temperature , heartrate , resprate , o2sat , sbp , dbp\n",
    "    from mimiciv_ed.vitalsign\n",
    ") a\n",
    "group by subject_id , charttime\n",
    "'''\n",
    "vitalsign = pd.read_sql_query(query , engine)\n",
    "\n",
    "# Convert to date\n",
    "vitalsign['charttime'] = pd.to_datetime(vitalsign['charttime']).dt.date\n",
    "\n",
    "assert len(vitalsign) == len(vitalsign[['subject_id' , 'charttime']].drop_duplicates()) , 'is not patient level table'\n",
    "\n",
    "print(vitalsign.subject_id.nunique())"
   ]
  },
  {
   "cell_type": "code",
   "execution_count": 16,
   "metadata": {},
   "outputs": [
    {
     "name": "stdout",
     "output_type": "stream",
     "text": [
      "('G932','H4005','H40051','H40052','H40053','H40059','I10','I15','I150','I158','I159','I270','I272','I2720','I2721','I2722','I2723','I2724','I2729','I873','I8730','I87301','I87302','I87303','I87309','I8731','I87311','I87312','I87313','I87319','I8732','I87321','I87322','I87323','I87329','I8733','I87331','I87332','I87333','I87339','I8739','I87391','I87392','I87393','I87399','I973','K766','O10','O100','O1001','O10011','O10012','O10013','O10019','O1002','O1003','O104','O1041','O10411','O10412','O10413','O10419','O1042','O1043','O109','O1091','O10911','O10912','O10913','O10919','O1092','O1093','O11','O111','O112','O113','O114','O115','O119','O12','O13','O131','O132','O133','O134','O135','O139','O16','O161','O162','O163','O164','O165','O169','P292','P2930','R030','E66','E6601','E6609','E661','E662','E668','E101','E09','E090','E0900','E0901','E091','E0910','E0911','E092','E0921','E0922','E0929','E093','E0931','E09311','E09319','E0932','E09321','E093211','E093212','E093213','E093219','E09329','E093291','E093292','E093293','E093299','E0933','E09331','E093311','E093312','E093313','E093319','E09339','E093391','E093392','E093393','E093399','E0934','E09341','E093411','E093412','E093413','E093419','E09349','E093491','E093492','E093493','E093499','E0935','E09351','E093511','E093512','E093513','E093519','E09352','E093521','E093522','E093523','E093529','E09353','E093531','E093532','E093533','E093539','E09354','E093541','E093542','E093543','E093549','E09355','E093551','E093552','E093553','E093559','E09359','E093591','E093592','E093593','E093599','E0936','E0937','E0937X1','E0937X2','E0937X3','E0937X9','E0939','E094','E0940','E0941','E0942','E0943','E0944','E0949','E095','E0951','E0952','E0959','E096','E0961','E09610','E09618','E0962','E09620','E09621','E09622','E09628','E0963','E09630','E09638','E0964','E09641','E09649','E0965','E0969','E098','E099','E10','E1010','E1011','E102','E1021','E1022','E1029','E103','E1031','E10311','E10319','E1032','E10321','E103211','E103212','E103213','E103219','E10329','E103291','E103292','E103293','E103299','E1033','E10331','E103311','E103312','E103313','E103319','E10339','E103391','E103392','E103393','E103399','E1034','E10341','E103411','E103412','E103413','E103419','E10349','E103491','E103492','E103493','E103499','E1035','E10351','E103511','E103512','E103513','E103519','E10352','E103521','E103522','E103523','E103529','E10353','E103531','E103532','E103533','E103539','E10354','E103541','E103542','E103543','E103549','E10355','E103551','E103552','E103553','E103559','E10359','E103591','E103592','E103593','E103599','E1036','E1037','E1037X1','E1037X2','E1037X3','E1037X9','E1039','E104','E1040','E1041','E1042','E1043','E1044','E1049','E105','E1051','E1052','E1059','E106','E1061','E10610','E10618','E1062','E10620','E10621','E10622','E10628','E1063','E10630','E10638','E1064','E10641','E10649','E1065','E1069','E108','E109','E11','E110','E1100','E1101','E111','E1110','E1111','E112','E1121','E1122','E1129','E113','E1131','E11311','E11319','E1132','E11321','E113211','E113212','E113213','E113219','E11329','E113291','E113292','E113293','E113299','E1133','E11331','E113311','E113312','E113313','E113319','E11339','E113391','E113392','E113393','E113399','E1134','E11341','E113411','E113412','E113413','E113419','E11349','E113491','E113492','E113493','E113499','E1135','E11351','E113511','E113512','E113513','E113519','E11352','E113521','E113522','E113523','E113529','E11353','E113531','E113532','E113533','E113539','E11354','E113541','E113542','E113543','E113549','E11355','E113551','E113552','E113553','E113559','E11359','E113591','E113592','E113593','E113599','E1136','E1137','E1137X1','E1137X2','E1137X3','E1137X9','E1139','E114','E1140','E1141','E1142','E1143','E1144','E1149','E115','E1151','E1152','E1159','E116','E1161','E11610','E11618','E1162','E11620','E11621','E11622','E11628','E1163','E11630','E11638','E1164','E11641','E11649','E1165','E1169','E118','E119','E13','E130','E1300','E1301','E131','E1310','E1311','E132','E1321','E1322','E1329','E133','E1331','E13311','E13319','E1332','E13321','E133211','E133212','E133213','E133219','E13329','E133291','E133292','E133293','E133299','E1333','E13331','E133311','E133312','E133313','E133319','E13339','E133391','E133392','E133393','E133399','E1334','E13341','E133411','E133412','E133413','E133419','E13349','E133491','E133492','E133493','E133499','E1335','E13351','E133511','E133512','E133513','E133519','E13352','E133521','E133522','E133523','E133529','E13353','E133531','E133532','E133533','E133539','E13354','E133541','E133542','E133543','E133549','E13355','E133551','E133552','E133553','E133559','E13359','E133591','E133592','E133593','E133599','E1336','E1337','E1337X1','E1337X2','E1337X3','E1337X9','E1339','E134','E1340','E1341','E1342','E1343','E1344','E1349','E135','E1351','E1352','E1359','E136','E1361','E13610','E13618','E1362','E13620','E13621','E13622','E13628','E1363','E13630','E13638','E1364','E13641','E13649','E1365','E1369','E138','E139','N251','O240','O2401','O24011','O24012','O24013','O24019','O2402','O2403','O241','O2411','O24111','O24112','O24113','O24119','O2412','O2413','O243','O2431','O24311','O24312','O24313','O24319','O2432','O2433','O244','O2441','O24410','O24414','O24415','O24419','O2442','O24420','O24424','O24425','O24429','O2443','O24430','O24434','O24435','O24439','O248','O2481','O24811','O24812','O24813','O24819','O2482','O2483','O249','O2491','O24911','O24912','O24913','O24919','O2492','O2493','P700','P702','R7303','Z131','Z833','Z8632')\n"
     ]
    }
   ],
   "source": [
    "# Comorbidities\n",
    "comorbidity_dict = {\n",
    "    'hypertension':['G932','H4005','H40051','H40052','H40053','H40059','I10','I15','I150','I158','I159','I270','I272','I2720','I2721','I2722','I2723','I2724','I2729','I873','I8730','I87301','I87302','I87303','I87309','I8731','I87311','I87312','I87313','I87319','I8732','I87321','I87322','I87323','I87329','I8733','I87331','I87332','I87333','I87339','I8739','I87391','I87392','I87393','I87399','I973','K766','O10','O100','O1001','O10011','O10012','O10013','O10019','O1002','O1003','O104','O1041','O10411','O10412','O10413','O10419','O1042','O1043','O109','O1091','O10911','O10912','O10913','O10919','O1092','O1093','O11','O111','O112','O113','O114','O115','O119','O12','O13','O131','O132','O133','O134','O135','O139','O16','O161','O162','O163','O164','O165','O169','P292','P2930','R030'],\n",
    "    'obesity':['E66', 'E6601', 'E6609', 'E661', 'E662', 'E668'],\n",
    "    'diabetes':['E101','E09','E090','E0900','E0901','E091','E0910','E0911','E092','E0921','E0922','E0929','E093','E0931','E09311','E09319','E0932','E09321','E093211','E093212','E093213','E093219','E09329','E093291','E093292','E093293','E093299','E0933','E09331','E093311','E093312','E093313','E093319','E09339','E093391','E093392','E093393','E093399','E0934','E09341','E093411','E093412','E093413','E093419','E09349','E093491','E093492','E093493','E093499','E0935','E09351','E093511','E093512','E093513','E093519','E09352','E093521','E093522','E093523','E093529','E09353','E093531','E093532','E093533','E093539','E09354','E093541','E093542','E093543','E093549','E09355','E093551','E093552','E093553','E093559','E09359','E093591','E093592','E093593','E093599','E0936','E0937','E0937X1','E0937X2','E0937X3','E0937X9','E0939','E094','E0940','E0941','E0942','E0943','E0944','E0949','E095','E0951','E0952','E0959','E096','E0961','E09610','E09618','E0962','E09620','E09621','E09622','E09628','E0963','E09630','E09638','E0964','E09641','E09649','E0965','E0969','E098','E099','E10','E1010','E1011','E102','E1021','E1022','E1029','E103','E1031','E10311','E10319','E1032','E10321','E103211','E103212','E103213','E103219','E10329','E103291','E103292','E103293','E103299','E1033','E10331','E103311','E103312','E103313','E103319','E10339','E103391','E103392','E103393','E103399','E1034','E10341','E103411','E103412','E103413','E103419','E10349','E103491','E103492','E103493','E103499','E1035','E10351','E103511','E103512','E103513','E103519','E10352','E103521','E103522','E103523','E103529','E10353','E103531','E103532','E103533','E103539','E10354','E103541','E103542','E103543','E103549','E10355','E103551','E103552','E103553','E103559','E10359','E103591','E103592','E103593','E103599','E1036','E1037','E1037X1','E1037X2','E1037X3','E1037X9','E1039','E104','E1040','E1041','E1042','E1043','E1044','E1049','E105','E1051','E1052','E1059','E106','E1061','E10610','E10618','E1062','E10620','E10621','E10622','E10628','E1063','E10630','E10638','E1064','E10641','E10649','E1065','E1069','E108','E109','E11','E110','E1100','E1101','E111','E1110','E1111','E112','E1121','E1122','E1129','E113','E1131','E11311','E11319','E1132','E11321','E113211','E113212','E113213','E113219','E11329','E113291','E113292','E113293','E113299','E1133','E11331','E113311','E113312','E113313','E113319','E11339','E113391','E113392','E113393','E113399','E1134','E11341','E113411','E113412','E113413','E113419','E11349','E113491','E113492','E113493','E113499','E1135','E11351','E113511','E113512','E113513','E113519','E11352','E113521','E113522','E113523','E113529','E11353','E113531','E113532','E113533','E113539','E11354','E113541','E113542','E113543','E113549','E11355','E113551','E113552','E113553','E113559','E11359','E113591','E113592','E113593','E113599','E1136','E1137','E1137X1','E1137X2','E1137X3','E1137X9','E1139','E114','E1140','E1141','E1142','E1143','E1144','E1149','E115','E1151','E1152','E1159','E116','E1161','E11610','E11618','E1162','E11620','E11621','E11622','E11628','E1163','E11630','E11638','E1164','E11641','E11649','E1165','E1169','E118','E119','E13','E130','E1300','E1301','E131','E1310','E1311','E132','E1321','E1322','E1329','E133','E1331','E13311','E13319','E1332','E13321','E133211','E133212','E133213','E133219','E13329','E133291','E133292','E133293','E133299','E1333','E13331','E133311','E133312','E133313','E133319','E13339','E133391','E133392','E133393','E133399','E1334','E13341','E133411','E133412','E133413','E133419','E13349','E133491','E133492','E133493','E133499','E1335','E13351','E133511','E133512','E133513','E133519','E13352','E133521','E133522','E133523','E133529','E13353','E133531','E133532','E133533','E133539','E13354','E133541','E133542','E133543','E133549','E13355','E133551','E133552','E133553','E133559','E13359','E133591','E133592','E133593','E133599','E1336','E1337','E1337X1','E1337X2','E1337X3','E1337X9','E1339','E134','E1340','E1341','E1342','E1343','E1344','E1349','E135','E1351','E1352','E1359','E136','E1361','E13610','E13618','E1362','E13620','E13621','E13622','E13628','E1363','E13630','E13638','E1364','E13641','E13649','E1365','E1369','E138','E139','N251','O240','O2401','O24011','O24012','O24013','O24019','O2402','O2403','O241','O2411','O24111','O24112','O24113','O24119','O2412','O2413','O243','O2431','O24311','O24312','O24313','O24319','O2432','O2433','O244','O2441','O24410','O24414','O24415','O24419','O2442','O24420','O24424','O24425','O24429','O2443','O24430','O24434','O24435','O24439','O248','O2481','O24811','O24812','O24813','O24819','O2482','O2483','O249','O2491','O24911','O24912','O24913','O24919','O2492','O2493','P700','P702','R7303','Z131','Z833','Z8632']\n",
    "    }\n",
    "\n",
    "comorbidity_list = [diag_cd for diag_codes in list(comorbidity_dict.values()) for diag_cd in diag_codes]\n",
    "\n",
    "#-------------------------------------------------------------------------------------------------------\n",
    "df_comorbidities = {}\n",
    "\n",
    "for key, values in comorbidity_dict.items():\n",
    "    for value in values:\n",
    "        df_comorbidities[value] = key\n",
    "\n",
    "# convert to df\n",
    "comorbid_code_df = pd.DataFrame.from_dict(df_comorbidities , orient = 'index' , columns = ['comorbidity']).reset_index().rename(columns = {'index':'icd_code'})\n",
    "\n",
    "# MEDICATION\n",
    "comorbidity_codes_list = \"('\"+\"','\".join(list(comorbidity_list))+\"')\"\n",
    "print(comorbidity_codes_list)\n",
    "\n",
    "query = f'''\n",
    "select distinct subject_id , icd_code from mimiciv_hosp.diagnoses_icd where icd_code in {comorbidity_codes_list}\n",
    "'''\n",
    "\n",
    "comorbidity = pd.read_sql_query(query , engine)\n",
    "\n",
    "# remove trailing whitespace\n",
    "comorbidity['icd_code'] = comorbidity['icd_code'].str.rstrip()\n",
    "\n",
    "# merge\n",
    "comorbidity_2 = pd.merge(comorbidity , comorbid_code_df , on = 'icd_code')\n",
    "\n",
    "# add helper\n",
    "comorbidity_2['helper'] = 1\n",
    "\n",
    "# test\n",
    "assert comorbidity_2.pivot_table(index = 'subject_id' , columns = 'comorbidity' , values = 'helper' , aggfunc = 'sum').fillna(0).sum().sum() == len(comorbidity_2) , 'pivot counts not matching'\n",
    "\n",
    "# pivot\n",
    "comorbidity_pivot = comorbidity_2.pivot_table(index = 'subject_id' , columns = 'comorbidity' , values = 'helper').fillna(0).reset_index()"
   ]
  },
  {
   "cell_type": "markdown",
   "metadata": {},
   "source": [
    "### **Joining**"
   ]
  },
  {
   "cell_type": "code",
   "execution_count": 17,
   "metadata": {},
   "outputs": [
    {
     "name": "stdout",
     "output_type": "stream",
     "text": [
      "patients 6627\n",
      "patients 6627\n"
     ]
    }
   ],
   "source": [
    "# Patients with presence in all tables\n",
    "charttime_pats = list(set(bloodwork_pivot['subject_id']).\\\n",
    "intersection(set(vitalsign['subject_id'])).\\\n",
    "intersection(set(medication_pivot['subject_id'])).\\\n",
    "intersection(set(omr_pivot['subject_id'])).\\\n",
    "intersection(set(race['subject_id']))\n",
    ")\n",
    "\n",
    "print(f'patients {len(charttime_pats)}')\n",
    "\n",
    "df_1 = pd.merge(\n",
    "    vitalsign , bloodwork_pivot , \n",
    "    on = ['subject_id' , 'charttime'] , \n",
    "    how = 'outer'\n",
    ")\n",
    "\n",
    "df_2 = pd.merge(\n",
    "    df_1 , medication_pivot , \n",
    "    on = ['subject_id' , 'charttime'] , \n",
    "    how = 'outer'\n",
    ")\n",
    "\n",
    "df_3 = pd.merge(\n",
    "    df_2 , omr_pivot , \n",
    "    on = ['subject_id' , 'charttime'] , \n",
    "    how = 'outer'\n",
    ")\n",
    "\n",
    "df_4 = pd.merge(\n",
    "    df_3 , race , \n",
    "    on = 'subject_id' , \n",
    "    how = 'inner'\n",
    ")\n",
    "\n",
    "# sort by patient-time\n",
    "df_4.sort_values(['subject_id' , 'charttime'] , inplace = True)\n",
    "\n",
    "# only keep patients who have presence in all tables\n",
    "df_4 = df_4[df_4['subject_id'].isin(charttime_pats)]\n",
    "\n",
    "\n",
    "df_5 = pd.merge(\n",
    "    df_4 , comorbidity_pivot , \n",
    "    on = 'subject_id' , \n",
    "    how = 'left' # do not want to inner join as not all HF pats will have at least 1 comorbidity\n",
    ")\n",
    "\n",
    "print(f'patients {df_5.subject_id.nunique()}')"
   ]
  },
  {
   "cell_type": "code",
   "execution_count": 18,
   "metadata": {},
   "outputs": [],
   "source": [
    "# Retain patients who do not have any presence in the charttime\n",
    "retain_pats = df_5.groupby('subject_id').agg({'charttime':'nunique'})\n",
    "retain_pats = retain_pats[retain_pats['charttime'] != 0]\n",
    "retain_pats = retain_pats.reset_index().drop('charttime', axis=1).drop_duplicates()"
   ]
  },
  {
   "cell_type": "markdown",
   "metadata": {},
   "source": [
    "#### **Get Survival Metrics**"
   ]
  },
  {
   "cell_type": "code",
   "execution_count": 19,
   "metadata": {},
   "outputs": [
    {
     "name": "stdout",
     "output_type": "stream",
     "text": [
      "subject_id       24348\n",
      "time_to_event    24348\n",
      "death            24348\n",
      "gender           24348\n",
      "anchor_age       24348\n",
      "dtype: int64\n"
     ]
    }
   ],
   "source": [
    "# Retain all patients\n",
    "# Add num of ICU admits / num of admissions as covariates\n",
    "# Time of survival -> from last ICU admission to deathtime / OR first ICU admission?\n",
    "# Uncensored patients (those that experienced the event, i.e. died)\n",
    "# Find latest ICU admission\n",
    "tos_hf = all_hf_pats_0.groupby('subject_id').agg({'admittime':'min' , 'dod':'max' , 'dischtime':'max'})\n",
    "\n",
    "# add gender and age\n",
    "tos_hf = pd.merge(\n",
    "    tos_hf,  all_hf_pats_0[['subject_id','gender','anchor_age']].drop_duplicates(),\n",
    "    on = 'subject_id',\n",
    "    how = 'inner'\n",
    ")\n",
    "\n",
    "event_pats = tos_hf[tos_hf['dod'].notnull()].copy()\n",
    "event_pats['time_to_event'] = event_pats['dod'] - event_pats['admittime']\n",
    "event_pats['time_to_event'] = event_pats['time_to_event'] / np.timedelta64(1, 'D') # convert to hours\n",
    "event_pats['death'] = 1\n",
    "\n",
    "# who are the censored patients?\n",
    "non_event_pats = tos_hf[tos_hf['dod'].isnull()].copy()# For censored patients, their last follow-up was essentially their discharge time\n",
    "non_event_pats['time_to_event'] = non_event_pats['dischtime'] - non_event_pats['admittime']\n",
    "non_event_pats['time_to_event'] = non_event_pats['time_to_event'] / np.timedelta64(1, 'D') # convert to hours\n",
    "# non_event_pats['time_to_event'] = non_event_pats['time_to_event'] + 365 # is this necessary?\n",
    "non_event_pats['death'] = 0\n",
    "# non_event_pats.head(3)\n",
    "\n",
    "pats = pd.concat([\n",
    "    non_event_pats[['subject_id','time_to_event' , 'death', 'gender', 'anchor_age']] , \n",
    "    event_pats[['subject_id','time_to_event' , 'death' , 'gender', 'anchor_age']]] , axis = 0)\n",
    "\n",
    "pats.sort_values('subject_id' , inplace = True)\n",
    "\n",
    "pats['time_to_event'] = pats['time_to_event'].apply(lambda x: x+1 if x==0 else x)\n",
    "# QC\n",
    "print(pats.count())\n",
    "\n",
    "# QC\n",
    "assert len(pats) == all_hf_pats_0[\"subject_id\"].nunique() , 'is not patient level table'"
   ]
  },
  {
   "cell_type": "code",
   "execution_count": 20,
   "metadata": {},
   "outputs": [
    {
     "data": {
      "image/png": "[encoded data removed]",
      "text/plain": [
       "<Figure size 700x500 with 2 Axes>"
      ]
     },
     "metadata": {},
     "output_type": "display_data"
    }
   ],
   "source": [
    "grouped = pats.groupby('death')\n",
    "labels = ['censored' , 'uncensored']\n",
    "colors = ['slategray' , 'orange']\n",
    "# Plot grouped histogram\n",
    "fig, axes = plt.subplots(2 , figsize = (7,5))\n",
    "            \n",
    "for category, group in grouped:\n",
    "    axes[category].hist(group['time_to_event'], bins=50 , density = True , label = labels[category] , color = colors[category])\n",
    "    axes[category].legend()\n",
    "    axes[category].set_ylabel('Density')\n",
    "\n",
    "plt.xlabel('Time to Event')\n",
    "# plt.title('Cohort-wise Time-to-Event Distribution')\n",
    "\n",
    "# Save the plot as an PDF file\n",
    "# plt.savefig('cohort_hist.pdf', format='pdf')\n",
    "\n",
    "plt.show()"
   ]
  },
  {
   "cell_type": "code",
   "execution_count": 21,
   "metadata": {},
   "outputs": [
    {
     "name": "stdout",
     "output_type": "stream",
     "text": [
      "number of patients before retaining = 6627\n",
      "number of patients after retaining = 6627\n"
     ]
    }
   ],
   "source": [
    "consolidated_pat_tbl = pd.merge(df_5 , pats , on = 'subject_id' , how = 'inner')\n",
    "print(f'number of patients before retaining = {consolidated_pat_tbl.subject_id.nunique()}')\n",
    "consolidated_pat_tbl = pd.merge(consolidated_pat_tbl , retain_pats , on = 'subject_id' , how = 'inner')\n",
    "\n",
    "# # Forwardfilling columns\n",
    "# forwardfill_cols = [\n",
    "#     'cholesterol', 'sodium', 'lymphocyte', 'hemoglobin', 'temperature', \n",
    "#     'heartrate', 'resprate', 'o2sat', 'sbp', 'dbp'\n",
    "#     ]\n",
    "\n",
    "# for col in forwardfill_cols:\n",
    "#     consolidated_pat_tbl[col] = consolidated_pat_tbl.groupby('subject_id')[col].fillna(method = 'ffill')\n",
    "\n",
    "# # na -> zero columns (Must do this AFTER backfilling!)\n",
    "# consolidated_pat_tbl.fillna(0 , inplace = True)\n",
    "\n",
    "print(f'number of patients after retaining = {consolidated_pat_tbl.subject_id.nunique()}')\n",
    "\n",
    "assert len(consolidated_pat_tbl) == len(consolidated_pat_tbl[['subject_id','charttime']].drop_duplicates()) , 'not patient-time level!'"
   ]
  },
  {
   "cell_type": "code",
   "execution_count": 22,
   "metadata": {},
   "outputs": [],
   "source": [
    "# Time difference calculation at patient level\n",
    "consolidated_pat_tbl['lag_time'] = consolidated_pat_tbl.groupby('subject_id')['charttime'].shift(1)\n",
    "consolidated_pat_tbl['timediff'] = consolidated_pat_tbl['charttime'] - consolidated_pat_tbl['lag_time']\n",
    "consolidated_pat_tbl['timediff'] = consolidated_pat_tbl['timediff'].fillna(pd.Timedelta(0))\n",
    "consolidated_pat_tbl['timediff'] = consolidated_pat_tbl['timediff']/np.timedelta64(1 , 'D')"
   ]
  },
  {
   "cell_type": "markdown",
   "metadata": {},
   "source": [
    "**Retain patients with at least n time steps**"
   ]
  },
  {
   "cell_type": "code",
   "execution_count": 23,
   "metadata": {},
   "outputs": [],
   "source": [
    "def retain_n_time_steps(df, subject_col, ts_col, n_time_steps = 10):\n",
    "    arr = df.groupby(subject_col).agg({ts_col:'count'})[ts_col]\n",
    "    \n",
    "    # Calculate the quantile value using np.quantile - patients below this quantile are rejected\n",
    "    print(f'% rejected pats {100*np.sum(arr < n_time_steps)/len(arr)}')\n",
    "    \n",
    "    _retain_pats = df.groupby(subject_col).agg({ts_col:'count'}).reset_index()\n",
    "    _retain_pats = _retain_pats[_retain_pats[ts_col] >= n_time_steps]\n",
    "\n",
    "    df_retained = pd.merge(df , _retain_pats[[subject_col]] , on = subject_col , how = 'inner')\n",
    "\n",
    "    # check operations correctness\n",
    "    assert np.sum(arr < n_time_steps)/len(arr) == (df[subject_col].nunique() - df_retained[subject_col].nunique())/df[subject_col].nunique() , 'does not match'\n",
    "    \n",
    "    return df_retained"
   ]
  },
  {
   "cell_type": "code",
   "execution_count": 24,
   "metadata": {},
   "outputs": [
    {
     "name": "stdout",
     "output_type": "stream",
     "text": [
      "% rejected pats 10.909913988229968\n"
     ]
    }
   ],
   "source": [
    "consolidated_pat_tbl_retained = retain_n_time_steps(\n",
    "    consolidated_pat_tbl.drop(['charttime','lag_time'] , axis = 1),\n",
    "    'subject_id' , 'timediff' , n_time_steps = 10\n",
    "    )"
   ]
  },
  {
   "cell_type": "code",
   "execution_count": 25,
   "metadata": {},
   "outputs": [],
   "source": [
    "folder_path = \"data/\"\n",
    "\n",
    "# Check if the folder exists\n",
    "if not os.path.exists(folder_path):\n",
    "    # Create the folder\n",
    "    os.makedirs(folder_path)\n",
    "\n",
    "# Pickle the DataFrame (tv -> time variant)\n",
    "with open('data/consolidated_pat_tbl_tv.pickle', 'wb') as file:\n",
    "    pickle.dump(consolidated_pat_tbl_retained, file)"
   ]
  },
  {
   "cell_type": "markdown",
   "metadata": {},
   "source": [
    "------------"
   ]
  }
 ],
 "metadata": {
  "kernelspec": {
   "display_name": "project_env",
   "language": "python",
   "name": "python3"
  },
  "language_info": {
   "codemirror_mode": {
    "name": "ipython",
    "version": 3
   },
   "file_extension": ".py",
   "mimetype": "text/x-python",
   "name": "python",
   "nbconvert_exporter": "python",
   "pygments_lexer": "ipython3",
   "version": "3.10.7"
  },
  "orig_nbformat": 4
 },
 "nbformat": 4,
 "nbformat_minor": 2
}
