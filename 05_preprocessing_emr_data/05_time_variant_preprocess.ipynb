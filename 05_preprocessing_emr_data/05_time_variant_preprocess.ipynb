{
 "cells": [
  {
   "cell_type": "code",
   "execution_count": 11,
   "metadata": {},
   "outputs": [],
   "source": [
    "import numpy as np\n",
    "import pandas as pd\n",
    "import json\n",
    "from sqlalchemy import create_engine\n",
    "import matplotlib.pyplot as plt\n",
    "from scipy import interpolate\n",
    "from sklearn.impute import SimpleImputer\n",
    "import pickle\n",
    "pd.set_option('display.max_columns', None)\n",
    "import os"
   ]
  },
  {
   "cell_type": "code",
   "execution_count": 2,
   "metadata": {},
   "outputs": [],
   "source": [
    "# access creds\n",
    "with open('../psql_key.json') as file:\n",
    "    creds = json.load(file)\n",
    "\n",
    "# Create an SQLAlchemy engine with the PostgreSQL database URI\n",
    "engine = create_engine(f\"postgresql+psycopg2://{creds['user']}:{creds['password']}@{creds['host']}:{creds['port']}/{creds['database']}\")"
   ]
  },
  {
   "cell_type": "code",
   "execution_count": 3,
   "metadata": {},
   "outputs": [
    {
     "name": "stdout",
     "output_type": "stream",
     "text": [
      "patients 24348\n"
     ]
    }
   ],
   "source": [
    "# these diag codes were taken from table mimiciv_hosp.d_icd_diagnoses\n",
    "hf_codes = '''('39891','40200','40201','40210','40211','40290','40291','40400','40401','40402','40403','40410','40411','40412',\n",
    "'40413','40490','40491','40492','40493','4280','4281','42820','42821','42822','42823','42830','42831','42832','42833','42840','42841',\n",
    "'42842','42843','4289','E8726','E8745','I0981','I110','I119','I130','I131','I1310','I1311','I132','I50','I501','I502','I5020','I5021','I5022',\n",
    "'I5023','I503','I5030','I5031','I5032','I5033','I504','I5040','I5041','I5042','I5043','I508','I5081','I50810','I50811','I50812','I50813','I50814',\n",
    "'I5082','I5083','I5084','I5089','I509','I9713','I97130','I97131','T8622','T8632','Y625')'''\n",
    "\n",
    "# get all admissions related to HF codes\n",
    "query = f'''\n",
    "select distinct a.subject_id , a.hadm_id , a.admittime , a.dischtime , p.gender , p.anchor_age , p.dod\n",
    "from (select hadm_id from mimiciv_hosp.diagnoses_icd where icd_code in {hf_codes}) d\n",
    "inner join (select * from mimiciv_hosp.admissions) a\n",
    "on a.hadm_id = d.hadm_id\n",
    "inner join (select * from mimiciv_hosp.patients) p\n",
    "on p.subject_id = a.subject_id\n",
    "'''\n",
    "\n",
    "all_hf_pats_0 = pd.read_sql_query(query , engine)\n",
    "\n",
    "all_hf_pats_0['dod'] = pd.to_datetime(all_hf_pats_0['dod']).dt.date\n",
    "all_hf_pats_0['admittime'] = all_hf_pats_0['admittime'].dt.date\n",
    "all_hf_pats_0['dischtime'] = all_hf_pats_0['dischtime'].dt.date\n",
    "\n",
    "print(f'patients {all_hf_pats_0.subject_id.nunique()}')"
   ]
  },
  {
   "cell_type": "code",
   "execution_count": 16,
   "metadata": {},
   "outputs": [
    {
     "name": "stdout",
     "output_type": "stream",
     "text": [
      "150427\n"
     ]
    }
   ],
   "source": [
    "# (OMR) Get online medical record data\n",
    "reqd_results = (\"BMI (kg/m2)\" , \"Height (Inches)\" , \"Weight (Lbs)\") # Not including BP as I can get it from vitalsigns\n",
    "\n",
    "q = f'''select distinct subject_id , chartdate , result_name , \n",
    "result_value::FLOAT from mimiciv_hosp.omr where result_name in {reqd_results}'''\n",
    "\n",
    "omr = pd.read_sql_query(q , engine)\n",
    "# omr = pd.merge(all_hf_pats_0[['subject_id']].drop_duplicates() , omr , on = 'subject_id' , how = 'inner')\n",
    "omr_ = omr.sort_values(['subject_id' , 'chartdate'] , ascending = True)\n",
    "omr_pivot = omr_.pivot_table(\n",
    "    index = ['subject_id' , 'chartdate'] , \n",
    "    columns = 'result_name' , \n",
    "    values = 'result_value' , \n",
    "    aggfunc = 'sum'\n",
    ").reset_index()\n",
    "\n",
    "# Checksum\n",
    "assert np.abs(np.sum(omr_['result_value'].to_numpy()) - np.sum(omr_pivot.iloc[: , -3:].sum(axis = 1))) <= 1e-3 , 'sums not matching'\n",
    "\n",
    "\n",
    "# # DO NOT BACKFILL ANYTHING NOW\n",
    "# # Partition-wise backfilling\n",
    "# omr_pivot['Height (Inches)'] = omr_pivot.groupby('subject_id')['Height (Inches)'].fillna(method='bfill')\n",
    "# omr_pivot['BMI (kg/m2)'] = omr_pivot.groupby('subject_id')['BMI (kg/m2)'].fillna(method='bfill')\n",
    "# omr_pivot['Weight (Lbs)'] = omr_pivot.groupby('subject_id')['Weight (Lbs)'].fillna(method='bfill')\n",
    "\n",
    "# Check level of table\n",
    "assert len(omr_pivot[['subject_id' , 'chartdate']].drop_duplicates()) == len(omr_pivot) , 'not a patient-date level table!'\n",
    "\n",
    "# Convert to date\n",
    "omr_pivot['chartdate'] = pd.to_datetime(omr_pivot['chartdate']).dt.date\n",
    "omr_pivot.rename(columns = {'chartdate':'charttime'} , inplace = True)\n",
    "\n",
    "print(omr_pivot.subject_id.nunique())"
   ]
  },
  {
   "cell_type": "code",
   "execution_count": 8,
   "metadata": {},
   "outputs": [
    {
     "name": "stdout",
     "output_type": "stream",
     "text": [
      "180733\n"
     ]
    }
   ],
   "source": [
    "# RACE\n",
    "q = '''\n",
    "select subject_id , race , count(race) as c_race\n",
    "from mimiciv_hosp.admissions\n",
    "group by subject_id , race\n",
    "order by c_race desc\n",
    "'''\n",
    "\n",
    "race_0 = pd.read_sql_query(q , engine)\n",
    "race = race_0.groupby('subject_id').first().reset_index().drop('c_race' , axis = 1)\n",
    "\n",
    "# QC\n",
    "assert len(race) == race_0[\"subject_id\"].nunique() , 'is not patient level table'\n",
    "\n",
    "#QC \n",
    "assert race.groupby('subject_id').agg({'race':'nunique'}).sort_values('race' , ascending = False).iloc[0 , ][0] == 1 , 'multiple races'\n",
    "\n",
    "race_broad = pd.DataFrame( [\n",
    "    ('AMERICAN INDIAN/ALASKA NATIVE','NATIVE'),\n",
    "    ( 'ASIAN','ASIAN'),\n",
    "    ( 'ASIAN - ASIAN INDIAN','ASIAN'),\n",
    "    ( 'ASIAN - CHINESE','ASIAN'),\n",
    "    ( 'ASIAN - KOREAN','ASIAN'),\n",
    "    ( 'ASIAN - SOUTH EAST ASIAN','ASIAN'),\n",
    "    ( 'BLACK/AFRICAN','BLACK'),\n",
    "    ( 'BLACK/AFRICAN AMERICAN','BLACK'),\n",
    "    ( 'BLACK/CAPE VERDEAN','BLACK'),\n",
    "    ( 'BLACK/CARIBBEAN ISLAND','BLACK'),\n",
    "    ( 'HISPANIC OR LATINO','HISPANIC'),\n",
    "    ( 'HISPANIC/LATINO - CENTRAL AMERICAN','HISPANIC'),\n",
    "    ( 'HISPANIC/LATINO - COLUMBIAN','HISPANIC'),\n",
    "    ( 'HISPANIC/LATINO - CUBAN','HISPANIC'),\n",
    "    ( 'HISPANIC/LATINO - DOMINICAN','HISPANIC'),\n",
    "    ( 'HISPANIC/LATINO - GUATEMALAN','HISPANIC'),\n",
    "    ( 'HISPANIC/LATINO - HONDURAN','HISPANIC'),\n",
    "    ( 'HISPANIC/LATINO - MEXICAN','HISPANIC'),\n",
    "    ( 'HISPANIC/LATINO - PUERTO RICAN','HISPANIC'),\n",
    "    ( 'HISPANIC/LATINO - SALVADORAN','HISPANIC'),\n",
    "    ( 'MULTIPLE RACE/ETHNICITY','OTHER'),\n",
    "    ( 'NATIVE HAWAIIAN OR OTHER PACIFIC ISLANDER','NATIVE'),\n",
    "    ( 'OTHER','OTHER'),\n",
    "    ( 'PATIENT DECLINED TO ANSWER','OTHER'),\n",
    "    ( 'PORTUGUESE','WHITE'),\n",
    "    ( 'SOUTH AMERICAN','HISPANIC'),\n",
    "    ( 'UNABLE TO OBTAIN','OTHER'),\n",
    "    ( 'UNKNOWN','OTHER'),\n",
    "    ( 'WHITE','WHITE'),\n",
    "    ( 'WHITE - BRAZILIAN','WHITE'),\n",
    "    ( 'WHITE - EASTERN EUROPEAN','WHITE'),\n",
    "    ( 'WHITE - OTHER EUROPEAN','WHITE'),\n",
    "    ( 'WHITE - RUSSIAN','WHITE')\n",
    "] , columns = ['race' , 'race_broad']\n",
    ")\n",
    "race = pd.merge(race , race_broad , on = 'race' , how = 'inner')\n",
    "race.drop('race' , axis = 1 , inplace = True)\n",
    "race.rename(columns = {'race_broad':'race'} , inplace = True)\n",
    "\n",
    "print(race.subject_id.nunique())"
   ]
  },
  {
   "cell_type": "code",
   "execution_count": 9,
   "metadata": {},
   "outputs": [
    {
     "name": "stdout",
     "output_type": "stream",
     "text": [
      "245879\n"
     ]
    }
   ],
   "source": [
    "# LAB\n",
    "q = '''\n",
    "select distinct subject_id , charttime::DATE , itemid , sum(valuenum) as valuenum from mimiciv_hosp.labevents a \n",
    "where a.itemid = 50907 or a.itemid = 50983\n",
    "or a.itemid = 51222 or a.itemid = 51133\n",
    "group by subject_id , charttime , itemid \n",
    "order by subject_id , charttime\n",
    "'''\n",
    "\n",
    "bloodwork = pd.read_sql_query(q , engine) # Takes long time/\n",
    "\n",
    "bloodwork_pivot = bloodwork.pivot_table(\n",
    "    index = ['subject_id' , 'charttime'] , \n",
    "    columns = 'itemid' , \n",
    "    values = 'valuenum' , \n",
    "    aggfunc = 'sum'\n",
    ").reset_index()\n",
    " \n",
    "# Convert to date\n",
    "bloodwork_pivot['charttime'] = pd.to_datetime(bloodwork_pivot['charttime']).dt.date\n",
    "\n",
    "# name change\n",
    "bloodwork_pivot.rename(columns = {50907:'cholesterol' , 50983:'sodium' , 51133:'lymphocyte' , 51222:'hemoglobin'} , inplace = True)\n",
    "\n",
    "# Checksum\n",
    "assert np.abs(bloodwork['valuenum'].sum() - np.sum(bloodwork_pivot.iloc[: , -4:].sum(axis = 1))) <= 1e-3 , 'sums not matching'\n",
    "\n",
    "# QC\n",
    "assert len(bloodwork_pivot) == len(bloodwork[['subject_id' , 'charttime']].drop_duplicates()) , 'is not patient level table'\n",
    "\n",
    "print(bloodwork_pivot.subject_id.nunique())"
   ]
  },
  {
   "cell_type": "code",
   "execution_count": 10,
   "metadata": {},
   "outputs": [
    {
     "name": "stdout",
     "output_type": "stream",
     "text": [
      "8047\n"
     ]
    }
   ],
   "source": [
    "# MEDICATION\n",
    "hadm_id_list = \"('\"+\"','\".join(list(all_hf_pats_0['hadm_id'].unique().astype('str')))+\"')\"\n",
    "hadm_id_list\n",
    "\n",
    "# Note: Leaving out 'atenolol' as it does not have any usage within the cohort \n",
    "q = f'''\n",
    "select a.* from\n",
    "(\n",
    "    select subject_id , charttime::DATE , lower(medication) as l_medication , event_txt , hadm_id\n",
    "    from mimiciv_hosp.emar\n",
    "    where  hadm_id::VARCHAR in {hadm_id_list}\n",
    ") a\n",
    "where a.l_medication in ('amlodipine','diltiazem','felodipine','isradipine','nicardipine',\n",
    "'nifedipine','nisoldipine','verapamil','azilsartan','candesartan','eprosartan','irbesartan',\n",
    "'losartan','olmesartan','telmisartan','valsartan','benazepril','captopril','enalapril','fosinopril',\n",
    "'lisinopril','moexipril','perindopril','quinapril','ramipril','trandolapril','acebutolol','atenolol','Atenolol',\n",
    "'bisoprolol','metoprolol','nadolol','nebivolol','propranolol')\n",
    "and a.event_txt = 'Administered'\n",
    "'''\n",
    "\n",
    "medication = pd.read_sql_query(q , engine)\n",
    "medication['medication'] = medication['l_medication']\n",
    "\n",
    "# pivot\n",
    "medication_pivot =  medication.pivot_table(\n",
    "    index = ['subject_id' , 'charttime'] , \n",
    "    columns = 'l_medication' , \n",
    "    values = 'hadm_id' , \n",
    "    aggfunc = 'count'\n",
    ").fillna(0)\n",
    "\n",
    "assert medication.shape[0] == np.sum(medication_pivot.sum(axis = 1)) , 'counts not matching'\n",
    "\n",
    "medication_pivot.reset_index(inplace = True)\n",
    "\n",
    "# Convert to date\n",
    "medication_pivot['charttime'] = pd.to_datetime(medication_pivot['charttime']).dt.date\n",
    "\n",
    "print(medication_pivot.subject_id.nunique())"
   ]
  },
  {
   "cell_type": "code",
   "execution_count": 13,
   "metadata": {},
   "outputs": [
    {
     "name": "stdout",
     "output_type": "stream",
     "text": [
      "198131\n"
     ]
    }
   ],
   "source": [
    "# Vitalsigns\n",
    "\n",
    "query = f'''\n",
    "select subject_id , charttime , avg(temperature) as temperature ,\n",
    "avg(heartrate) as heartrate , avg(resprate) as resprate , avg(o2sat) as o2sat , \n",
    "avg(sbp) as sbp , avg(dbp) as dbp \n",
    "from \n",
    "(\n",
    "    select subject_id , charttime::DATE , temperature , heartrate , resprate , o2sat , sbp , dbp\n",
    "    from mimiciv_ed.vitalsign\n",
    ") a\n",
    "group by subject_id , charttime\n",
    "'''\n",
    "vitalsign = pd.read_sql_query(query , engine)\n",
    "\n",
    "# Convert to date\n",
    "vitalsign['charttime'] = pd.to_datetime(vitalsign['charttime']).dt.date\n",
    "\n",
    "assert len(vitalsign) == len(vitalsign[['subject_id' , 'charttime']].drop_duplicates()) , 'is not patient level table'\n",
    "\n",
    "print(vitalsign.subject_id.nunique())"
   ]
  },
  {
   "cell_type": "markdown",
   "metadata": {},
   "source": [
    "### **Joining**"
   ]
  },
  {
   "cell_type": "code",
   "execution_count": 30,
   "metadata": {},
   "outputs": [
    {
     "ename": "MemoryError",
     "evalue": "Unable to allocate 87.5 GiB for an array with shape (11744197584,) and data type int64",
     "output_type": "error",
     "traceback": [
      "\u001b[1;31m---------------------------------------------------------------------------\u001b[0m",
      "\u001b[1;31mMemoryError\u001b[0m                               Traceback (most recent call last)",
      "Cell \u001b[1;32mIn[30], line 1\u001b[0m\n\u001b[1;32m----> 1\u001b[0m charttime_pats \u001b[39m=\u001b[39m pd\u001b[39m.\u001b[39;49mmerge(\n\u001b[0;32m      2\u001b[0m     bloodwork_pivot[[\u001b[39m'\u001b[39;49m\u001b[39msubject_id\u001b[39;49m\u001b[39m'\u001b[39;49m]] , vitalsign[[\u001b[39m'\u001b[39;49m\u001b[39msubject_id\u001b[39;49m\u001b[39m'\u001b[39;49m]] , on \u001b[39m=\u001b[39;49m \u001b[39m'\u001b[39;49m\u001b[39msubject_id\u001b[39;49m\u001b[39m'\u001b[39;49m , how \u001b[39m=\u001b[39;49m \u001b[39m'\u001b[39;49m\u001b[39minner\u001b[39;49m\u001b[39m'\u001b[39;49m\n\u001b[0;32m      3\u001b[0m     )\u001b[39m.\u001b[39;49mmerge(\n\u001b[0;32m      4\u001b[0m         medication_pivot[[\u001b[39m'\u001b[39;49m\u001b[39msubject_id\u001b[39;49m\u001b[39m'\u001b[39;49m]] , on \u001b[39m=\u001b[39;49m \u001b[39m'\u001b[39;49m\u001b[39msubject_id\u001b[39;49m\u001b[39m'\u001b[39;49m , how \u001b[39m=\u001b[39;49m \u001b[39m'\u001b[39;49m\u001b[39minner\u001b[39;49m\u001b[39m'\u001b[39;49m\n\u001b[0;32m      5\u001b[0m     )\u001b[39m.\u001b[39;49mmerge(\n\u001b[0;32m      6\u001b[0m         omr_pivot[[\u001b[39m'\u001b[39;49m\u001b[39msubject_id\u001b[39;49m\u001b[39m'\u001b[39;49m]] , on \u001b[39m=\u001b[39;49m \u001b[39m'\u001b[39;49m\u001b[39msubject_id\u001b[39;49m\u001b[39m'\u001b[39;49m , how \u001b[39m=\u001b[39;49m \u001b[39m'\u001b[39;49m\u001b[39minner\u001b[39;49m\u001b[39m'\u001b[39;49m\n\u001b[0;32m      7\u001b[0m     )[\u001b[39m'\u001b[39m\u001b[39msubject_id\u001b[39m\u001b[39m'\u001b[39m]\n",
      "File \u001b[1;32mc:\\Users\\soura\\Documents\\ECMM451\\project_env\\lib\\site-packages\\pandas\\core\\frame.py:9843\u001b[0m, in \u001b[0;36mDataFrame.merge\u001b[1;34m(self, right, how, on, left_on, right_on, left_index, right_index, sort, suffixes, copy, indicator, validate)\u001b[0m\n\u001b[0;32m   9824\u001b[0m \u001b[39m@Substitution\u001b[39m(\u001b[39m\"\u001b[39m\u001b[39m\"\u001b[39m)\n\u001b[0;32m   9825\u001b[0m \u001b[39m@Appender\u001b[39m(_merge_doc, indents\u001b[39m=\u001b[39m\u001b[39m2\u001b[39m)\n\u001b[0;32m   9826\u001b[0m \u001b[39mdef\u001b[39;00m \u001b[39mmerge\u001b[39m(\n\u001b[1;32m   (...)\u001b[0m\n\u001b[0;32m   9839\u001b[0m     validate: \u001b[39mstr\u001b[39m \u001b[39m|\u001b[39m \u001b[39mNone\u001b[39;00m \u001b[39m=\u001b[39m \u001b[39mNone\u001b[39;00m,\n\u001b[0;32m   9840\u001b[0m ) \u001b[39m-\u001b[39m\u001b[39m>\u001b[39m DataFrame:\n\u001b[0;32m   9841\u001b[0m     \u001b[39mfrom\u001b[39;00m \u001b[39mpandas\u001b[39;00m\u001b[39m.\u001b[39;00m\u001b[39mcore\u001b[39;00m\u001b[39m.\u001b[39;00m\u001b[39mreshape\u001b[39;00m\u001b[39m.\u001b[39;00m\u001b[39mmerge\u001b[39;00m \u001b[39mimport\u001b[39;00m merge\n\u001b[1;32m-> 9843\u001b[0m     \u001b[39mreturn\u001b[39;00m merge(\n\u001b[0;32m   9844\u001b[0m         \u001b[39mself\u001b[39;49m,\n\u001b[0;32m   9845\u001b[0m         right,\n\u001b[0;32m   9846\u001b[0m         how\u001b[39m=\u001b[39;49mhow,\n\u001b[0;32m   9847\u001b[0m         on\u001b[39m=\u001b[39;49mon,\n\u001b[0;32m   9848\u001b[0m         left_on\u001b[39m=\u001b[39;49mleft_on,\n\u001b[0;32m   9849\u001b[0m         right_on\u001b[39m=\u001b[39;49mright_on,\n\u001b[0;32m   9850\u001b[0m         left_index\u001b[39m=\u001b[39;49mleft_index,\n\u001b[0;32m   9851\u001b[0m         right_index\u001b[39m=\u001b[39;49mright_index,\n\u001b[0;32m   9852\u001b[0m         sort\u001b[39m=\u001b[39;49msort,\n\u001b[0;32m   9853\u001b[0m         suffixes\u001b[39m=\u001b[39;49msuffixes,\n\u001b[0;32m   9854\u001b[0m         copy\u001b[39m=\u001b[39;49mcopy,\n\u001b[0;32m   9855\u001b[0m         indicator\u001b[39m=\u001b[39;49mindicator,\n\u001b[0;32m   9856\u001b[0m         validate\u001b[39m=\u001b[39;49mvalidate,\n\u001b[0;32m   9857\u001b[0m     )\n",
      "File \u001b[1;32mc:\\Users\\soura\\Documents\\ECMM451\\project_env\\lib\\site-packages\\pandas\\core\\reshape\\merge.py:162\u001b[0m, in \u001b[0;36mmerge\u001b[1;34m(left, right, how, on, left_on, right_on, left_index, right_index, sort, suffixes, copy, indicator, validate)\u001b[0m\n\u001b[0;32m    131\u001b[0m \u001b[39m@Substitution\u001b[39m(\u001b[39m\"\u001b[39m\u001b[39m\\n\u001b[39;00m\u001b[39mleft : DataFrame or named Series\u001b[39m\u001b[39m\"\u001b[39m)\n\u001b[0;32m    132\u001b[0m \u001b[39m@Appender\u001b[39m(_merge_doc, indents\u001b[39m=\u001b[39m\u001b[39m0\u001b[39m)\n\u001b[0;32m    133\u001b[0m \u001b[39mdef\u001b[39;00m \u001b[39mmerge\u001b[39m(\n\u001b[1;32m   (...)\u001b[0m\n\u001b[0;32m    146\u001b[0m     validate: \u001b[39mstr\u001b[39m \u001b[39m|\u001b[39m \u001b[39mNone\u001b[39;00m \u001b[39m=\u001b[39m \u001b[39mNone\u001b[39;00m,\n\u001b[0;32m    147\u001b[0m ) \u001b[39m-\u001b[39m\u001b[39m>\u001b[39m DataFrame:\n\u001b[0;32m    148\u001b[0m     op \u001b[39m=\u001b[39m _MergeOperation(\n\u001b[0;32m    149\u001b[0m         left,\n\u001b[0;32m    150\u001b[0m         right,\n\u001b[1;32m   (...)\u001b[0m\n\u001b[0;32m    160\u001b[0m         validate\u001b[39m=\u001b[39mvalidate,\n\u001b[0;32m    161\u001b[0m     )\n\u001b[1;32m--> 162\u001b[0m     \u001b[39mreturn\u001b[39;00m op\u001b[39m.\u001b[39;49mget_result(copy\u001b[39m=\u001b[39;49mcopy)\n",
      "File \u001b[1;32mc:\\Users\\soura\\Documents\\ECMM451\\project_env\\lib\\site-packages\\pandas\\core\\reshape\\merge.py:809\u001b[0m, in \u001b[0;36m_MergeOperation.get_result\u001b[1;34m(self, copy)\u001b[0m\n\u001b[0;32m    806\u001b[0m \u001b[39mif\u001b[39;00m \u001b[39mself\u001b[39m\u001b[39m.\u001b[39mindicator:\n\u001b[0;32m    807\u001b[0m     \u001b[39mself\u001b[39m\u001b[39m.\u001b[39mleft, \u001b[39mself\u001b[39m\u001b[39m.\u001b[39mright \u001b[39m=\u001b[39m \u001b[39mself\u001b[39m\u001b[39m.\u001b[39m_indicator_pre_merge(\u001b[39mself\u001b[39m\u001b[39m.\u001b[39mleft, \u001b[39mself\u001b[39m\u001b[39m.\u001b[39mright)\n\u001b[1;32m--> 809\u001b[0m join_index, left_indexer, right_indexer \u001b[39m=\u001b[39m \u001b[39mself\u001b[39;49m\u001b[39m.\u001b[39;49m_get_join_info()\n\u001b[0;32m    811\u001b[0m result \u001b[39m=\u001b[39m \u001b[39mself\u001b[39m\u001b[39m.\u001b[39m_reindex_and_concat(\n\u001b[0;32m    812\u001b[0m     join_index, left_indexer, right_indexer, copy\u001b[39m=\u001b[39mcopy\n\u001b[0;32m    813\u001b[0m )\n\u001b[0;32m    814\u001b[0m result \u001b[39m=\u001b[39m result\u001b[39m.\u001b[39m__finalize__(\u001b[39mself\u001b[39m, method\u001b[39m=\u001b[39m\u001b[39mself\u001b[39m\u001b[39m.\u001b[39m_merge_type)\n",
      "File \u001b[1;32mc:\\Users\\soura\\Documents\\ECMM451\\project_env\\lib\\site-packages\\pandas\\core\\reshape\\merge.py:1065\u001b[0m, in \u001b[0;36m_MergeOperation._get_join_info\u001b[1;34m(self)\u001b[0m\n\u001b[0;32m   1061\u001b[0m     join_index, right_indexer, left_indexer \u001b[39m=\u001b[39m _left_join_on_index(\n\u001b[0;32m   1062\u001b[0m         right_ax, left_ax, \u001b[39mself\u001b[39m\u001b[39m.\u001b[39mright_join_keys, sort\u001b[39m=\u001b[39m\u001b[39mself\u001b[39m\u001b[39m.\u001b[39msort\n\u001b[0;32m   1063\u001b[0m     )\n\u001b[0;32m   1064\u001b[0m \u001b[39melse\u001b[39;00m:\n\u001b[1;32m-> 1065\u001b[0m     (left_indexer, right_indexer) \u001b[39m=\u001b[39m \u001b[39mself\u001b[39;49m\u001b[39m.\u001b[39;49m_get_join_indexers()\n\u001b[0;32m   1067\u001b[0m     \u001b[39mif\u001b[39;00m \u001b[39mself\u001b[39m\u001b[39m.\u001b[39mright_index:\n\u001b[0;32m   1068\u001b[0m         \u001b[39mif\u001b[39;00m \u001b[39mlen\u001b[39m(\u001b[39mself\u001b[39m\u001b[39m.\u001b[39mleft) \u001b[39m>\u001b[39m \u001b[39m0\u001b[39m:\n",
      "File \u001b[1;32mc:\\Users\\soura\\Documents\\ECMM451\\project_env\\lib\\site-packages\\pandas\\core\\reshape\\merge.py:1038\u001b[0m, in \u001b[0;36m_MergeOperation._get_join_indexers\u001b[1;34m(self)\u001b[0m\n\u001b[0;32m   1036\u001b[0m \u001b[39mdef\u001b[39;00m \u001b[39m_get_join_indexers\u001b[39m(\u001b[39mself\u001b[39m) \u001b[39m-\u001b[39m\u001b[39m>\u001b[39m \u001b[39mtuple\u001b[39m[npt\u001b[39m.\u001b[39mNDArray[np\u001b[39m.\u001b[39mintp], npt\u001b[39m.\u001b[39mNDArray[np\u001b[39m.\u001b[39mintp]]:\n\u001b[0;32m   1037\u001b[0m \u001b[39m    \u001b[39m\u001b[39m\"\"\"return the join indexers\"\"\"\u001b[39;00m\n\u001b[1;32m-> 1038\u001b[0m     \u001b[39mreturn\u001b[39;00m get_join_indexers(\n\u001b[0;32m   1039\u001b[0m         \u001b[39mself\u001b[39;49m\u001b[39m.\u001b[39;49mleft_join_keys, \u001b[39mself\u001b[39;49m\u001b[39m.\u001b[39;49mright_join_keys, sort\u001b[39m=\u001b[39;49m\u001b[39mself\u001b[39;49m\u001b[39m.\u001b[39;49msort, how\u001b[39m=\u001b[39;49m\u001b[39mself\u001b[39;49m\u001b[39m.\u001b[39;49mhow\n\u001b[0;32m   1040\u001b[0m     )\n",
      "File \u001b[1;32mc:\\Users\\soura\\Documents\\ECMM451\\project_env\\lib\\site-packages\\pandas\\core\\reshape\\merge.py:1690\u001b[0m, in \u001b[0;36mget_join_indexers\u001b[1;34m(left_keys, right_keys, sort, how, **kwargs)\u001b[0m\n\u001b[0;32m   1680\u001b[0m join_func \u001b[39m=\u001b[39m {\n\u001b[0;32m   1681\u001b[0m     \u001b[39m\"\u001b[39m\u001b[39minner\u001b[39m\u001b[39m\"\u001b[39m: libjoin\u001b[39m.\u001b[39minner_join,\n\u001b[0;32m   1682\u001b[0m     \u001b[39m\"\u001b[39m\u001b[39mleft\u001b[39m\u001b[39m\"\u001b[39m: libjoin\u001b[39m.\u001b[39mleft_outer_join,\n\u001b[1;32m   (...)\u001b[0m\n\u001b[0;32m   1686\u001b[0m     \u001b[39m\"\u001b[39m\u001b[39mouter\u001b[39m\u001b[39m\"\u001b[39m: libjoin\u001b[39m.\u001b[39mfull_outer_join,\n\u001b[0;32m   1687\u001b[0m }[how]\n\u001b[0;32m   1689\u001b[0m \u001b[39m# error: Cannot call function of unknown type\u001b[39;00m\n\u001b[1;32m-> 1690\u001b[0m \u001b[39mreturn\u001b[39;00m join_func(lkey, rkey, count, \u001b[39m*\u001b[39m\u001b[39m*\u001b[39mkwargs)\n",
      "File \u001b[1;32mc:\\Users\\soura\\Documents\\ECMM451\\project_env\\lib\\site-packages\\pandas\\_libs\\join.pyx:48\u001b[0m, in \u001b[0;36mpandas._libs.join.inner_join\u001b[1;34m()\u001b[0m\n",
      "\u001b[1;31mMemoryError\u001b[0m: Unable to allocate 87.5 GiB for an array with shape (11744197584,) and data type int64"
     ]
    }
   ],
   "source": [
    "charttime_pats = pd.merge(\n",
    "    bloodwork_pivot[['subject_id']] , vitalsign[['subject_id']] , on = 'subject_id' , how = 'inner'\n",
    "    ).merge(\n",
    "        medication_pivot[['subject_id']] , on = 'subject_id' , how = 'inner'\n",
    "    ).merge(\n",
    "        omr_pivot[['subject_id']] , on = 'subject_id' , how = 'inner'\n",
    "    )['subject_id']"
   ]
  },
  {
   "cell_type": "code",
   "execution_count": 28,
   "metadata": {},
   "outputs": [
    {
     "name": "stdout",
     "output_type": "stream",
     "text": [
      "patients 281043\n"
     ]
    }
   ],
   "source": [
    "df_1 = pd.merge(\n",
    "    vitalsign , bloodwork_pivot , \n",
    "    on = ['subject_id' , 'charttime'] , \n",
    "    how = 'outer'\n",
    ")\n",
    "\n",
    "df_2 = pd.merge(\n",
    "    df_1 , medication_pivot , \n",
    "    on = ['subject_id' , 'charttime'] , \n",
    "    how = 'outer'\n",
    ")\n",
    "\n",
    "df_3 = pd.merge(\n",
    "    df_2 , omr_pivot , \n",
    "    on = ['subject_id' , 'charttime'] , \n",
    "    how = 'outer'\n",
    ")\n",
    "\n",
    "df_4 = pd.merge(\n",
    "    df_3 , race , \n",
    "    on = 'subject_id' , \n",
    "    how = 'outer'\n",
    ")\n",
    "\n",
    "# sort by patient-time\n",
    "df_4.sort_values(['subject_id' , 'charttime'] , inplace = True)\n",
    "\n",
    "print(f'patients {df_4.subject_id.nunique()}')"
   ]
  },
  {
   "cell_type": "code",
   "execution_count": 11,
   "metadata": {},
   "outputs": [],
   "source": [
    "# Retain patients who do not have any presence in the charttime\n",
    "retain_pats = df_3.groupby('subject_id').agg({'charttime':'nunique'})\n",
    "retain_pats = retain_pats[retain_pats['charttime'] != 0]\n",
    "retain_pats = retain_pats.reset_index().drop('charttime', axis=1).drop_duplicates()"
   ]
  },
  {
   "cell_type": "markdown",
   "metadata": {},
   "source": [
    "#### **Get Survival Metrics**"
   ]
  },
  {
   "cell_type": "code",
   "execution_count": 12,
   "metadata": {},
   "outputs": [
    {
     "name": "stdout",
     "output_type": "stream",
     "text": [
      "subject_id       24348\n",
      "time_to_event    24348\n",
      "death            24348\n",
      "dtype: int64\n"
     ]
    }
   ],
   "source": [
    "# Retain all patients\n",
    "# Add num of ICU admits / num of admissions as covariates\n",
    "# Time of survival -> from last ICU admission to deathtime / OR first ICU admission?\n",
    "# Uncensored patients (those that experienced the event, i.e. died)\n",
    "# Find latest ICU admission\n",
    "tos_hf = all_hf_pats_0.groupby('subject_id').agg({'admittime':'min' , 'dod':'max' , 'dischtime':'max'})\n",
    "event_pats = tos_hf[tos_hf['dod'].notnull()].copy()\n",
    "event_pats['time_to_event'] = event_pats['dod'] - event_pats['admittime']\n",
    "event_pats['time_to_event'] = event_pats['time_to_event'] / np.timedelta64(1, 'D') # convert to hours\n",
    "event_pats['death'] = 1\n",
    "\n",
    "# who are the censored patients?\n",
    "non_event_pats = tos_hf[tos_hf['dod'].isnull()].copy()# For censored patients, their last follow-up was essentially their discharge time\n",
    "non_event_pats['time_to_event'] = non_event_pats['dischtime'] - non_event_pats['admittime']\n",
    "non_event_pats['time_to_event'] = non_event_pats['time_to_event'] / np.timedelta64(1, 'D') # convert to hours\n",
    "# non_event_pats['time_to_event'] = non_event_pats['time_to_event'] + 365 # is this necessary?\n",
    "non_event_pats['death'] = 0\n",
    "# non_event_pats.head(3)\n",
    "\n",
    "pats = pd.concat([non_event_pats[['time_to_event' , 'death']] , event_pats[['time_to_event' , 'death']]] , axis = 0)\n",
    "pats.reset_index(inplace = True)\n",
    "pats.sort_values('subject_id' , inplace = True)\n",
    "\n",
    "pats['time_to_event'] = pats['time_to_event'].apply(lambda x: x+1 if x==0 else x)\n",
    "# QC\n",
    "print(pats.count())\n",
    "\n",
    "# QC\n",
    "assert len(pats) == all_hf_pats_0[\"subject_id\"].nunique() , 'is not patient level table'"
   ]
  },
  {
   "cell_type": "code",
   "execution_count": 13,
   "metadata": {},
   "outputs": [
    {
     "data": {
      "image/png": "[encoded data removed]",
      "text/plain": [
       "<Figure size 640x480 with 1 Axes>"
      ]
     },
     "metadata": {},
     "output_type": "display_data"
    }
   ],
   "source": [
    "grouped = pats.groupby('death')\n",
    "\n",
    "# Plot grouped histogram\n",
    "fig, ax = plt.subplots()\n",
    "for category, group in grouped:\n",
    "    ax.hist(group['time_to_event'], label=category, alpha=0.5, bins=10 , density = True)\n",
    "\n",
    "ax.legend()\n",
    "plt.xlabel('tte')\n",
    "plt.ylabel('Frequency')\n",
    "plt.title('Grouped Histogram')\n",
    "plt.show()"
   ]
  },
  {
   "cell_type": "code",
   "execution_count": 14,
   "metadata": {},
   "outputs": [
    {
     "name": "stdout",
     "output_type": "stream",
     "text": [
      "number of patients before retaining = 24348\n",
      "number of patients after retaining = 24329\n"
     ]
    }
   ],
   "source": [
    "consolidated_pat_tbl = pd.merge(df_3 , pats , on = 'subject_id' , how = 'inner')\n",
    "print(f'number of patients before retaining = {consolidated_pat_tbl.subject_id.nunique()}')\n",
    "consolidated_pat_tbl = pd.merge(consolidated_pat_tbl , retain_pats , on = 'subject_id' , how = 'inner')\n",
    "\n",
    "# # Forwardfilling columns\n",
    "# forwardfill_cols = [\n",
    "#     'cholesterol', 'sodium', 'lymphocyte', 'hemoglobin', 'temperature', \n",
    "#     'heartrate', 'resprate', 'o2sat', 'sbp', 'dbp'\n",
    "#     ]\n",
    "\n",
    "# for col in forwardfill_cols:\n",
    "#     consolidated_pat_tbl[col] = consolidated_pat_tbl.groupby('subject_id')[col].fillna(method = 'ffill')\n",
    "\n",
    "# # na -> zero columns (Must do this AFTER backfilling!)\n",
    "# consolidated_pat_tbl.fillna(0 , inplace = True)\n",
    "\n",
    "print(f'number of patients after retaining = {consolidated_pat_tbl.subject_id.nunique()}')\n",
    "\n",
    "assert len(consolidated_pat_tbl) == len(consolidated_pat_tbl[['subject_id','charttime']].drop_duplicates()) , 'not patient-time level!'"
   ]
  },
  {
   "cell_type": "code",
   "execution_count": 15,
   "metadata": {},
   "outputs": [],
   "source": [
    "# Time difference calculation at patient level\n",
    "consolidated_pat_tbl['lag_time'] = consolidated_pat_tbl.groupby('subject_id')['charttime'].shift(1)\n",
    "consolidated_pat_tbl['timediff'] = consolidated_pat_tbl['charttime'] - consolidated_pat_tbl['lag_time']\n",
    "consolidated_pat_tbl['timediff'] = consolidated_pat_tbl['timediff'].fillna(pd.Timedelta(0))\n",
    "consolidated_pat_tbl['timediff'] = consolidated_pat_tbl['timediff']/np.timedelta64(1 , 'D')"
   ]
  },
  {
   "cell_type": "markdown",
   "metadata": {},
   "source": [
    "**Retain patients with at least n time steps**"
   ]
  },
  {
   "cell_type": "code",
   "execution_count": 16,
   "metadata": {},
   "outputs": [],
   "source": [
    "def retain_n_time_steps(df, subject_col, ts_col, n_time_steps = 10):\n",
    "    arr = df.groupby(subject_col).agg({ts_col:'count'})[ts_col]\n",
    "    \n",
    "    # Calculate the quantile value using np.quantile - patients below this quantile are rejected\n",
    "    print(f'% rejected pats {100*np.sum(arr < n_time_steps)/len(arr)}')\n",
    "    \n",
    "    _retain_pats = df.groupby(subject_col).agg({ts_col:'count'}).reset_index()\n",
    "    _retain_pats = _retain_pats[_retain_pats[ts_col] >= n_time_steps]\n",
    "\n",
    "    df_retained = pd.merge(df , _retain_pats[[subject_col]] , on = subject_col , how = 'inner')\n",
    "\n",
    "    # check operations correctness\n",
    "    assert np.sum(arr < n_time_steps)/len(arr) == (df[subject_col].nunique() - df_retained[subject_col].nunique())/df[subject_col].nunique() , 'does not match'\n",
    "    \n",
    "    return df_retained"
   ]
  },
  {
   "cell_type": "code",
   "execution_count": 17,
   "metadata": {},
   "outputs": [
    {
     "name": "stdout",
     "output_type": "stream",
     "text": [
      "% rejected pats 26.010111389699535\n"
     ]
    }
   ],
   "source": [
    "consolidated_pat_tbl_retained = retain_n_time_steps(\n",
    "    consolidated_pat_tbl.drop(['charttime','lag_time'] , axis = 1),\n",
    "    'subject_id' , 'timediff'\n",
    "    )"
   ]
  },
  {
   "cell_type": "code",
   "execution_count": 18,
   "metadata": {},
   "outputs": [],
   "source": [
    "folder_path = \"data/\"\n",
    "\n",
    "# Check if the folder exists\n",
    "if not os.path.exists(folder_path):\n",
    "    # Create the folder\n",
    "    os.makedirs(folder_path)\n",
    "\n",
    "# Pickle the DataFrame (tv -> time variant)\n",
    "with open('data/consolidated_pat_tbl_tv.pickle', 'wb') as file:\n",
    "    pickle.dump(consolidated_pat_tbl_retained, file)"
   ]
  },
  {
   "cell_type": "markdown",
   "metadata": {},
   "source": [
    "------------"
   ]
  },
  {
   "cell_type": "code",
   "execution_count": 19,
   "metadata": {},
   "outputs": [],
   "source": [
    "# _ = consolidated_pat_tbl_retained.groupby('subject_id').\\\n",
    "#          agg({'timediff':'count'}).reset_index().\\\n",
    "#          groupby('timediff').agg({'subject_id':'nunique'}).sort_values('subject_id' , ascending=False).\\\n",
    "#          reset_index()\n",
    "\n",
    "# plt.scatter(_.timediff , _.subject_id, s = 1)\n",
    "# # plt.xscale('log')"
   ]
  }
 ],
 "metadata": {
  "kernelspec": {
   "display_name": "project_env",
   "language": "python",
   "name": "python3"
  },
  "language_info": {
   "codemirror_mode": {
    "name": "ipython",
    "version": 3
   },
   "file_extension": ".py",
   "mimetype": "text/x-python",
   "name": "python",
   "nbconvert_exporter": "python",
   "pygments_lexer": "ipython3",
   "version": "3.10.7"
  },
  "orig_nbformat": 4
 },
 "nbformat": 4,
 "nbformat_minor": 2
}
