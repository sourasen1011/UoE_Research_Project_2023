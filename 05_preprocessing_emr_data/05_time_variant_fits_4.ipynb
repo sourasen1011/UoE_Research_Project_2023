{
 "cells": [
  {
   "cell_type": "markdown",
   "metadata": {},
   "source": [
    "#### **imports**"
   ]
  },
  {
   "cell_type": "code",
   "execution_count": 1,
   "metadata": {},
   "outputs": [
    {
     "name": "stderr",
     "output_type": "stream",
     "text": [
      "Using `tqdm.autonotebook.tqdm` in notebook mode. Use `tqdm.tqdm` instead to force console mode (e.g. in jupyter console)\n"
     ]
    }
   ],
   "source": [
    "import pickle\n",
    "import sys\n",
    "from collections import Counter\n",
    "from collections import OrderedDict\n",
    "import torch\n",
    "import torch.optim as optim\n",
    "from torch.optim import lr_scheduler\n",
    "from torch.optim import Optimizer\n",
    "\n",
    "from torch import Tensor\n",
    "\n",
    "import torch.nn as nn\n",
    "import torch.nn.functional as F\n",
    "from torch.nn.modules.loss import _Loss\n",
    "from torch.optim.lr_scheduler import StepLR\n",
    "from torch.utils.data import Dataset, DataLoader\n",
    "\n",
    "import pandas as pd\n",
    "import numpy as np\n",
    "from sklearn.decomposition import PCA\n",
    "from sklearn.preprocessing import StandardScaler\n",
    "import matplotlib.pyplot as plt\n",
    "from sklearn.preprocessing import OneHotEncoder\n",
    "from sklearn.preprocessing import LabelEncoder\n",
    "from sklearn.impute import SimpleImputer\n",
    "from sklearn.model_selection import ParameterGrid\n",
    "from collections import OrderedDict\n",
    "from collections import Counter\n",
    "import shap\n",
    "\n",
    "# Set the random seed\n",
    "np.random.seed(123)\n",
    "random_state = 123\n",
    "\n",
    "# Clustering\n",
    "from sklearn.cluster import KMeans\n",
    "\n",
    "# Evaluation\n",
    "from sksurv.metrics import concordance_index_ipcw, brier_score, cumulative_dynamic_auc\n",
    "\n",
    "# Add the outer directory\n",
    "sys.path.append('../')\n",
    "from eval_surv_copy import EvalSurv"
   ]
  },
  {
   "cell_type": "markdown",
   "metadata": {},
   "source": [
    "#### **Load Data**"
   ]
  },
  {
   "cell_type": "code",
   "execution_count": 2,
   "metadata": {},
   "outputs": [],
   "source": [
    "# Read the pickled DataFrames\n",
    "with open('data/x_train_reshape_tv.pickle', 'rb') as file:\n",
    "    x_train_reshape_tv = pickle.load(file)\n",
    "with open('data/x_test_reshape_tv.pickle', 'rb') as file:\n",
    "    x_test_reshape_tv = pickle.load(file)\n",
    "with open('data/x_val_reshape_tv.pickle', 'rb') as file:\n",
    "    x_val_reshape_tv = pickle.load(file)\n",
    "\n",
    "# Read the pickled targets\n",
    "with open('data/y_train.pickle', 'rb') as file:\n",
    "    y_train = pickle.load(file)\n",
    "with open('data/y_test.pickle', 'rb') as file:\n",
    "    y_test = pickle.load(file)\n",
    "with open('data/y_val.pickle', 'rb') as file:\n",
    "    y_val = pickle.load(file)\n",
    "\n",
    "# Read the pickled DataFrame\n",
    "with open('data/consolidated_pat_tbl_tv.pickle', 'rb') as file:\n",
    "    consolidated_pat_tbl_tv = pickle.load(file)"
   ]
  },
  {
   "cell_type": "markdown",
   "metadata": {},
   "source": [
    "#### **Survival Prediction**"
   ]
  },
  {
   "cell_type": "code",
   "execution_count": 3,
   "metadata": {},
   "outputs": [],
   "source": [
    "class generic_Loss(torch.nn.Module):\n",
    "    '''\n",
    "    Generic Loss Function\n",
    "    '''\n",
    "    def __init__(self, reduction: str = 'mean') -> None:\n",
    "        super().__init__()\n",
    "        self.reduction = reduction\n",
    "\n",
    "    def nll_logistic_hazard(self , logits , targets , dur_idx):\n",
    "        '''\n",
    "        logits - parameterized inv.logit(hazards) from nn\n",
    "        targets - survival matrix \n",
    "        '''\n",
    "        logits = torch.Tensor(logits)\n",
    "        targets = torch.Tensor(targets)\n",
    "        dur_idx = torch.Tensor(dur_idx).to(torch.int64).view(-1 , 1)\n",
    "\n",
    "        loss = F.binary_cross_entropy_with_logits(input = logits , target = targets , reduction = 'none')\n",
    "        \n",
    "        assert loss.shape == targets.shape , 'must match'\n",
    "\n",
    "        # cumulative hazards\n",
    "        loss = loss.cumsum(1)\n",
    "        loss = loss.gather(1, dur_idx)\n",
    "        \n",
    "        return loss.view(-1).mean()"
   ]
  },
  {
   "cell_type": "code",
   "execution_count": 4,
   "metadata": {},
   "outputs": [],
   "source": [
    "class Net(nn.Module):\n",
    "    def __init__(self , fc_input_size, hidden_size , output_size , dropout_rate = 0.1):\n",
    "        super(Net , self).__init__()\n",
    "        self.conv_net = nn.Sequential(\n",
    "            nn.Conv2d(1, 14, kernel_size = 3 , stride = 1 , padding = 1) , nn.ReLU() , \n",
    "            nn.Conv2d(14, 7, kernel_size = 3 , stride = 1 , padding = 1) , nn.ReLU() ,\n",
    "            nn.Flatten()\n",
    "        )\n",
    "        \n",
    "        # self.lstm = nn.LSTM(input_size, hidden_size, batch_first=True)\n",
    "\n",
    "        self.fc = nn.Sequential(\n",
    "            nn.Linear(fc_input_size, hidden_size), nn.ReLU(), nn.BatchNorm1d(hidden_size), nn.Dropout(dropout_rate),\n",
    "            nn.Linear(hidden_size, hidden_size), nn.ReLU(), nn.BatchNorm1d(hidden_size), nn.Dropout(dropout_rate),\n",
    "            nn.Linear(hidden_size, output_size)\n",
    "        )\n",
    "\n",
    "    def forward(self , x):\n",
    "        # forward pass\n",
    "        output = self.fc(self.conv_net(torch.Tensor(x).to(torch.float32)))\n",
    "        return output"
   ]
  },
  {
   "cell_type": "code",
   "execution_count": 5,
   "metadata": {},
   "outputs": [],
   "source": [
    "class MyDataset_MLP(Dataset):\n",
    "    '''\n",
    "    simple data set class\n",
    "    '''\n",
    "    def __init__(self, features, durations, events):\n",
    "        self.data = features\n",
    "        self.durations = durations\n",
    "        self.events = events\n",
    "        assert self.data.shape[0] == self.durations.shape[0] == self.events.shape[0] , 'shapes must match!'\n",
    "\n",
    "    def __len__(self):\n",
    "        return len(self.data)\n",
    "\n",
    "    def __getitem__(self, index):\n",
    "        cov = self.data[index] # covariates\n",
    "        dur = self.durations[index] # durations\n",
    "        eve = self.events[index] # events\n",
    "        return cov , dur , eve"
   ]
  },
  {
   "cell_type": "code",
   "execution_count": 6,
   "metadata": {},
   "outputs": [],
   "source": [
    "class Surv_Matrix:\n",
    "    def __init__(self , duration_index , events , q_cuts=10):\n",
    "        self.duration_index = duration_index\n",
    "        self.events = events\n",
    "        self.q_cuts = q_cuts\n",
    "    \n",
    "    def make_survival_matrix(self):\n",
    "        '''\n",
    "        converts durations and index into a matrix denoting time of event\n",
    "        this is the y_ij matrix as shown in Kvamme's paper\n",
    "        '''\n",
    "        self.surv_matrix = torch.eye(self.q_cuts)[self.duration_index] \n",
    "        self.surv_matrix = self.surv_matrix*self.events.reshape(-1 , 1) # censoring mask\n",
    "        return self.surv_matrix"
   ]
  },
  {
   "cell_type": "code",
   "execution_count": 7,
   "metadata": {},
   "outputs": [],
   "source": [
    "class Transforms:\n",
    "    def __init__(self , durations):\n",
    "        self.durations = durations\n",
    "        \n",
    "    def discrete_transform(self , _cuts):\n",
    "        '''\n",
    "        cut at even spaces\n",
    "        '''\n",
    "        self.bin_edges = np.linspace(self.durations.min() , self.durations.max() , _cuts) # right-side edges of the bins\n",
    "        self.duration_index = np.searchsorted(a = self.bin_edges , v = self.durations)\n",
    "        self.n_duration_index = self.duration_index.max()+1\n",
    "        # print(self.n_duration_index)\n",
    "        assert self.n_duration_index == _cuts , 'must match'\n",
    "        return self.duration_index"
   ]
  },
  {
   "cell_type": "code",
   "execution_count": 8,
   "metadata": {},
   "outputs": [],
   "source": [
    "q_cuts = 15 # number of discretized durations\n",
    "\n",
    "# Prepare val and test data\n",
    "get_target = lambda df: (df['time_to_event'].values, df['death'].values)\n",
    "\n",
    "y_train_dur , y_train_event = get_target(y_train)\n",
    "\n",
    "y_test_dur , y_test_event = get_target(y_test)\n",
    "t_test = Transforms(durations = y_test_dur)\n",
    "dur_idx_test = t_test.discrete_transform(_cuts = q_cuts)"
   ]
  },
  {
   "cell_type": "code",
   "execution_count": 9,
   "metadata": {},
   "outputs": [
    {
     "name": "stdout",
     "output_type": "stream",
     "text": [
      "6300\n"
     ]
    }
   ],
   "source": [
    "# input_size = num_principal_components\n",
    "input_size = 7*x_train_reshape_tv.shape[2]*x_train_reshape_tv.shape[3]\n",
    "print(input_size)\n",
    "hidden_size = 32\n",
    "output_size = t_test.n_duration_index\n",
    "\n",
    "# Create a data loader for batching and shuffling\n",
    "batch_size = 512\n",
    "num_epochs = 500\n",
    "learning_rate = 0.001\n",
    "shuffle = True\n",
    "patience = 20\n",
    "dropout = 0.5\n",
    "\n",
    "# build net\n",
    "net = Net(input_size , hidden_size , output_size , dropout_rate = dropout)\n",
    "# init optim\n",
    "optimizer = torch.optim.Adam(net.parameters() , lr = learning_rate)"
   ]
  },
  {
   "cell_type": "code",
   "execution_count": 10,
   "metadata": {},
   "outputs": [
    {
     "name": "stdout",
     "output_type": "stream",
     "text": [
      "Epoch 0: Training Loss: 2.9405 , Val loss: 2.8881\n",
      "Epoch 50: Training Loss: 1.0842 , Val loss: 1.3127\n",
      "Epoch 100: Training Loss: 0.9441 , Val loss: 1.2877\n",
      "Epoch 150: Training Loss: 0.9211 , Val loss: 1.4337\n",
      "Epoch 200: Training Loss: 0.7615 , Val loss: 1.3870\n",
      "Epoch 250: Training Loss: 0.7650 , Val loss: 1.3550\n",
      "Epoch 300: Training Loss: 0.7984 , Val loss: 1.4144\n",
      "Epoch 350: Training Loss: 0.7540 , Val loss: 1.4666\n",
      "Epoch 400: Training Loss: 0.6589 , Val loss: 1.4059\n",
      "Epoch 450: Training Loss: 0.7172 , Val loss: 1.4791\n"
     ]
    }
   ],
   "source": [
    "# init loss\n",
    "l = generic_Loss()\n",
    "\n",
    "# init loss for early stopping\n",
    "best_loss = np.Inf\n",
    "\n",
    "# get features\n",
    "features = x_train_reshape_tv\n",
    "\n",
    "# get death time and event indicator\n",
    "y_train_dur , y_train_event = get_target(y_train)\n",
    "\n",
    "t_train = Transforms(durations = y_train_dur)\n",
    "dur_idx = t_train.discrete_transform(_cuts = q_cuts)\n",
    "    \n",
    "# Create an instance of your custom dataset\n",
    "dataset = MyDataset_MLP(features, dur_idx , y_train_event) # need to change outcomes[0] to indexed version\n",
    "dataloader = DataLoader(dataset, batch_size=batch_size, shuffle=shuffle)\n",
    "\n",
    "# Training loop\n",
    "for epoch in range(num_epochs):\n",
    "    for batch_id , (patient_image , dur , eve) in enumerate(dataloader):\n",
    "        # Prime for training\n",
    "        net.train()\n",
    "            \n",
    "        # forward pass\n",
    "        phi_train = net(patient_image)\n",
    "\n",
    "        # make survival matrix\n",
    "        sm = Surv_Matrix(duration_index = dur, events = eve , q_cuts = q_cuts)\n",
    "        surv_mat = sm.make_survival_matrix()        \n",
    "\n",
    "        # get loss\n",
    "        loss = l.nll_logistic_hazard(logits = phi_train , targets = surv_mat , dur_idx = dur)\n",
    "\n",
    "        # backward pass\n",
    "        optimizer.zero_grad()\n",
    "        loss.backward()\n",
    "        optimizer.step()\n",
    "            \n",
    "        # Early stopping\n",
    "        with torch.no_grad():\n",
    "            # get duration, event\n",
    "            y_val_dur , y_val_event = get_target(y_val)\n",
    "                \n",
    "            # transform to discrete\n",
    "            t_val = Transforms(durations = y_val_dur)\n",
    "            dur_idx_val = t_val.discrete_transform(_cuts = q_cuts)\n",
    "                \n",
    "            # build surv matrix for val data\n",
    "            sm_val = Surv_Matrix(duration_index = dur_idx_val , events = y_val_event , q_cuts = q_cuts)\n",
    "            surv_mat_val = sm_val.make_survival_matrix()\n",
    "                \n",
    "            # compute loss\n",
    "            phi_val = net(torch.Tensor(x_val_reshape_tv))\n",
    "            val_loss = l.nll_logistic_hazard(logits = phi_val, targets = surv_mat_val , dur_idx = dur_idx_val)\n",
    "            \n",
    "        # Check if validation loss has improved\n",
    "        if val_loss < best_loss:\n",
    "            best_loss = val_loss\n",
    "            counter = 0\n",
    "        else:\n",
    "            counter += 1\n",
    "\n",
    "        # Check if early stopping condition is met\n",
    "        if counter >= patience:\n",
    "            # print(f\"Early stopping at epoch {epoch}.\")\n",
    "            break\n",
    "\n",
    "    if (epoch%50==0): print(f'''Epoch {epoch}: Training Loss: {loss.item():.4f} , Val loss: {val_loss.item():.4f}''') "
   ]
  },
  {
   "cell_type": "markdown",
   "metadata": {},
   "source": [
    "**Testing**"
   ]
  },
  {
   "cell_type": "code",
   "execution_count": 11,
   "metadata": {},
   "outputs": [],
   "source": [
    "# Testing\n",
    "surv = [] # length will be equal to number of cluster\n",
    "mc_iter = 50\n",
    "\n",
    "# get features, death time and event indicator\n",
    "features = torch.Tensor(x_test_reshape_tv)\n",
    "    \n",
    "# get death time and event indicator\n",
    "y_test_dur , y_test_event = get_target(y_test)\n",
    "\n",
    "surv = []\n",
    "\n",
    "# apply Monte Carlo dropout\n",
    "for _ in range(mc_iter):\n",
    "        \n",
    "    # Prime dropout layers\n",
    "    net.train()\n",
    "        \n",
    "    # predict\n",
    "    mc_haz = torch.sigmoid(net(features))\n",
    "    mc_survival = torch.log(1 - mc_haz).cumsum(1).exp().detach().numpy()\n",
    "\n",
    "    # append survivals from different runs\n",
    "    surv.append(mc_survival)\n",
    "    \n",
    "# convert to 3d array\n",
    "surv = np.array(surv)\n",
    "\n",
    "# get stats\n",
    "mean_ = np.mean(surv , axis = 0)\n",
    "up_ = np.quantile(surv , axis = 0 , q = 0.95)\n",
    "low_ = np.quantile(surv , axis = 0 , q = 0.05)\n",
    "\n",
    "# QCs\n",
    "assert mean_.shape[0] == up_.shape[0] == low_.shape[0] == y_test_dur.shape[0] == y_test_event.shape[0] , 'shape mismatch'"
   ]
  },
  {
   "cell_type": "code",
   "execution_count": 12,
   "metadata": {},
   "outputs": [],
   "source": [
    "def plot_with_cf(mean_ , low_ , up_ , _from , _to = None):\n",
    "    if _to is not None:\n",
    "        for _ , (m , l , u) in enumerate(zip(mean_[_from:_to] , low_[_from:_to] , up_[_from:_to])):\n",
    "            plt.step(t_test.bin_edges , m , where = 'post' , label = 'mean' , color = 'C0');\n",
    "            plt.fill_between(t_test.bin_edges , l , u , step = 'post' , alpha = 0.01 , label = 'confint' , color = 'C0');\n",
    "    else:\n",
    "        m , l , u = mean_[_from] , low_[_from] , up_[_from]\n",
    "        plt.step(t_test.bin_edges , m , where = 'post' , label = 'mean' , color = 'C0');\n",
    "        plt.fill_between(t_test.bin_edges , l , u , step = 'post' , alpha = 0.01 , label = 'confint' , color = 'C0');"
   ]
  },
  {
   "cell_type": "code",
   "execution_count": 13,
   "metadata": {},
   "outputs": [
    {
     "data": {
      "image/png": "[encoded data removed]",
      "text/plain": [
       "<Figure size 640x480 with 1 Axes>"
      ]
     },
     "metadata": {},
     "output_type": "display_data"
    }
   ],
   "source": [
    "plot_with_cf(mean_ , low_ , up_ , _from = 2 , _to = 10)"
   ]
  },
  {
   "cell_type": "code",
   "execution_count": 14,
   "metadata": {},
   "outputs": [
    {
     "name": "stdout",
     "output_type": "stream",
     "text": [
      "shapes : (1180, 1180, 1180, 1180)\n",
      "concordance-td: 0.6679492780705033\n",
      "integrated brier score 0.4606053762277533\n"
     ]
    },
    {
     "data": {
      "image/png": "[encoded data removed]",
      "text/plain": [
       "<Figure size 640x480 with 1 Axes>"
      ]
     },
     "metadata": {},
     "output_type": "display_data"
    }
   ],
   "source": [
    "# Evaluation\n",
    "\n",
    "ev_ = EvalSurv(pd.DataFrame(mean_.T) , y_test_dur , y_test_event , censor_surv='km')\n",
    "print(f'concordance-td: {ev_.concordance_td()}')\n",
    "\n",
    "time_grid = np.linspace(y_test_dur.min(), y_test_dur.max(), 100)\n",
    "ev_.brier_score(time_grid).plot()\n",
    "plt.ylabel('Brier score')\n",
    "_ = plt.xlabel('Time')\n",
    "\n",
    "print(f'integrated brier score {ev_.integrated_brier_score(time_grid) }')"
   ]
  },
  {
   "cell_type": "markdown",
   "metadata": {},
   "source": [
    "-----------------"
   ]
  },
  {
   "cell_type": "markdown",
   "metadata": {},
   "source": [
    "## **JUNK**"
   ]
  },
  {
   "cell_type": "code",
   "execution_count": null,
   "metadata": {},
   "outputs": [],
   "source": [
    "# def make_tensor_3d(array_of_tensors):\n",
    "#     num_tensors = len(array_of_tensors)\n",
    "#     rows, columns = array_of_tensors[0].shape\n",
    "\n",
    "#     resulting_3d_tensor = torch.zeros((num_tensors, rows, columns))\n",
    "\n",
    "#     for i, tensor in enumerate(array_of_tensors):\n",
    "#         resulting_3d_tensor[i, :, :] = tensor\n",
    "    \n",
    "#     return resulting_3d_tensor\n",
    "\n",
    "# x_train_reshape_tv = make_tensor_3d(x_train_reshape_tv)\n",
    "# x_test_reshape_tv = make_tensor_3d(x_test_reshape_tv)\n",
    "# x_val_reshape_tv = make_tensor_3d(x_val_reshape_tv)\n",
    "\n",
    "# # Reshape\n",
    "# def reshape_df(tensor):\n",
    "#     return tensor.view(tensor.shape[0] , 1 , tensor.shape[1] , tensor.shape[2])\n",
    "\n",
    "# x_train_reshape_tv = reshape_df(x_train_reshape_tv)\n",
    "# x_test_reshape_tv = reshape_df(x_test_reshape_tv)\n",
    "# x_val_reshape_tv = reshape_df(x_val_reshape_tv)"
   ]
  },
  {
   "cell_type": "code",
   "execution_count": null,
   "metadata": {},
   "outputs": [],
   "source": [
    "# # Define the RNN Autoencoder model\n",
    "# class RNN_AE(nn.Module):\n",
    "#     def __init__(self, input_size, hidden_size, bottleneck_size):\n",
    "#         super(RNN_AE, self).__init__()\n",
    "#         self.hidden_size = hidden_size\n",
    "        \n",
    "#         # RNN Encoder\n",
    "#         self.rnn = nn.RNN(input_size, hidden_size, batch_first=True)\n",
    "        \n",
    "#         # Bottleneck layer\n",
    "#         self.encoder = nn.Linear(hidden_size, bottleneck_size)\n",
    "        \n",
    "#         # Autoencoder Decoder\n",
    "#         self.decoder = nn.Sequential(\n",
    "#             nn.Linear(bottleneck_size, hidden_size),\n",
    "#             nn.ReLU(),\n",
    "#             nn.Linear(hidden_size, input_size)\n",
    "#         )\n",
    "\n",
    "#     def forward(self, x):\n",
    "#         # RNN Encoder\n",
    "#         rnn_output, _ = self.rnn(x)\n",
    "        \n",
    "#         # Bottleneck Layer\n",
    "#         encoded_output = self.encoder(rnn_output)\n",
    "        \n",
    "#         # Autoencoder Decoder\n",
    "#         decoded_output = self.decoder(encoded_output)\n",
    "        \n",
    "#         return encoded_output , decoded_output"
   ]
  },
  {
   "cell_type": "code",
   "execution_count": null,
   "metadata": {},
   "outputs": [],
   "source": [
    "# input_size = 91\n",
    "# hidden_size = 100\n",
    "# bottleneck_size = 46\n",
    "\n",
    "# # Model Initialization\n",
    "# model = RNN_AE(input_size, hidden_size, bottleneck_size)\n",
    " \n",
    "# # Validation using MSE Loss function\n",
    "# loss_function = torch.nn.MSELoss()\n",
    " \n",
    "# # Using an Adam Optimizer with lr = 0.1\n",
    "# optimizer = torch.optim.Adam(model.parameters(),\n",
    "#                              lr = 1e-1,\n",
    "#                              weight_decay = 1e-8)"
   ]
  },
  {
   "cell_type": "code",
   "execution_count": null,
   "metadata": {},
   "outputs": [],
   "source": [
    "# enc , dec = model(torch.Tensor(x_train_reshape_tv[1000]))\n",
    "# enc.shape , dec.shape"
   ]
  },
  {
   "cell_type": "code",
   "execution_count": null,
   "metadata": {},
   "outputs": [],
   "source": [
    "# # # %%time\n",
    "\n",
    "# # # # def get_spca(L , M , k):\n",
    "# # # #     # normalize\n",
    "# # # #     L_ = L/np.linalg.norm(L , axis = 0)\n",
    "# # # #     M_ = M/np.linalg.norm(M , axis = 0)\n",
    "# # # #     # get spca\n",
    "# # # #     s_pca = np.trace(L_@M_.T@M_@L_.T)/k\n",
    "# # # #     return s_pca\n",
    "\n",
    "# # # # pca_transforms = []\n",
    "# # # # n_components = 1\n",
    "\n",
    "# # # # for idx , x in enumerate(x_train_reshape_tv):\n",
    "# # # #     pca = PCA(n_components = n_components , svd_solver = 'arpack') # encourage sparse solutions\n",
    "# # # #     pca_transform_x = pca.fit_transform(x)\n",
    "# # # #     # store in list\n",
    "# # # #     pca_transforms.append(pca_transform_x)\n",
    "# # # # # form an array (optional)\n",
    "# # # # pca_transforms_arr = np.array(pca_transforms , dtype = 'object')\n",
    "\n",
    "# # # # assert len(pca_transforms_arr) == len(x_train_reshape_tv) , 'lengths must match'\n",
    "\n",
    "# # # # # Create a square distance matrix\n",
    "# # # # distance_matrix = np.zeros((len(pca_transforms_arr) , len(pca_transforms_arr)))\n",
    "\n",
    "# # # # for i in range(len(pca_transforms_arr)):\n",
    "# # # #     for j in range(i , len(pca_transforms_arr)):\n",
    "# # # #         distance_matrix[i,j] = get_spca(L = pca_transforms_arr[i] , M = pca_transforms_arr[j] , k = n_components)\n",
    "# # # #         distance_matrix[j,i] = distance_matrix[i,j]\n",
    "\n",
    "# # # # L = np.random.randn(3,3)\n",
    "# # # # M = np.random.randn(40,3)\n",
    "# # # # get_spca(L , M , 5)\n",
    "# # # pca.components_\n",
    "\n",
    "# # import pickle\n",
    "# # # Pickle the DataFrame\n",
    "# # with open('data/distance_matrix_train_.pickle', 'wb') as file:\n",
    "# #     pickle.dump(distance_matrix, file)\n",
    "# # Read the pickled DataFrames\n",
    "# with open('data/distance_matrix_train_.pickle', 'rb') as file:\n",
    "#     distance_matrix_train_ = pickle.load(file)"
   ]
  },
  {
   "cell_type": "code",
   "execution_count": null,
   "metadata": {},
   "outputs": [],
   "source": [
    "class MLP(nn.Module):\n",
    "#     def __init__(self , input_size , hidden_size , output_size , dropout_rate = 0.1):\n",
    "#         super(MLP , self).__init__()\n",
    "\n",
    "#         # Define the dimensions of the RNN\n",
    "#         self.input_size = input_size\n",
    "#         self.hidden_size = hidden_size\n",
    "#         self.output_size = output_size\n",
    "\n",
    "#         self.rnn = nn.RNN(self.input_size, self.hidden_size, batch_first=True)\n",
    "        \n",
    "#         # Feed-forward nn\n",
    "#         self.fc = nn.Sequential( \n",
    "#             nn.BatchNorm1d(hidden_size), \n",
    "#             nn.Dropout(dropout_rate),\n",
    "#             nn.Linear(hidden_size , hidden_size),\n",
    "#             nn.ReLU(),\n",
    "#             nn.Linear(hidden_size, output_size)\n",
    "#         )\n",
    "\n",
    "#     def forward(self, x):\n",
    "#         # Initialize the hidden state\n",
    "#         h0 = torch.zeros(1, x.size(0), self.hidden_size)#.to(x.device)\n",
    "\n",
    "#         # Forward pass through the RNN layer\n",
    "#         out, _ = self.rnn(x, h0)\n",
    "        \n",
    "#         # Get the output from the last time step\n",
    "#         out = self.fc(out[:, -1, :])\n",
    "\n",
    "#         return out"
   ]
  }
 ],
 "metadata": {
  "kernelspec": {
   "display_name": "project_env",
   "language": "python",
   "name": "python3"
  },
  "language_info": {
   "codemirror_mode": {
    "name": "ipython",
    "version": 3
   },
   "file_extension": ".py",
   "mimetype": "text/x-python",
   "name": "python",
   "nbconvert_exporter": "python",
   "pygments_lexer": "ipython3",
   "version": "3.10.7"
  },
  "orig_nbformat": 4
 },
 "nbformat": 4,
 "nbformat_minor": 2
}
