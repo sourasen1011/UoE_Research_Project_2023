{
 "cells": [
  {
   "cell_type": "code",
   "execution_count": 26,
   "metadata": {},
   "outputs": [],
   "source": [
    "# # imports\n",
    "# import psycopg2\n",
    "import numpy as np\n",
    "import pandas as pd\n",
    "import json\n",
    "from sqlalchemy import create_engine\n",
    "import matplotlib.pyplot as plt\n",
    "from scipy import interpolate"
   ]
  },
  {
   "cell_type": "code",
   "execution_count": 27,
   "metadata": {},
   "outputs": [],
   "source": [
    "# access creds\n",
    "with open('../psql_key.json') as file:\n",
    "    creds = json.load(file)\n",
    "\n",
    "# Create an SQLAlchemy engine with the PostgreSQL database URI\n",
    "engine = create_engine(f\"postgresql+psycopg2://{creds['user']}:{creds['password']}@{creds['host']}:{creds['port']}/{creds['database']}\")"
   ]
  },
  {
   "cell_type": "code",
   "execution_count": 28,
   "metadata": {},
   "outputs": [
    {
     "name": "stdout",
     "output_type": "stream",
     "text": [
      "15628\n"
     ]
    },
    {
     "data": {
      "text/html": [
       "<div>\n",
       "<style scoped>\n",
       "    .dataframe tbody tr th:only-of-type {\n",
       "        vertical-align: middle;\n",
       "    }\n",
       "\n",
       "    .dataframe tbody tr th {\n",
       "        vertical-align: top;\n",
       "    }\n",
       "\n",
       "    .dataframe thead th {\n",
       "        text-align: right;\n",
       "    }\n",
       "</style>\n",
       "<table border=\"1\" class=\"dataframe\">\n",
       "  <thead>\n",
       "    <tr style=\"text-align: right;\">\n",
       "      <th></th>\n",
       "      <th>subject_id</th>\n",
       "      <th>hadm_id</th>\n",
       "      <th>admittime</th>\n",
       "      <th>dischtime</th>\n",
       "      <th>gender</th>\n",
       "      <th>anchor_age</th>\n",
       "      <th>dod</th>\n",
       "      <th>BMI (kg/m2)</th>\n",
       "      <th>Height (Inches)</th>\n",
       "      <th>Weight (Lbs)</th>\n",
       "    </tr>\n",
       "  </thead>\n",
       "  <tbody>\n",
       "    <tr>\n",
       "      <th>0</th>\n",
       "      <td>18591383</td>\n",
       "      <td>20057039</td>\n",
       "      <td>2183-06-21</td>\n",
       "      <td>2183-06-22</td>\n",
       "      <td>M</td>\n",
       "      <td>81</td>\n",
       "      <td>2185-04-04</td>\n",
       "      <td>21.1</td>\n",
       "      <td>66</td>\n",
       "      <td>131</td>\n",
       "    </tr>\n",
       "    <tr>\n",
       "      <th>1</th>\n",
       "      <td>18591383</td>\n",
       "      <td>23411231</td>\n",
       "      <td>2184-06-16</td>\n",
       "      <td>2184-07-02</td>\n",
       "      <td>M</td>\n",
       "      <td>81</td>\n",
       "      <td>2185-04-04</td>\n",
       "      <td>21.1</td>\n",
       "      <td>66</td>\n",
       "      <td>131</td>\n",
       "    </tr>\n",
       "  </tbody>\n",
       "</table>\n",
       "</div>"
      ],
      "text/plain": [
       "   subject_id   hadm_id   admittime   dischtime gender  anchor_age  \\\n",
       "0    18591383  20057039  2183-06-21  2183-06-22      M          81   \n",
       "1    18591383  23411231  2184-06-16  2184-07-02      M          81   \n",
       "\n",
       "          dod BMI (kg/m2) Height (Inches) Weight (Lbs)  \n",
       "0  2185-04-04        21.1              66          131  \n",
       "1  2185-04-04        21.1              66          131  "
      ]
     },
     "execution_count": 28,
     "metadata": {},
     "output_type": "execute_result"
    }
   ],
   "source": [
    "# these diag codes were taken from table mimiciv_hosp.d_icd_diagnoses\n",
    "hf_codes = '''('39891','40200','40201','40210','40211','40290','40291','40400','40401','40402','40403','40410','40411','40412',\n",
    "'40413','40490','40491','40492','40493','4280','4281','42820','42821','42822','42823','42830','42831','42832','42833','42840','42841',\n",
    "'42842','42843','4289','E8726','E8745','I0981','I110','I119','I130','I131','I1310','I1311','I132','I50','I501','I502','I5020','I5021','I5022',\n",
    "'I5023','I503','I5030','I5031','I5032','I5033','I504','I5040','I5041','I5042','I5043','I508','I5081','I50810','I50811','I50812','I50813','I50814',\n",
    "'I5082','I5083','I5084','I5089','I509','I9713','I97130','I97131','T8622','T8632','Y625')'''\n",
    "\n",
    "# get all admissions related to HF codes\n",
    "query = f'''\n",
    "select distinct a.subject_id , a.hadm_id , a.admittime , a.dischtime , p.gender , p.anchor_age , p.dod\n",
    "from (select hadm_id from mimiciv_hosp.diagnoses_icd where icd_code in {hf_codes}) d\n",
    "inner join (select * from mimiciv_hosp.admissions) a\n",
    "on a.hadm_id = d.hadm_id\n",
    "inner join (select * from mimiciv_hosp.patients) p\n",
    "on p.subject_id = a.subject_id\n",
    "'''\n",
    "\n",
    "all_hf_pats_0 = pd.read_sql_query(query , engine)\n",
    "\n",
    "all_hf_pats_0['dod'] = pd.to_datetime(all_hf_pats_0['dod']).dt.date\n",
    "all_hf_pats_0['admittime'] = all_hf_pats_0['admittime'].dt.date\n",
    "all_hf_pats_0['dischtime'] = all_hf_pats_0['dischtime'].dt.date\n",
    "\n",
    "# Get online medical record data (OMR)\n",
    "reqd_results = (\"BMI (kg/m2)\" , \"Height (Inches)\" , \"Weight (Lbs)\") # Not including BP as I can get it from vitalsigns  \n",
    "q = f'''select * from mimiciv_hosp.omr where result_name in {reqd_results}'''\n",
    "\n",
    "omr = pd.read_sql_query(q , engine)\n",
    "# omr_pivot = pd.read_sql_query(q , engine)\n",
    "omr_first = omr.sort_values(['subject_id' , 'chartdate'] , ascending = True).groupby(['subject_id' , 'result_name']).first().reset_index()\n",
    "omr_pivot = omr_first.pivot(index = 'subject_id', columns = 'result_name' , values = 'result_value').reset_index()\n",
    "omr_pivot.dropna(inplace = True)\n",
    "\n",
    "# Join\n",
    "all_hf_pats = pd.merge(all_hf_pats_0 , omr_pivot , on = 'subject_id' , how = 'inner')\n",
    "\n",
    "# QC\n",
    "print(all_hf_pats['subject_id'].nunique())\n",
    "all_hf_pats.head(2)"
   ]
  },
  {
   "cell_type": "code",
   "execution_count": 29,
   "metadata": {},
   "outputs": [],
   "source": [
    "# RACE\n",
    "q = '''\n",
    "select subject_id , race , count(race) as c_race\n",
    "from mimiciv_hosp.admissions\n",
    "group by subject_id , race\n",
    "order by c_race desc\n",
    "'''\n",
    "\n",
    "race_0 = pd.read_sql_query(q , engine)\n",
    "race = race_0.groupby('subject_id').first().reset_index().drop('c_race' , axis = 1)\n",
    "\n",
    "# QC\n",
    "assert len(race) == race_0[\"subject_id\"].nunique() , 'is not patient level table'"
   ]
  },
  {
   "cell_type": "code",
   "execution_count": 30,
   "metadata": {},
   "outputs": [],
   "source": [
    "# LAB\n",
    "q = '''\n",
    "select b.subject_id , b.itemid , avg(b.valuenum) as val\n",
    "from\n",
    "(select * from mimiciv_hosp.labevents a \n",
    "where a.itemid = 50907 or a.itemid = 50983\n",
    "or a.itemid = 50855 or a.itemid = 51133\n",
    ") b\n",
    "group by b.subject_id , b.itemid\n",
    "'''\n",
    "\n",
    "bloodwork_0 = pd.read_sql_query(q , engine)\n",
    "\n",
    "bloodwork = bloodwork_0.pivot(index = 'subject_id' , columns = 'itemid' , values = 'val').reset_index()\n",
    "bloodwork.head()\n",
    "\n",
    "# QC\n",
    "assert len(bloodwork) == bloodwork_0[\"subject_id\"].nunique() , 'is not patient level table'"
   ]
  },
  {
   "cell_type": "code",
   "execution_count": 87,
   "metadata": {},
   "outputs": [
    {
     "name": "stdout",
     "output_type": "stream",
     "text": [
      "(97088, 7221)\n"
     ]
    }
   ],
   "source": [
    "# MEDICATION\n",
    "hadm_id_list = \"('\"+\"','\".join(list(all_hf_pats['hadm_id'].unique().astype('str')))+\"')\"\n",
    "hadm_id_list\n",
    "\n",
    "q = f'''\n",
    "select a.* from\n",
    "(\n",
    "    select * , lower(medication) as l_medication from mimiciv_hosp.emar\n",
    "    where  hadm_id::VARCHAR in {hadm_id_list}\n",
    ") a\n",
    "where a.l_medication in ('amlodipine','diltiazem','felodipine','isradipine','nicardipine',\n",
    "'nifedipine','nisoldipine','verapamil','azilsartan','candesartan','eprosartan','irbesartan',\n",
    "'losartan','olmesartan','telmisartan','valsartan','benazepril','captopril','enalapril','fosinopril',\n",
    "'lisinopril','moexipril','perindopril','quinapril','ramipril','trandolapril','acebutolol','atenolol',\n",
    "'bisoprolol','metoprolol','nadolol','nebivolol','propranolol')\n",
    "and a.event_txt = 'Administered'\n",
    "'''\n",
    "\n",
    "medication = pd.read_sql_query(q , engine)\n",
    "print(f'{len(medication) , medication.subject_id.nunique()}')\n",
    "# medication.head(2)\n",
    "medication_pivot = medication.pivot_table(index = 'subject_id' , columns = 'medication' , values = 'hadm_id' , aggfunc = 'count').fillna(0)\n",
    "\n",
    "# QC\n",
    "assert len(medication_pivot) == medication[\"subject_id\"].nunique() , 'is not patient level table'"
   ]
  },
  {
   "cell_type": "code",
   "execution_count": 77,
   "metadata": {},
   "outputs": [],
   "source": [
    "# QC\n",
    "_df = pd.DataFrame(medication_pivot.sum(axis = 1) , columns = ['check'])\n",
    "assert len(_df[_df['check'] == 0])==0 # checks if at least one patient has taken none of these drugs!"
   ]
  },
  {
   "cell_type": "markdown",
   "metadata": {},
   "source": [
    "### **Joining**"
   ]
  },
  {
   "cell_type": "code",
   "execution_count": 84,
   "metadata": {},
   "outputs": [
    {
     "name": "stdout",
     "output_type": "stream",
     "text": [
      "patients 7217\n"
     ]
    }
   ],
   "source": [
    "df_1 = pd.merge(\n",
    "    all_hf_pats , race , \n",
    "    on = 'subject_id' , \n",
    "    how = 'inner'\n",
    ")\n",
    "\n",
    "df_2 = pd.merge(\n",
    "    df_1 , bloodwork , \n",
    "    on = 'subject_id' , \n",
    "    how = 'inner'\n",
    ")\n",
    "\n",
    "df_3 = pd.merge(\n",
    "    df_2 , medication_pivot , \n",
    "    on = 'subject_id' , \n",
    "    how = 'inner'\n",
    ")\n",
    "\n",
    "print(f'patients {df_3.subject_id.nunique()}')"
   ]
  },
  {
   "cell_type": "code",
   "execution_count": 86,
   "metadata": {},
   "outputs": [
    {
     "data": {
      "text/plain": [
       "Index([     'subject_id',         'hadm_id',       'admittime',\n",
       "             'dischtime',          'gender',      'anchor_age',\n",
       "                   'dod',     'BMI (kg/m2)', 'Height (Inches)',\n",
       "          'Weight (Lbs)',            'race',             50855,\n",
       "                   50907,             50983,             51133,\n",
       "            'Acebutolol',      'Amlodipine',        'Atenolol',\n",
       "             'Captopril',       'Diltiazem',      'Felodipine',\n",
       "            'Lisinopril',       'Moexipril',      'NIFEdipine',\n",
       "               'Nadolol',     'NiCARdipine',     'Propranolol',\n",
       "             'Quinapril',        'Ramipril',    'Trandolapril',\n",
       "             'Valsartan',       'Verapamil',      'amLODIPine',\n",
       "              'atenolol',      'benazepril',     'candesartan',\n",
       "            'felodipine',      'irbesartan',       'nebivolol',\n",
       "            'olmesartan',        'ramipril',     'telmisartan',\n",
       "             'valsartan'],\n",
       "      dtype='object')"
      ]
     },
     "execution_count": 86,
     "metadata": {},
     "output_type": "execute_result"
    }
   ],
   "source": [
    "df_3."
   ]
  }
 ],
 "metadata": {
  "kernelspec": {
   "display_name": "project_env",
   "language": "python",
   "name": "python3"
  },
  "language_info": {
   "codemirror_mode": {
    "name": "ipython",
    "version": 3
   },
   "file_extension": ".py",
   "mimetype": "text/x-python",
   "name": "python",
   "nbconvert_exporter": "python",
   "pygments_lexer": "ipython3",
   "version": "3.10.7"
  },
  "orig_nbformat": 4
 },
 "nbformat": 4,
 "nbformat_minor": 2
}
