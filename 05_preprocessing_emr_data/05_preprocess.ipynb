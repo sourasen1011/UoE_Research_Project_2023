{
 "cells": [
  {
   "cell_type": "code",
   "execution_count": 1,
   "metadata": {},
   "outputs": [],
   "source": [
    "# # imports\n",
    "# import psycopg2\n",
    "import numpy as np\n",
    "import pandas as pd\n",
    "import json\n",
    "from sqlalchemy import create_engine\n",
    "import matplotlib.pyplot as plt\n",
    "from scipy import interpolate\n",
    "from sklearn.impute import SimpleImputer\n",
    "import pickle\n",
    "import os"
   ]
  },
  {
   "cell_type": "code",
   "execution_count": 2,
   "metadata": {},
   "outputs": [],
   "source": [
    "# access creds\n",
    "with open('../psql_key.json') as file:\n",
    "    creds = json.load(file)\n",
    "\n",
    "# Create an SQLAlchemy engine with the PostgreSQL database URI\n",
    "engine = create_engine(f\"postgresql+psycopg2://{creds['user']}:{creds['password']}@{creds['host']}:{creds['port']}/{creds['database']}\")"
   ]
  },
  {
   "cell_type": "code",
   "execution_count": 3,
   "metadata": {},
   "outputs": [
    {
     "name": "stdout",
     "output_type": "stream",
     "text": [
      "24348\n"
     ]
    }
   ],
   "source": [
    "# these diag codes were taken from table mimiciv_hosp.d_icd_diagnoses\n",
    "hf_codes = '''('39891','40200','40201','40210','40211','40290','40291','40400','40401','40402','40403','40410','40411','40412',\n",
    "'40413','40490','40491','40492','40493','4280','4281','42820','42821','42822','42823','42830','42831','42832','42833','42840','42841',\n",
    "'42842','42843','4289','E8726','E8745','I0981','I110','I119','I130','I131','I1310','I1311','I132','I50','I501','I502','I5020','I5021','I5022',\n",
    "'I5023','I503','I5030','I5031','I5032','I5033','I504','I5040','I5041','I5042','I5043','I508','I5081','I50810','I50811','I50812','I50813','I50814',\n",
    "'I5082','I5083','I5084','I5089','I509','I9713','I97130','I97131','T8622','T8632','Y625')'''\n",
    "\n",
    "# get all admissions related to HF codes\n",
    "query = f'''\n",
    "select distinct a.subject_id , a.hadm_id , a.admittime , a.dischtime , p.gender , p.anchor_age , p.dod\n",
    "from (select hadm_id from mimiciv_hosp.diagnoses_icd where icd_code in {hf_codes}) d\n",
    "inner join (select * from mimiciv_hosp.admissions) a\n",
    "on a.hadm_id = d.hadm_id\n",
    "inner join (select * from mimiciv_hosp.patients) p\n",
    "on p.subject_id = a.subject_id\n",
    "'''\n",
    "\n",
    "all_hf_pats_0 = pd.read_sql_query(query , engine)\n",
    "\n",
    "all_hf_pats_0['dod'] = pd.to_datetime(all_hf_pats_0['dod']).dt.date\n",
    "all_hf_pats_0['admittime'] = all_hf_pats_0['admittime'].dt.date\n",
    "all_hf_pats_0['dischtime'] = all_hf_pats_0['dischtime'].dt.date\n",
    "\n",
    "# QC\n",
    "print(all_hf_pats_0['subject_id'].nunique())"
   ]
  },
  {
   "cell_type": "code",
   "execution_count": 4,
   "metadata": {},
   "outputs": [
    {
     "name": "stdout",
     "output_type": "stream",
     "text": [
      "patients: 150427\n"
     ]
    }
   ],
   "source": [
    "# Get online medical record data (OMR)\n",
    "reqd_results = (\"BMI (kg/m2)\" , \"Height (Inches)\" , \"Weight (Lbs)\") # Not including BP as I can get it from vitalsigns  \n",
    "q = f'''select distinct subject_id , chartdate , result_name , \n",
    "result_value::FLOAT from mimiciv_hosp.omr where result_name in {reqd_results}'''\n",
    "\n",
    "omr = pd.read_sql_query(q , engine)\n",
    "# omr_pivot = pd.read_sql_query(q , engine)\n",
    "omr_first = omr.sort_values(['subject_id' , 'chartdate'] , ascending = True).groupby(['subject_id' , 'result_name']).first().reset_index()\n",
    "omr_pivot = omr_first.pivot(index = 'subject_id', columns = 'result_name' , values = 'result_value').reset_index()\n",
    "# omr_pivot.dropna(inplace = True)\n",
    "\n",
    "print(f'patients: {omr_pivot.subject_id.nunique()}')"
   ]
  },
  {
   "cell_type": "code",
   "execution_count": 5,
   "metadata": {},
   "outputs": [
    {
     "name": "stdout",
     "output_type": "stream",
     "text": [
      "patients 180733\n"
     ]
    }
   ],
   "source": [
    "# RACE\n",
    "q = '''\n",
    "select subject_id , race , count(race) as c_race\n",
    "from mimiciv_hosp.admissions\n",
    "group by subject_id , race\n",
    "order by c_race desc\n",
    "'''\n",
    "\n",
    "# Some patients have multiple race - chalking that up to a data discrepancy for now!\n",
    "race_0 = pd.read_sql_query(q , engine)\n",
    "race = race_0.groupby('subject_id').first().reset_index().drop('c_race' , axis = 1)\n",
    "\n",
    "# QC\n",
    "assert len(race) == race_0[\"subject_id\"].nunique() , 'is not patient level table'\n",
    "\n",
    "#QC \n",
    "assert race.groupby('subject_id').agg({'race':'nunique'}).sort_values('race' , ascending = False).iloc[0 , ][0] == 1 , 'multiple races'\n",
    "\n",
    "race_broad = pd.DataFrame( [\n",
    "    ('AMERICAN INDIAN/ALASKA NATIVE','NATIVE'),\n",
    "    ( 'ASIAN','ASIAN'),\n",
    "    ( 'ASIAN - ASIAN INDIAN','ASIAN'),\n",
    "    ( 'ASIAN - CHINESE','ASIAN'),\n",
    "    ( 'ASIAN - KOREAN','ASIAN'),\n",
    "    ( 'ASIAN - SOUTH EAST ASIAN','ASIAN'),\n",
    "    ( 'BLACK/AFRICAN','BLACK'),\n",
    "    ( 'BLACK/AFRICAN AMERICAN','BLACK'),\n",
    "    ( 'BLACK/CAPE VERDEAN','BLACK'),\n",
    "    ( 'BLACK/CARIBBEAN ISLAND','BLACK'),\n",
    "    ( 'HISPANIC OR LATINO','HISPANIC'),\n",
    "    ( 'HISPANIC/LATINO - CENTRAL AMERICAN','HISPANIC'),\n",
    "    ( 'HISPANIC/LATINO - COLUMBIAN','HISPANIC'),\n",
    "    ( 'HISPANIC/LATINO - CUBAN','HISPANIC'),\n",
    "    ( 'HISPANIC/LATINO - DOMINICAN','HISPANIC'),\n",
    "    ( 'HISPANIC/LATINO - GUATEMALAN','HISPANIC'),\n",
    "    ( 'HISPANIC/LATINO - HONDURAN','HISPANIC'),\n",
    "    ( 'HISPANIC/LATINO - MEXICAN','HISPANIC'),\n",
    "    ( 'HISPANIC/LATINO - PUERTO RICAN','HISPANIC'),\n",
    "    ( 'HISPANIC/LATINO - SALVADORAN','HISPANIC'),\n",
    "    ( 'MULTIPLE RACE/ETHNICITY','OTHER'),\n",
    "    ( 'NATIVE HAWAIIAN OR OTHER PACIFIC ISLANDER','NATIVE'),\n",
    "    ( 'OTHER','OTHER'),\n",
    "    ( 'PATIENT DECLINED TO ANSWER','OTHER'),\n",
    "    ( 'PORTUGUESE','WHITE'),\n",
    "    ( 'SOUTH AMERICAN','HISPANIC'),\n",
    "    ( 'UNABLE TO OBTAIN','OTHER'),\n",
    "    ( 'UNKNOWN','OTHER'),\n",
    "    ( 'WHITE','WHITE'),\n",
    "    ( 'WHITE - BRAZILIAN','WHITE'),\n",
    "    ( 'WHITE - EASTERN EUROPEAN','WHITE'),\n",
    "    ( 'WHITE - OTHER EUROPEAN','WHITE'),\n",
    "    ( 'WHITE - RUSSIAN','WHITE')\n",
    "] , columns = ['race' , 'race_broad']\n",
    ")\n",
    "race = pd.merge(race , race_broad , on = 'race' , how = 'inner')\n",
    "race.drop('race' , axis = 1 , inplace = True)\n",
    "race.rename(columns = {'race_broad':'race'} , inplace = True)\n",
    "\n",
    "print(f'patients {race.subject_id.nunique()}')"
   ]
  },
  {
   "cell_type": "code",
   "execution_count": 6,
   "metadata": {},
   "outputs": [
    {
     "name": "stdout",
     "output_type": "stream",
     "text": [
      "patients: 245879\n"
     ]
    }
   ],
   "source": [
    "# LAB\n",
    "q = '''\n",
    "select b.subject_id , b.itemid , avg(b.valuenum) as val\n",
    "from\n",
    "(select * from mimiciv_hosp.labevents a \n",
    "where a.itemid = 50907 or a.itemid = 50983\n",
    "or a.itemid = 51222 or a.itemid = 51133\n",
    ") b\n",
    "group by b.subject_id , b.itemid\n",
    "'''\n",
    "\n",
    "bloodwork_0 = pd.read_sql_query(q , engine)\n",
    "\n",
    "bloodwork = bloodwork_0.pivot(index = 'subject_id' , columns = 'itemid' , values = 'val').reset_index()\n",
    "bloodwork.head()\n",
    "\n",
    "# name change\n",
    "bloodwork.rename(columns = {50907:'cholesterol' , 50983:'sodium' , 51133:'lymphocyte' , 51222:'hemoglobin'} , inplace = True)\n",
    "\n",
    "# QC\n",
    "assert len(bloodwork) == bloodwork_0[\"subject_id\"].nunique() , 'is not patient level table'\n",
    "\n",
    "print(f'patients: {bloodwork.subject_id.nunique()}')"
   ]
  },
  {
   "cell_type": "code",
   "execution_count": 7,
   "metadata": {},
   "outputs": [
    {
     "name": "stdout",
     "output_type": "stream",
     "text": [
      "patients -> 8047\n"
     ]
    }
   ],
   "source": [
    "# MEDICATION\n",
    "hadm_id_list = \"('\"+\"','\".join(list(all_hf_pats_0['hadm_id'].unique().astype('str')))+\"')\"\n",
    "hadm_id_list\n",
    "\n",
    "# Note: Leaving out 'atenolol' as it does not have any usage within the cohort \n",
    "q = f'''\n",
    "select a.* from\n",
    "(\n",
    "    select * , lower(medication) as l_medication from mimiciv_hosp.emar\n",
    "    where  hadm_id::VARCHAR in {hadm_id_list}\n",
    ") a\n",
    "where a.l_medication in ('amlodipine','diltiazem','felodipine','isradipine','nicardipine',\n",
    "'nifedipine','nisoldipine','verapamil','azilsartan','candesartan','eprosartan','irbesartan',\n",
    "'losartan','olmesartan','telmisartan','valsartan','benazepril','captopril','enalapril','fosinopril',\n",
    "'lisinopril','moexipril','perindopril','quinapril','ramipril','trandolapril','acebutolol','atenolol','Atenolol',\n",
    "'bisoprolol','metoprolol','nadolol','nebivolol','propranolol')\n",
    "and a.event_txt = 'Administered'\n",
    "'''\n",
    "\n",
    "medication = pd.read_sql_query(q , engine)\n",
    "# print(f'{len(medication) , medication.subject_id.nunique()}')\n",
    "\n",
    "# cast to lower to avoid duplication\n",
    "medication['medication'] = medication['medication'].str.lower()\n",
    "\n",
    "# pivot\n",
    "medication_pivot = medication.pivot_table(index = 'subject_id' , columns = 'medication' , values = 'hadm_id' , aggfunc = 'count').fillna(0).reset_index()\n",
    "\n",
    "# QC\n",
    "assert len(medication_pivot) == medication[\"subject_id\"].nunique() , 'is not patient level table'\n",
    "\n",
    "# QC\n",
    "_df = pd.DataFrame(medication_pivot.sum(axis = 1) , columns = ['check'])\n",
    "\n",
    "assert len(_df[_df['check'] == 0])==0 # checks if at least one patient has taken none of these drugs!\n",
    "\n",
    "print(f'patients -> {medication_pivot.subject_id.nunique()}')"
   ]
  },
  {
   "cell_type": "code",
   "execution_count": 8,
   "metadata": {},
   "outputs": [
    {
     "name": "stdout",
     "output_type": "stream",
     "text": [
      "patients -> 198131\n"
     ]
    }
   ],
   "source": [
    "# Vital signs\n",
    "\n",
    "query = f'''\n",
    "select subject_id , temperature , heartrate , resprate , o2sat , sbp , dbp from mimiciv_ed.vitalsign\n",
    "'''\n",
    "vitalsign_0 = pd.read_sql_query(query , engine)\n",
    "\n",
    "vitalsign = vitalsign_0.groupby('subject_id').mean().reset_index()\n",
    "\n",
    "# QC\n",
    "assert len(vitalsign) == vitalsign_0[\"subject_id\"].nunique() , 'is not patient level table'\n",
    "\n",
    "print(f'patients -> {vitalsign.subject_id.nunique()}')"
   ]
  },
  {
   "cell_type": "markdown",
   "metadata": {},
   "source": [
    "### **Joining**"
   ]
  },
  {
   "cell_type": "code",
   "execution_count": 9,
   "metadata": {},
   "outputs": [
    {
     "data": {
      "text/plain": [
       "6627"
      ]
     },
     "execution_count": 9,
     "metadata": {},
     "output_type": "execute_result"
    }
   ],
   "source": [
    "# Patients with presence in all tables\n",
    "charttime_pats = list(set(bloodwork['subject_id']).\\\n",
    "intersection(set(vitalsign['subject_id'])).\\\n",
    "intersection(set(medication_pivot['subject_id'])).\\\n",
    "intersection(set(omr_pivot['subject_id'])).\\\n",
    "intersection(set(race['subject_id']))\n",
    ")\n",
    "len(charttime_pats)"
   ]
  },
  {
   "cell_type": "code",
   "execution_count": 10,
   "metadata": {},
   "outputs": [
    {
     "name": "stdout",
     "output_type": "stream",
     "text": [
      "patients 6627\n"
     ]
    }
   ],
   "source": [
    "df_1 = pd.merge(\n",
    "    race , bloodwork , \n",
    "    on = 'subject_id' , \n",
    "    how = 'inner'\n",
    ")\n",
    "\n",
    "df_2 = pd.merge(\n",
    "    df_1 , vitalsign , \n",
    "    on = 'subject_id' , \n",
    "    how = 'inner'\n",
    ")\n",
    "\n",
    "df_3 = pd.merge(\n",
    "    df_2 , medication_pivot , \n",
    "    on = 'subject_id' , \n",
    "    how = 'inner'\n",
    ")\n",
    "\n",
    "df_4 = pd.merge(\n",
    "    df_3 , omr_pivot ,\n",
    "    on = 'subject_id' ,\n",
    "    how = 'inner'\n",
    ")\n",
    "\n",
    "print(f'patients {df_4.subject_id.nunique()}')"
   ]
  },
  {
   "cell_type": "code",
   "execution_count": null,
   "metadata": {},
   "outputs": [],
   "source": []
  },
  {
   "cell_type": "markdown",
   "metadata": {},
   "source": [
    "#### **Get Survival Metrics**"
   ]
  },
  {
   "cell_type": "code",
   "execution_count": 11,
   "metadata": {},
   "outputs": [
    {
     "name": "stdout",
     "output_type": "stream",
     "text": [
      "subject_id       24348\n",
      "gender           24348\n",
      "anchor_age       24348\n",
      "time_to_event    24348\n",
      "death            24348\n",
      "dtype: int64\n"
     ]
    }
   ],
   "source": [
    "# Retain all patients\n",
    "# Add num of ICU admits / num of admissions as covariates\n",
    "# Time of survival -> from last ICU admission to deathtime / OR first ICU admission?\n",
    "# Uncensored patients (those that experienced the event, i.e. died)\n",
    "# Find latest ICU admission\n",
    "tos_hf = all_hf_pats_0.groupby('subject_id').agg({'admittime':'min' , 'dod':'max' , 'dischtime':'max'})\n",
    "\n",
    "# add gender and age\n",
    "tos_hf = pd.merge(\n",
    "    tos_hf,  all_hf_pats_0[['subject_id','gender','anchor_age']].drop_duplicates(),\n",
    "    on = 'subject_id',\n",
    "    how = 'inner'\n",
    ")\n",
    "\n",
    "# who are the uncensored patients?\n",
    "event_pats = tos_hf[tos_hf['dod'].notnull()].copy()\n",
    "event_pats['time_to_event'] = event_pats['dod'] - event_pats['admittime']\n",
    "event_pats['time_to_event'] = event_pats['time_to_event'] / np.timedelta64(1, 'D') # convert to hours\n",
    "event_pats['death'] = 1\n",
    "\n",
    "# who are the censored patients?\n",
    "non_event_pats = tos_hf[tos_hf['dod'].isnull()].copy()# For censored patients, their last follow-up was essentially their discharge time\n",
    "non_event_pats['time_to_event'] = non_event_pats['dischtime'] - non_event_pats['admittime']\n",
    "non_event_pats['time_to_event'] = non_event_pats['time_to_event'] / np.timedelta64(1, 'D') # convert to hours\n",
    "# non_event_pats['time_to_event'] = non_event_pats['time_to_event'] + 365 # is this necessary?\n",
    "non_event_pats['death'] = 0\n",
    "# non_event_pats.head(3)\n",
    "\n",
    "pats = pd.concat([\n",
    "    non_event_pats[['subject_id', 'gender', 'anchor_age', 'time_to_event' , 'death']] , \n",
    "    event_pats[['subject_id','gender', 'anchor_age', 'time_to_event' , 'death']]\n",
    "] , axis = 0)\n",
    "\n",
    "pats.sort_values('subject_id' , inplace = True)\n",
    "\n",
    "pats['time_to_event'] = pats['time_to_event'].apply(lambda x: x+1 if x==0 else x)\n",
    "# QC\n",
    "print(pats.count())\n",
    "\n",
    "# QC\n",
    "assert len(pats) == all_hf_pats_0[\"subject_id\"].nunique() , 'is not patient level table'"
   ]
  },
  {
   "cell_type": "code",
   "execution_count": 23,
   "metadata": {},
   "outputs": [
    {
     "data": {
      "text/plain": [
       "(14299, 10049)"
      ]
     },
     "execution_count": 23,
     "metadata": {},
     "output_type": "execute_result"
    }
   ],
   "source": [
    "non_event_pats.subject_id.nunique() , event_pats.subject_id.nunique()"
   ]
  },
  {
   "cell_type": "code",
   "execution_count": 57,
   "metadata": {},
   "outputs": [
    {
     "data": {
      "image/png": "[encoded data removed]",
      "text/plain": [
       "<Figure size 700x500 with 2 Axes>"
      ]
     },
     "metadata": {},
     "output_type": "display_data"
    }
   ],
   "source": [
    "grouped = pats.groupby('death')\n",
    "labels = ['censored' , 'uncensored']\n",
    "colors = ['slategray' , 'orange']\n",
    "# Plot grouped histogram\n",
    "fig, axes = plt.subplots(2 , figsize = (7,5))\n",
    "            \n",
    "for category, group in grouped:\n",
    "    axes[category].hist(group['time_to_event'], bins=50 , density = True , label = labels[category] , color = colors[category])\n",
    "    axes[category].legend()\n",
    "    axes[category].set_ylabel('Density')\n",
    "\n",
    "plt.xlabel('Time to Event')\n",
    "# plt.title('Cohort-wise Time-to-Event Distribution')\n",
    "\n",
    "# Save the plot as an PDF file\n",
    "plt.savefig('cohort_hist.pdf', format='pdf')\n",
    "\n",
    "plt.show()"
   ]
  },
  {
   "cell_type": "code",
   "execution_count": 13,
   "metadata": {},
   "outputs": [],
   "source": [
    "consolidated_pat_tbl = pd.merge(df_4 , pats , on = 'subject_id' , how = 'inner')\n",
    "\n",
    "# QC\n",
    "assert len(consolidated_pat_tbl) == consolidated_pat_tbl.subject_id.nunique() , 'not patient level table'\n",
    "\n",
    "# name change\n",
    "consolidated_pat_tbl.rename(columns = {'50907':'cholesterol' , '50983':'sodium' , '51133':'lymphocyte' , '51222':'hemoglobin'} , inplace = True)"
   ]
  },
  {
   "cell_type": "code",
   "execution_count": 14,
   "metadata": {},
   "outputs": [],
   "source": [
    "# _columns = consolidated_pat_tbl.columns.astype('str')\n",
    "# consolidated_pat_tbl.columns = _columns\n",
    "\n",
    "# # Imputation\n",
    "# imputer = SimpleImputer(strategy = 'most_frequent')\n",
    "# consolidated_pat_tbl = pd.DataFrame(imputer.fit_transform(consolidated_pat_tbl) , columns = _columns)\n",
    "\n",
    "# # Check for null\n",
    "# assert np.round(consolidated_pat_tbl.notnull().sum()/len(consolidated_pat_tbl)).sum() == consolidated_pat_tbl.shape[1]\n",
    "\n",
    "# # name change\n",
    "# consolidated_pat_tbl.rename(columns = {'50907':'cholesterol' , '50983':'sodium' , '51133':'lymphocyte' , '51222':'hemoglobin'} , inplace = True)"
   ]
  },
  {
   "cell_type": "code",
   "execution_count": 15,
   "metadata": {},
   "outputs": [],
   "source": [
    "folder_path = \"data/\"\n",
    "\n",
    "# Check if the folder exists\n",
    "if not os.path.exists(folder_path):\n",
    "    # Create the folder\n",
    "    os.makedirs(folder_path)\n",
    "\n",
    "# Pickle the DataFrame\n",
    "with open('data/consolidated_pat_tbl.pickle', 'wb') as file:\n",
    "    pickle.dump(consolidated_pat_tbl, file)"
   ]
  }
 ],
 "metadata": {
  "kernelspec": {
   "display_name": "project_env",
   "language": "python",
   "name": "python3"
  },
  "language_info": {
   "codemirror_mode": {
    "name": "ipython",
    "version": 3
   },
   "file_extension": ".py",
   "mimetype": "text/x-python",
   "name": "python",
   "nbconvert_exporter": "python",
   "pygments_lexer": "ipython3",
   "version": "3.10.7"
  },
  "orig_nbformat": 4
 },
 "nbformat": 4,
 "nbformat_minor": 2
}
