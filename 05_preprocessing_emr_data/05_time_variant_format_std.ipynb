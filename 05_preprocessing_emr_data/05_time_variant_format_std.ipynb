{
 "cells": [
  {
   "cell_type": "code",
   "execution_count": 26,
   "metadata": {},
   "outputs": [],
   "source": [
    "import pickle\n",
    "import numpy as np\n",
    "import pandas as pd\n",
    "from sklearn.preprocessing import StandardScaler\n",
    "from sklearn.preprocessing import OneHotEncoder\n",
    "from sklearn.preprocessing import LabelEncoder\n",
    "from sklearn.impute import SimpleImputer\n",
    "import matplotlib.pyplot as plt\n",
    "from sklearn_pandas import DataFrameMapper\n",
    "import seaborn as sns\n",
    "from scipy.interpolate import interp1d\n",
    "\n",
    "import torch\n",
    "import torch.optim as optim\n",
    "from torch.optim import lr_scheduler\n",
    "from torch.optim import Optimizer\n",
    "\n",
    "from torch import Tensor\n",
    "\n",
    "import torch.nn as nn\n",
    "import torch.nn.functional as F\n",
    "from torch.nn.modules.loss import _Loss\n",
    "\n",
    "# Read the pickled DataFrame\n",
    "with open('data/consolidated_pat_tbl_tv.pickle', 'rb') as file:\n",
    "    consolidated_pat_tbl = pickle.load(file)\n",
    "\n",
    "# pd.set_option('display.max_columns', None)\n",
    "# pd.set_option('display.max_rows', None)"
   ]
  },
  {
   "cell_type": "code",
   "execution_count": 2,
   "metadata": {},
   "outputs": [],
   "source": [
    "# OneHotEncode race (ethnicity)!\n",
    "encoder = OneHotEncoder(sparse_output=False)\n",
    "race_enc = encoder.fit_transform(consolidated_pat_tbl[['race']])\n",
    "mod_df = consolidated_pat_tbl.drop('race' , axis = 1)\n",
    "mod_df = pd.concat([mod_df , pd.DataFrame(\n",
    "    race_enc , \n",
    "    columns = consolidated_pat_tbl[['race']].drop_duplicates().sort_values('race').values.T[0]\n",
    "    )\n",
    "] , axis = 1)\n",
    "\n",
    "# OneHotEncode gender (sex)\n",
    "gender_encoder = OneHotEncoder(sparse_output=False)\n",
    "gender_enc = gender_encoder.fit_transform(mod_df[['gender']])\n",
    "mod_df = mod_df.drop('gender' , axis = 1)\n",
    "mod_df = pd.concat([mod_df , pd.DataFrame(\n",
    "    gender_enc , \n",
    "    columns = consolidated_pat_tbl[['gender']].drop_duplicates().sort_values('gender').values.T[0]\n",
    "    )\n",
    "] , axis = 1)"
   ]
  },
  {
   "cell_type": "code",
   "execution_count": 3,
   "metadata": {},
   "outputs": [],
   "source": [
    "def train_test_splitter_tv(df , test_size = 0.2 , val_size = 0.2 , patient_col = 'subject_id'):\n",
    "    # get all patients\n",
    "    pats = df[patient_col].unique()\n",
    "    # inplace shuffle\n",
    "    np.random.shuffle(pats)\n",
    "\n",
    "    # get splits\n",
    "    test_pats = pats[:int(test_size*len(pats))]\n",
    "    val_pats = pats[int(test_size*len(pats)):int(test_size*len(pats))+int(val_size*len(pats))]\n",
    "    train_pats = pats[int(test_size*len(pats))+int(val_size*len(pats)):]\n",
    "\n",
    "    # allocate\n",
    "    df_test = df[df['subject_id'].isin(test_pats)]\n",
    "    df_val = df[df['subject_id'].isin(val_pats)]\n",
    "    df_train = df[df['subject_id'].isin(train_pats)]\n",
    "    \n",
    "    # check\n",
    "    assert df_train.subject_id.nunique() + df_test.subject_id.nunique() + df_val.subject_id.nunique() == df.subject_id.nunique()\n",
    "    return df_train , df_test , df_val\n",
    "\n",
    "df_train , df_test , df_val = train_test_splitter_tv(mod_df)"
   ]
  },
  {
   "cell_type": "code",
   "execution_count": 4,
   "metadata": {},
   "outputs": [],
   "source": [
    "def feature_target_preprocess(df_original , subject_col , time_2_eve_col , event_col , timediff_col):\n",
    "    df = df_original.copy()\n",
    "\n",
    "    # cumulative time difference!\n",
    "    df[timediff_col] = df.groupby(subject_col)[timediff_col].cumsum()\n",
    "\n",
    "    target_cols = [time_2_eve_col , event_col]\n",
    "\n",
    "    # feature cols\n",
    "    x = df[[col for col in df.columns if col not in target_cols]]\n",
    "\n",
    "    # get targets\n",
    "    y = df[[subject_col]+target_cols].drop_duplicates().drop(subject_col, axis = 1)\n",
    "\n",
    "    # Check\n",
    "    assert x[subject_col].nunique() == len(y) , 'target and feature length mismatch' \n",
    "    assert x.shape[0] == df.shape[0] , 'row mismatch'\n",
    "    return x , y"
   ]
  },
  {
   "cell_type": "code",
   "execution_count": 6,
   "metadata": {},
   "outputs": [],
   "source": [
    "x_train , y_train = feature_target_preprocess(df_train , 'subject_id' , 'time_to_event' , 'death' , 'timediff')\n",
    "x_test , y_test = feature_target_preprocess(df_test , 'subject_id' , 'time_to_event' , 'death' , 'timediff')\n",
    "x_val , y_val = feature_target_preprocess(df_val , 'subject_id' , 'time_to_event' , 'death' , 'timediff')"
   ]
  },
  {
   "cell_type": "code",
   "execution_count": 7,
   "metadata": {},
   "outputs": [
    {
     "name": "stdout",
     "output_type": "stream",
     "text": [
      "zero_var_cols ['candesartan', 'nicardipine']\n"
     ]
    }
   ],
   "source": [
    "def check_var(df):\n",
    "    zero_var_cols = []\n",
    "    # Check which columns have zero variance\n",
    "    for _col in df.columns[:-2]:\n",
    "        var = df[_col].var()\n",
    "        if var == 0:\n",
    "            zero_var_cols.append(_col)\n",
    "    return zero_var_cols\n",
    "\n",
    "# get rid of columns that have zero variance in training data as they won't add anything to the training\n",
    "zero_var_cols = check_var(x_train)\n",
    "print(f'zero_var_cols {zero_var_cols}')\n",
    "\n",
    "# Drop the cols\n",
    "_x_train = x_train.drop(zero_var_cols, axis = 1)\n",
    "_x_test = x_test.drop(zero_var_cols, axis = 1)\n",
    "_x_val = x_val.drop(zero_var_cols, axis = 1)"
   ]
  },
  {
   "cell_type": "code",
   "execution_count": 104,
   "metadata": {},
   "outputs": [],
   "source": [
    "%%time\n",
    "\n",
    "def feature_reshape(df , subject_col , timediff_col , divisions):\n",
    "    pats = list(df[subject_col].unique())\n",
    "\n",
    "    # init container\n",
    "    df_reshape = []\n",
    "\n",
    "    # selecting individual patients in the df\n",
    "    for pat in pats:\n",
    "        pat_df = df[df[subject_col]==pat].fillna(method = 'ffill') # forward fill\n",
    "        \n",
    "        # Further Imputation\n",
    "        imputer = SimpleImputer(strategy = 'most_frequent', keep_empty_features = True)\n",
    "        imputed_pat_df = imputer.fit_transform(pat_df)\n",
    "        _pat_df = pd.DataFrame(imputed_pat_df , columns = pat_df.columns)\n",
    "        \n",
    "        # quantized time difference\n",
    "        timediff_div = np.linspace(\n",
    "            _pat_df[timediff_col].min() , \n",
    "            _pat_df[timediff_col].max() ,\n",
    "            divisions\n",
    "        )\n",
    "\n",
    "        # matrix to store patient features at timestamp-wise divisions of their history\n",
    "        mat = []\n",
    "\n",
    "        # interpolate\n",
    "        _cols = [col for col in _pat_df.columns if col!='subject_id' and col!='timediff']\n",
    "        for col in _cols:\n",
    "            f = interp1d(_pat_df[timediff_col] , _pat_df[col]) # fit\n",
    "            col_div = f(timediff_div)\n",
    "            mat.append(col_div)\n",
    "            \n",
    "        mat = np.column_stack(mat)\n",
    "\n",
    "        # add to container\n",
    "        df_reshape.append(mat)\n",
    "\n",
    "    arr = np.array(df_reshape, dtype = 'object').astype('float')\n",
    "    arr = torch.Tensor(arr.reshape(arr.shape[0] , 1 , arr.shape[1] , arr.shape[2]))\n",
    "    \n",
    "    return arr\n",
    "\n",
    "# Create variable length 3D representations\n",
    "x_train_reshape = feature_reshape(\n",
    "    _x_train , \n",
    "    subject_col = 'subject_id' , \n",
    "    timediff_col = 'timediff' , \n",
    "    divisions = 10\n",
    ")\n",
    "\n",
    "x_test_reshape = feature_reshape(\n",
    "    _x_test , \n",
    "    subject_col = 'subject_id' , \n",
    "    timediff_col = 'timediff' , \n",
    "    divisions = 10\n",
    ")\n",
    "\n",
    "x_val_reshape = feature_reshape(\n",
    "    _x_val , \n",
    "    subject_col = 'subject_id' , \n",
    "    timediff_col = 'timediff' , \n",
    "    divisions = 10\n",
    ")"
   ]
  },
  {
   "cell_type": "code",
   "execution_count": 67,
   "metadata": {},
   "outputs": [
    {
     "name": "stdout",
     "output_type": "stream",
     "text": [
      "torch.Size([3544, 1, 10, 43])\n"
     ]
    }
   ],
   "source": [
    "input = x_train_reshape.astype('float')\n",
    "input = torch.Tensor(input.reshape(input.shape[0] , 1 , input.shape[1] , input.shape[2]))\n",
    "print(input.shape)\n",
    "c2d = nn.Conv2d(1 , 14 , kernel_size = 3)\n",
    "# c2d(torch.Tensor(input))"
   ]
  },
  {
   "cell_type": "code",
   "execution_count": 96,
   "metadata": {},
   "outputs": [],
   "source": [
    "class Encoder(nn.Module):\n",
    "    def __init__(self,hidden_dim: int = 10):\n",
    "        super(Encoder, self).__init__()\n",
    "        self.conv1 = nn.Conv2d(1, 14, kernel_size = 3 , stride = 1 , padding = 1)\n",
    "        self.conv2 = nn.Conv2d(14, 7, kernel_size = 3, stride = 1 , padding = 1)\n",
    "        self.act = nn.Tanh()\n",
    "        self.flatten = nn.Flatten()\n",
    "        self.dense1 = nn.Linear(7 * 10 * 43, hidden_dim)\n",
    "\n",
    "    def forward(self, x: Tensor) -> Tensor:\n",
    "        assert x.dim() == 4\n",
    "\n",
    "        x = self.conv1(x)\n",
    "        x = self.act(x)\n",
    "        x = self.conv2(x)\n",
    "        x = self.act(x)\n",
    "        x = self.flatten(x)\n",
    "        x = self.dense1(x)\n",
    "        x = self.act(x)\n",
    "        return x"
   ]
  },
  {
   "cell_type": "code",
   "execution_count": 97,
   "metadata": {},
   "outputs": [],
   "source": [
    "class Decoder(nn.Module):\n",
    "    def __init__(self,hidden_dim: int = 10):\n",
    "        super(Decoder, self).__init__()\n",
    "        self.dense1 = nn.Linear(hidden_dim, 7 * 10 * 43)\n",
    "        self.flatten = nn.Flatten()\n",
    "        self.act = nn.Tanh()\n",
    "        self.conv1 = nn.Conv2d(7, 14, kernel_size = 3 , stride = 1 , padding = 1)\n",
    "        self.conv2 = nn.Conv2d(14, 1, kernel_size = 3 , stride = 1 , padding = 1)\n",
    "\n",
    "    def forward(self, x: Tensor) -> Tensor:\n",
    "        assert x.dim() == 2\n",
    "        \n",
    "        x = self.act(x)\n",
    "        x = self.dense1(x)\n",
    "        x = x.view(-1, 7, 10, 43) # inverse of flatten operation\n",
    "        x = self.act(x)\n",
    "        x = self.conv1(x)\n",
    "        x = self.act(x)\n",
    "        x = self.conv2(x)\n",
    "        return x"
   ]
  },
  {
   "cell_type": "code",
   "execution_count": 98,
   "metadata": {},
   "outputs": [
    {
     "data": {
      "text/plain": [
       "(torch.Size([3544, 1, 10, 43]), torch.Size([3544, 1, 10, 43]))"
      ]
     },
     "execution_count": 98,
     "metadata": {},
     "output_type": "execute_result"
    }
   ],
   "source": [
    "enc = Encoder()\n",
    "dec = Decoder()\n",
    "dec(enc(input)).shape , input.shape"
   ]
  },
  {
   "cell_type": "code",
   "execution_count": 102,
   "metadata": {},
   "outputs": [],
   "source": [
    "class Autoencoder(nn.Module):\n",
    "    def __init__(self,hidden_dim: int = 28):\n",
    "        super(Autoencoder, self).__init__()\n",
    "        self.encoder = Encoder(hidden_dim)\n",
    "        self.decoder = Decoder(hidden_dim)\n",
    "        \n",
    "    def forward(self, x: Tensor) -> Tensor:\n",
    "        assert x.dim() == 4\n",
    "        \n",
    "        encoding = self.encoder(x)\n",
    "        decoding = self.decoder(encoding)\n",
    "        return decoding , encoding"
   ]
  },
  {
   "cell_type": "code",
   "execution_count": 103,
   "metadata": {},
   "outputs": [
    {
     "data": {
      "text/plain": [
       "(tensor([[[[ 0.0585,  0.0404,  0.0248,  ..., -0.0009, -0.0060, -0.0200],\n",
       "           [ 0.1106,  0.0759,  0.0938,  ...,  0.0397,  0.0648, -0.0025],\n",
       "           [ 0.0899,  0.0388,  0.0280,  ...,  0.0555,  0.0248, -0.0790],\n",
       "           ...,\n",
       "           [ 0.0260,  0.1313,  0.0366,  ..., -0.0088, -0.0009,  0.0543],\n",
       "           [ 0.0697,  0.0488,  0.0549,  ...,  0.0546,  0.0533,  0.0395],\n",
       "           [ 0.0825,  0.0727,  0.0656,  ...,  0.0387,  0.0390, -0.0710]]],\n",
       " \n",
       " \n",
       "         [[[ 0.0628,  0.0507,  0.0359,  ...,  0.0163, -0.0024, -0.0164],\n",
       "           [ 0.0986,  0.0775,  0.1155,  ...,  0.0373,  0.0988, -0.0129],\n",
       "           [ 0.0982,  0.0130,  0.0179,  ...,  0.0328,  0.0165, -0.0790],\n",
       "           ...,\n",
       "           [ 0.0127,  0.1450,  0.0170,  ...,  0.0166,  0.0129,  0.0530],\n",
       "           [ 0.0549,  0.0558,  0.0366,  ...,  0.0955,  0.0427,  0.0429],\n",
       "           [ 0.0915,  0.0614,  0.0739,  ...,  0.0156,  0.0447, -0.0656]]],\n",
       " \n",
       " \n",
       "         [[[ 0.0549,  0.0199,  0.0297,  ...,  0.0066, -0.0141, -0.0254],\n",
       "           [ 0.1173,  0.0766,  0.0885,  ...,  0.0307,  0.0807, -0.0274],\n",
       "           [ 0.0862,  0.0178,  0.0206,  ...,  0.0405,  0.0163, -0.0939],\n",
       "           ...,\n",
       "           [ 0.0348,  0.1254,  0.0249,  ...,  0.0004,  0.0184,  0.0416],\n",
       "           [ 0.0726,  0.0447,  0.0487,  ...,  0.0534,  0.0685,  0.0472],\n",
       "           [ 0.0906,  0.0779,  0.0541,  ...,  0.0379,  0.0576, -0.0504]]],\n",
       " \n",
       " \n",
       "         ...,\n",
       " \n",
       " \n",
       "         [[[ 0.0569,  0.0269,  0.0264,  ...,  0.0053, -0.0020, -0.0194],\n",
       "           [ 0.1063,  0.0614,  0.1058,  ...,  0.0394,  0.0710, -0.0086],\n",
       "           [ 0.0821,  0.0240,  0.0270,  ...,  0.0646,  0.0288, -0.0810],\n",
       "           ...,\n",
       "           [ 0.0359,  0.1309,  0.0252,  ..., -0.0038,  0.0217,  0.0375],\n",
       "           [ 0.0641,  0.0502,  0.0493,  ...,  0.0565,  0.0580,  0.0252],\n",
       "           [ 0.0859,  0.0609,  0.0650,  ...,  0.0351,  0.0355, -0.0710]]],\n",
       " \n",
       " \n",
       "         [[[ 0.0511,  0.0402,  0.0311,  ...,  0.0106, -0.0019, -0.0168],\n",
       "           [ 0.1008,  0.0681,  0.1132,  ...,  0.0487,  0.0741, -0.0080],\n",
       "           [ 0.0917,  0.0025,  0.0432,  ...,  0.0545,  0.0208, -0.0701],\n",
       "           ...,\n",
       "           [ 0.0125,  0.1322,  0.0346,  ...,  0.0068,  0.0326,  0.0335],\n",
       "           [ 0.0557,  0.0583,  0.0382,  ...,  0.0908,  0.0442,  0.0251],\n",
       "           [ 0.0726,  0.0611,  0.0669,  ...,  0.0225,  0.0388, -0.0571]]],\n",
       " \n",
       " \n",
       "         [[[ 0.0570,  0.0262,  0.0321,  ...,  0.0207, -0.0114, -0.0209],\n",
       "           [ 0.1154,  0.0935,  0.1012,  ...,  0.0483,  0.0764, -0.0270],\n",
       "           [ 0.0892,  0.0038,  0.0322,  ...,  0.0464,  0.0166, -0.0891],\n",
       "           ...,\n",
       "           [ 0.0193,  0.1169,  0.0218,  ..., -0.0242,  0.0277,  0.0511],\n",
       "           [ 0.0738,  0.0353,  0.0276,  ...,  0.0677,  0.0606,  0.0468],\n",
       "           [ 0.0996,  0.0731,  0.0610,  ...,  0.0371,  0.0374, -0.0452]]]],\n",
       "        grad_fn=<ConvolutionBackward0>),\n",
       " tensor([[-0.1688,  0.0986,  0.0423,  ...,  0.2344,  0.0139,  0.0938],\n",
       "         [-0.1191,  0.2000,  0.1618,  ...,  0.2079,  0.1055,  0.0549],\n",
       "         [ 0.0550,  0.0483,  0.1114,  ...,  0.3439, -0.1462,  0.0748],\n",
       "         ...,\n",
       "         [-0.1758,  0.1336,  0.0238,  ...,  0.1638, -0.0379,  0.0900],\n",
       "         [-0.1569,  0.1600,  0.0851,  ..., -0.0186, -0.0016,  0.1745],\n",
       "         [ 0.0760,  0.1245,  0.1640,  ...,  0.2315, -0.0602,  0.1475]],\n",
       "        grad_fn=<TanhBackward0>))"
      ]
     },
     "execution_count": 103,
     "metadata": {},
     "output_type": "execute_result"
    }
   ],
   "source": [
    "AE = Autoencoder()\n",
    "AE(input)"
   ]
  },
  {
   "cell_type": "code",
   "execution_count": 117,
   "metadata": {},
   "outputs": [
    {
     "data": {
      "text/plain": [
       "(27, 27)"
      ]
     },
     "execution_count": 117,
     "metadata": {},
     "output_type": "execute_result"
    }
   ],
   "source": [
    "# def create_distance_matrix(matrix_array):\n",
    "#     distance_mtx = []\n",
    "    \n",
    "#     for i in range(matrix_array.shape[0]):\n",
    "#         ssd = list(np.sum((matrix_array - matrix_array[i])**2 , axis = (1,2)))\n",
    "#         frob = np.sqrt(ssd)\n",
    "#         distance_mtx.append(frob)\n",
    "    \n",
    "#     return np.column_stack(distance_mtx)\n",
    "\n",
    "# dm = create_distance_matrix(x_train_reshape)\n",
    "# dm.shape"
   ]
  },
  {
   "cell_type": "code",
   "execution_count": 119,
   "metadata": {},
   "outputs": [
    {
     "name": "stderr",
     "output_type": "stream",
     "text": [
      "C:\\Users\\soura\\AppData\\Local\\Temp\\ipykernel_368\\1021413433.py:13: ClusterWarning: scipy.cluster: The symmetric non-negative hollow observation matrix looks suspiciously like an uncondensed distance matrix\n",
      "  Z = linkage(distance_matrix, method=linkage_method)\n"
     ]
    },
    {
     "data": {
      "image/png": "[encoded data removed]",
      "text/plain": [
       "<Figure size 640x480 with 1 Axes>"
      ]
     },
     "metadata": {},
     "output_type": "display_data"
    },
    {
     "name": "stdout",
     "output_type": "stream",
     "text": [
      "Data point clustering: [5 1 2 4 2 4 5 2 2 2 2 5 5 5 5 2 7 5 5 5 3 6 1 5 2 4 2]\n"
     ]
    }
   ],
   "source": [
    "# import numpy as np\n",
    "# from scipy.cluster.hierarchy import linkage, dendrogram, fcluster\n",
    "# import matplotlib.pyplot as plt\n",
    "\n",
    "# # Step 1: Prepare the distance matrix\n",
    "# # Replace this with your actual distance matrix\n",
    "# distance_matrix = dm\n",
    "\n",
    "# # Step 2: Choose the linkage method\n",
    "# linkage_method = 'average'  # You can try 'single' or 'complete' as well\n",
    "\n",
    "# # Step 3: Perform hierarchical clustering\n",
    "# Z = linkage(distance_matrix, method=linkage_method)\n",
    "\n",
    "# # Step 4: Determine the number of clusters using dendrogram\n",
    "# dendrogram(Z)\n",
    "# plt.xlabel('Data points')\n",
    "# plt.ylabel('Distance')\n",
    "# plt.title('Dendrogram')\n",
    "# plt.show()\n",
    "\n",
    "# # Step 5: Cut the dendrogram to get clusters\n",
    "# num_clusters = 7 # You can adjust this based on the dendrogram visualization\n",
    "\n",
    "# # Step 6: Assign data points to clusters\n",
    "# clusters = fcluster(Z, num_clusters, criterion='maxclust')\n",
    "# print(\"Data point clustering:\", clusters)"
   ]
  },
  {
   "cell_type": "code",
   "execution_count": 30,
   "metadata": {},
   "outputs": [],
   "source": [
    "def nan_check(arr):\n",
    "    for i in range(len(arr)):\n",
    "        s = np.isnan(arr[i]).sum()\n",
    "        if s > 0:\n",
    "            print(s)\n",
    "\n",
    "nan_check(x_train_reshape)\n",
    "nan_check(x_test_reshape)\n",
    "nan_check(x_val_reshape)"
   ]
  },
  {
   "cell_type": "code",
   "execution_count": 9,
   "metadata": {},
   "outputs": [],
   "source": [
    "# Pickle the DataFrame\n",
    "with open('data/x_train_reshape_tv.pickle', 'wb') as file:\n",
    "    pickle.dump(x_train_reshape, file)\n",
    "\n",
    "with open('data/x_test_reshape_tv.pickle', 'wb') as file:\n",
    "    pickle.dump(x_test_reshape, file)\n",
    "\n",
    "with open('data/x_val_reshape_tv.pickle', 'wb') as file:\n",
    "    pickle.dump(x_val_reshape, file)\n",
    "\n",
    "# Pickle the targets\n",
    "with open('data/y_train.pickle', 'wb') as file:\n",
    "    pickle.dump(y_train, file)\n",
    "\n",
    "with open('data/y_test.pickle', 'wb') as file:\n",
    "    pickle.dump(y_test, file)\n",
    "\n",
    "with open('data/y_val.pickle', 'wb') as file:\n",
    "    pickle.dump(y_val, file)"
   ]
  },
  {
   "cell_type": "markdown",
   "metadata": {},
   "source": [
    "### **JUNK**"
   ]
  },
  {
   "cell_type": "code",
   "execution_count": 10,
   "metadata": {},
   "outputs": [],
   "source": [
    "# def feature_reshape(df, group_column = 0):\n",
    "#     '''\n",
    "#     Convert to 3D array\n",
    "#     '''\n",
    "#     # convert to numpy\n",
    "#     df_arr = df.to_numpy()\n",
    "\n",
    "#     # Step 1: Sort the array based on the group_column\n",
    "#     sorted_data = df_arr[df_arr[:, group_column].argsort()]\n",
    "\n",
    "#     # Step 2: Find unique values in the group_column\n",
    "#     group_values, group_counts = np.unique(sorted_data[:, group_column], return_counts=True)\n",
    "\n",
    "#     # Step 3: Use np.split() to split the sorted_data into separate arrays based on the unique values\n",
    "#     grouped_data = np.split(sorted_data, np.cumsum(group_counts)[:-1])\n",
    "\n",
    "#     # Step 4: Reshape the resulting arrays into a 3D matrix\n",
    "#     result = np.array(grouped_data , dtype = 'object')\n",
    "\n",
    "#     result_new = []\n",
    "\n",
    "#     # # remove subject id\n",
    "#     # for pat_img in result:\n",
    "#     #     pat_img = pat_img[: , :-1]\n",
    "#     #     result_new.append(pat_img)\n",
    "    \n",
    "#     # return np.array(result_new , dtype = 'object')\n",
    "#     return np.array(result , dtype = 'object')"
   ]
  },
  {
   "cell_type": "code",
   "execution_count": 11,
   "metadata": {},
   "outputs": [],
   "source": [
    "# # Create variable length 3D representations\n",
    "# x_train_reshape = feature_reshape(x_train , group_column = -1)\n",
    "# x_test_reshape = feature_reshape(x_test , group_column = -1)\n",
    "# x_val_reshape = feature_reshape(x_val , group_column = -1)"
   ]
  },
  {
   "cell_type": "code",
   "execution_count": null,
   "metadata": {},
   "outputs": [],
   "source": [
    "# def scaling(df):\n",
    "#     # Scaling\n",
    "#     scaler = StandardScaler()\n",
    "#     scaled_columns = [\n",
    "#     'cholesterol', 'sodium', 'lymphocyte', 'hemoglobin',\n",
    "#     'temperature', 'heartrate', 'resprate', 'o2sat', 'sbp', 'dbp','anchor_age','BMI (kg/m2)',\n",
    "#     'Height (Inches)', 'Weight (Lbs)'\n",
    "#     ]\n",
    "\n",
    "#     unscaled_columns = ['acebutolol', 'amlodipine', 'atenolol', 'benazepril', 'candesartan',\n",
    "#         'captopril', 'diltiazem', 'felodipine', 'irbesartan', 'lisinopril',\n",
    "#         'moexipril', 'nadolol', 'nebivolol', 'nicardipine', 'nifedipine',\n",
    "#         'olmesartan', 'propranolol', 'quinapril', 'ramipril', 'telmisartan',\n",
    "#         'trandolapril', 'valsartan', 'verapamil', 'ASIAN', 'BLACK', 'HISPANIC', 'NATIVE',\n",
    "#         'OTHER', 'WHITE' ,'F','M', 'subject_id','timediff']\n",
    "\n",
    "#     # scale = [([col], StandardScaler()) for col in scaled_columns]\n",
    "#     scale = [([col], None) for col in scaled_columns]\n",
    "#     no_scale = [(col, None) for col in unscaled_columns]\n",
    "\n",
    "#     x_mapper = DataFrameMapper(scale + no_scale)\n",
    "    \n",
    "#     # scale data\n",
    "#     x = pd.DataFrame(x_mapper.fit_transform(df) , \n",
    "#                         columns = scaled_columns + unscaled_columns\n",
    "#                         )\n",
    "#     # add subject_id and timediff separately\n",
    "    \n",
    "#     # get targets\n",
    "#     y = df[['subject_id','time_to_event','death']].drop_duplicates().drop('subject_id', axis = 1)\n",
    "\n",
    "#     # Check\n",
    "#     assert x.subject_id.nunique() == len(y) , 'target and feature length mismatch' \n",
    "#     assert x.shape[0] == df.shape[0] , 'row mismatch'\n",
    "#     return x , y\n",
    "\n",
    "# # Scale\n",
    "# x_train , y_train = scaling(df_train)\n",
    "# x_test , y_test = scaling(df_test)\n",
    "# x_val , y_val = scaling(df_val)"
   ]
  },
  {
   "cell_type": "code",
   "execution_count": null,
   "metadata": {},
   "outputs": [],
   "source": [
    "# # def null_masking(df):\n",
    "# #     '''\n",
    "# #     create a null mask\n",
    "# #     '''\n",
    "# #     mask = df.isnull().astype('int')\n",
    "# #     mask.columns = [col+'_mask' for col in df.isnull().astype('int').columns]\n",
    "# #     mask = mask.iloc[: , :-2]\n",
    "# #     return mask\n",
    "\n",
    "# # # Get masks\n",
    "# # mask_train = null_masking(x_train)\n",
    "# # mask_test = null_masking(x_test)\n",
    "# # mask_val = null_masking(x_val)\n",
    "\n",
    "# # # Add masks\n",
    "# # _x_train = pd.concat([mask_train, x_train], axis = 1)\n",
    "# # _x_test = pd.concat([mask_test, x_test], axis = 1)\n",
    "# # _x_val = pd.concat([mask_val, x_val], axis = 1)\n",
    "\n",
    "# _x_train = x_train\n",
    "# _x_test = x_test\n",
    "# _x_val = x_val"
   ]
  }
 ],
 "metadata": {
  "kernelspec": {
   "display_name": "project_env",
   "language": "python",
   "name": "python3"
  },
  "language_info": {
   "codemirror_mode": {
    "name": "ipython",
    "version": 3
   },
   "file_extension": ".py",
   "mimetype": "text/x-python",
   "name": "python",
   "nbconvert_exporter": "python",
   "pygments_lexer": "ipython3",
   "version": "3.10.7"
  },
  "orig_nbformat": 4
 },
 "nbformat": 4,
 "nbformat_minor": 2
}
