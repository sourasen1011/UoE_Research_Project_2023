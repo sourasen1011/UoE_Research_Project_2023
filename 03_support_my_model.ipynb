{
 "cells": [
  {
   "cell_type": "markdown",
   "metadata": {},
   "source": [
    "## **My Model**"
   ]
  },
  {
   "cell_type": "code",
   "execution_count": 17,
   "metadata": {},
   "outputs": [],
   "source": [
    "from pycox.datasets import support\n",
    "import numpy as np\n",
    "import pandas as pd\n",
    "\n",
    "import torch.nn as nn\n",
    "import torch.nn.functional as F\n",
    "from torch.utils.data import Dataset, DataLoader\n",
    "import matplotlib.pyplot as plt\n",
    "from sklearn.decomposition import PCA\n",
    "from sklearn.preprocessing import StandardScaler\n",
    "from sksurv.metrics import concordance_index_ipcw , integrated_brier_score , brier_score\n",
    "from sklearn_pandas import DataFrameMapper\n",
    "from sklearn.pipeline import Pipeline\n",
    "from sklearn.impute import SimpleImputer\n",
    "from sklearn.preprocessing import OneHotEncoder\n",
    "from sklearn.compose import ColumnTransformer\n",
    "\n",
    "import torch\n",
    "import torchtuples as tt\n",
    "\n",
    "from pycox.preprocessing.feature_transforms import OrderedCategoricalLong\n",
    "\n",
    "from eval_surv_copy import EvalSurv\n",
    "\n",
    "# vars\n",
    "q_cuts = 20\n",
    "_cuts = 20"
   ]
  },
  {
   "cell_type": "code",
   "execution_count": 2,
   "metadata": {},
   "outputs": [],
   "source": [
    "class generic_Loss(torch.nn.Module):\n",
    "    '''\n",
    "    Generic Loss Function\n",
    "    '''\n",
    "    def __init__(self, reduction: str = 'mean') -> None:\n",
    "        super().__init__()\n",
    "        self.reduction = reduction\n",
    "\n",
    "    def nll_logistic_hazard(self , logits , targets , dur_idx):\n",
    "        '''\n",
    "        logits - parameterized inv.logit(hazards) from nn\n",
    "        targets - survival matrix \n",
    "        '''\n",
    "        logits = torch.Tensor(logits)\n",
    "        targets = torch.Tensor(targets)\n",
    "        dur_idx = torch.Tensor(dur_idx).to(torch.int64).view(-1 , 1)\n",
    "\n",
    "        loss = F.binary_cross_entropy_with_logits(input = logits , target = targets , reduction = 'none')\n",
    "        \n",
    "        assert loss.shape == targets.shape , 'must match'\n",
    "\n",
    "        # cumulative hazards\n",
    "        loss = loss.cumsum(1)\n",
    "        loss = loss.gather(1, dur_idx)\n",
    "        \n",
    "        return loss.view(-1).mean()"
   ]
  },
  {
   "cell_type": "code",
   "execution_count": 3,
   "metadata": {},
   "outputs": [],
   "source": [
    "class MLP(nn.Module):\n",
    "    def __init__(self , input_size , hidden_size , output_size , dropout_rate = 0.1):\n",
    "        super(MLP , self).__init__()\n",
    "        self.network = nn.Sequential(\n",
    "            nn.Linear(input_size, hidden_size), nn.ReLU(), nn.BatchNorm1d(hidden_size), nn.Dropout(dropout_rate),\n",
    "            nn.Linear(hidden_size, hidden_size), nn.ReLU(), nn.BatchNorm1d(hidden_size), nn.Dropout(dropout_rate),\n",
    "            nn.Linear(hidden_size, hidden_size), nn.ReLU(), nn.BatchNorm1d(hidden_size), nn.Dropout(dropout_rate),\n",
    "            nn.Linear(hidden_size, hidden_size), nn.ReLU(), nn.BatchNorm1d(hidden_size), nn.Dropout(dropout_rate),\n",
    "            nn.Linear(hidden_size, output_size)\n",
    "        )\n",
    "\n",
    "    def forward(self , x):\n",
    "        # forward pass\n",
    "        output = self.network(torch.Tensor(x))\n",
    "        return output   "
   ]
  },
  {
   "cell_type": "code",
   "execution_count": 4,
   "metadata": {},
   "outputs": [],
   "source": [
    "class MyDataset(Dataset):\n",
    "    '''\n",
    "    simple data set class\n",
    "    '''\n",
    "    def __init__(self, features, durations, events):\n",
    "        self.data = features\n",
    "        self.durations = durations\n",
    "        self.events = events\n",
    "        assert self.data.shape[0] == self.durations.shape[0] == self.durations.shape[0] , 'shapes must match!'\n",
    "\n",
    "    def __len__(self):\n",
    "        return len(self.data)\n",
    "\n",
    "    def __getitem__(self, index):\n",
    "        cov = self.data[index] # covariates\n",
    "        dur = self.durations[index] # durations\n",
    "        eve = self.events[index] # events\n",
    "        return cov , dur , eve"
   ]
  },
  {
   "cell_type": "code",
   "execution_count": 5,
   "metadata": {},
   "outputs": [],
   "source": [
    "class Surv_Matrix:\n",
    "    def __init__(self , duration_index , events , cuts=10):\n",
    "        self.duration_index = duration_index\n",
    "        self.events = events\n",
    "        self.q_cuts = q_cuts\n",
    "    \n",
    "    def make_survival_matrix(self):\n",
    "        '''\n",
    "        converts durations and index into a matrix denoting time of event\n",
    "        this is the y_ij matrix as shown in Kvamme's paper\n",
    "        '''\n",
    "        self.surv_matrix = torch.eye(self.q_cuts)[self.duration_index] \n",
    "        self.surv_matrix = self.surv_matrix*self.events.reshape(-1 , 1) # censoring mask\n",
    "        return self.surv_matrix"
   ]
  },
  {
   "cell_type": "code",
   "execution_count": 6,
   "metadata": {},
   "outputs": [],
   "source": [
    "class Transforms:\n",
    "    def __init__(self , durations , events=None):\n",
    "        self.durations = durations\n",
    "        self.events = events\n",
    "        \n",
    "    def discrete_q_transform(self , q_cuts=10):\n",
    "        '''\n",
    "        cut at quantiles\n",
    "        '''\n",
    "        self.quantiles = np.linspace(0 , 1 , q_cuts)\n",
    "        self.bin_edges = np.quantile(self.durations , self.quantiles) # right-side edges of the bins\n",
    "        self.duration_index = np.searchsorted(a = self.bin_edges , v = self.durations)\n",
    "        self.n_duration_index = len(np.unique(self.duration_index))\n",
    "        # print(self.n_duration_index)\n",
    "        assert self.n_duration_index == q_cuts , 'must match'\n",
    "        return self.duration_index\n",
    "    \n",
    "    def discrete_transform(self , _min = 0 , _cuts=10):\n",
    "        '''\n",
    "        cut at even spaces\n",
    "        '''\n",
    "        self.bin_edges = np.linspace(self.durations.min() , self.durations.max() , _cuts) # right-side edges of the bins\n",
    "        self.duration_index = np.searchsorted(a = self.bin_edges , v = self.durations)\n",
    "        self.n_duration_index = len(np.unique(self.duration_index))\n",
    "        # print(self.n_duration_index)\n",
    "        assert self.n_duration_index == _cuts , 'must match'\n",
    "        return self.duration_index"
   ]
  },
  {
   "cell_type": "code",
   "execution_count": 7,
   "metadata": {},
   "outputs": [],
   "source": [
    "df_train = support.read_df()\n",
    "df_test = df_train.sample(frac=0.2)\n",
    "df_train = df_train.drop(df_test.index)\n",
    "df_val = df_train.sample(frac=0.2)\n",
    "df_train = df_train.drop(df_val.index)"
   ]
  },
  {
   "cell_type": "code",
   "execution_count": 8,
   "metadata": {},
   "outputs": [],
   "source": [
    "numeric_preprocessing = Pipeline(steps=[('scaling', StandardScaler()),('imputing' , SimpleImputer())])\n",
    "# categorical_preprocessing = Pipeline(steps=[('encoding', OneHotEncoder())])\n",
    "null_preprocessing = Pipeline(steps=[('leaving', None),])\n",
    "\n",
    "numeric_features = ['x0', 'x7', 'x8', 'x9', 'x10', 'x11', 'x12', 'x13']\n",
    "# categorical_features = ['x2', 'x3', 'x6']\n",
    "null_features =  ['x1', 'x4', 'x5', 'x2', 'x3', 'x6']\n",
    "\n",
    "preprocessing = ColumnTransformer(transformers=[('numeric', numeric_preprocessing, numeric_features),\n",
    "                                                ('null', null_preprocessing, null_features)])\n",
    "\n",
    "train_pipeline = Pipeline(steps=[('preprocessing', preprocessing)])\n",
    "test_pipeline = Pipeline(steps=[('preprocessing', preprocessing)])\n",
    "val_pipeline = Pipeline(steps=[('preprocessing', preprocessing)])\n",
    "\n",
    "_df_train = train_pipeline.fit_transform(df_train)\n",
    "_df_test = test_pipeline.fit_transform(df_test)\n",
    "_df_val = val_pipeline.fit_transform(df_val)"
   ]
  },
  {
   "cell_type": "code",
   "execution_count": 9,
   "metadata": {},
   "outputs": [],
   "source": [
    "# get_features = lambda df: (df.drop(['duration' , 'event'] , axis = 1).values)\n",
    "get_outcomes = lambda df: (df['duration'].values , df['event'].values)\n",
    "\n",
    "# features = get_features(df_train)\n",
    "_outcomes_train = get_outcomes(df_train)\n",
    "_outcomes_test = get_outcomes(df_test)\n",
    "_outcomes_val = get_outcomes(df_val)"
   ]
  },
  {
   "cell_type": "code",
   "execution_count": 10,
   "metadata": {},
   "outputs": [],
   "source": [
    "t = Transforms(durations = _outcomes_train[0] , events = _outcomes_train[1])\n",
    "dur_idx = t.discrete_transform(_cuts = q_cuts)\n",
    "\n",
    "t_test = Transforms(durations = _outcomes_test[0] , events = _outcomes_test[1])\n",
    "dur_idx_test = t_test.discrete_transform(_cuts = q_cuts)\n",
    "\n",
    "t_val = Transforms(durations = _outcomes_val[0] , events = _outcomes_val[1])\n",
    "dur_idx_val = t_val.discrete_transform(_cuts = q_cuts)"
   ]
  },
  {
   "cell_type": "code",
   "execution_count": 11,
   "metadata": {},
   "outputs": [],
   "source": [
    "pca = PCA(n_components = 14)\n",
    "fit_pca = pca.fit(_df_train)\n",
    "reduced_features = fit_pca.transform(_df_train)\n",
    "\n",
    "pca_test = PCA(n_components = 14)\n",
    "fit_pca_test = pca_test.fit(_df_test)\n",
    "reduced_features_test = fit_pca_test.transform(_df_test)\n",
    "\n",
    "pca_val = PCA(n_components = 14)\n",
    "fit_pca_val = pca_test.fit(_df_val)\n",
    "reduced_features_val = fit_pca_val.transform(_df_val)"
   ]
  },
  {
   "cell_type": "code",
   "execution_count": 12,
   "metadata": {},
   "outputs": [],
   "source": [
    "input_size = reduced_features.shape[1]\n",
    "hidden_size = 32\n",
    "output_size = t.n_duration_index\n",
    "\n",
    "\n",
    "# Create an instance of your custom dataset\n",
    "dataset = MyDataset(reduced_features, dur_idx, _outcomes_train[1]) # need to change outcomes[0] to indexed version\n",
    "\n",
    "# Create a data loader for batching and shuffling\n",
    "batch_size = 512\n",
    "num_epochs = 500\n",
    "learning_rate = 0.01\n",
    "shuffle = True\n",
    "dataloader = DataLoader(dataset, batch_size=batch_size, shuffle=shuffle)\n",
    "patience = 10\n",
    "\n",
    "# build net\n",
    "net = MLP(input_size , hidden_size , output_size)\n",
    "\n",
    "# init optim\n",
    "optimizer = torch.optim.Adam(net.parameters() , lr = learning_rate)"
   ]
  },
  {
   "cell_type": "code",
   "execution_count": 13,
   "metadata": {},
   "outputs": [
    {
     "name": "stdout",
     "output_type": "stream",
     "text": [
      "Epoch 1: Training Loss: 3.3574, Val Loss: 3.4125\n",
      "Epoch 51: Training Loss: 1.5915, Val Loss: 1.7106\n",
      "Epoch 101: Training Loss: 1.6025, Val Loss: 1.7492\n",
      "Epoch 151: Training Loss: 1.5368, Val Loss: 1.7338\n",
      "Epoch 201: Training Loss: 1.4982, Val Loss: 1.7447\n",
      "Epoch 251: Training Loss: 1.4958, Val Loss: 1.7628\n",
      "Epoch 301: Training Loss: 1.5425, Val Loss: 1.7480\n",
      "Epoch 351: Training Loss: 1.5382, Val Loss: 1.7489\n",
      "Epoch 401: Training Loss: 1.4875, Val Loss: 1.7716\n",
      "Epoch 451: Training Loss: 1.6240, Val Loss: 1.7764\n"
     ]
    }
   ],
   "source": [
    "sm_val = Surv_Matrix(duration_index = dur_idx_val , events = _outcomes_val[1] , cuts = q_cuts)\n",
    "surv_mat_val = sm_val.make_survival_matrix()\n",
    "\n",
    "l = generic_Loss()\n",
    "\n",
    "best_loss = np.Inf\n",
    "\n",
    "# Training loop\n",
    "for epoch in range(num_epochs):\n",
    "    for batch_id , (patient_image , dur , eve) in enumerate(dataloader):\n",
    "        # Prime for training\n",
    "        net.train()\n",
    "        \n",
    "        # forward pass\n",
    "        phi_train = net(patient_image)\n",
    "\n",
    "        # make survival matrix\n",
    "        sm = Surv_Matrix(duration_index = dur, events = eve , cuts = q_cuts)\n",
    "        surv_mat = sm.make_survival_matrix()        \n",
    "\n",
    "        # get loss\n",
    "        loss = l.nll_logistic_hazard(logits = phi_train , targets = surv_mat , dur_idx = dur)\n",
    "\n",
    "        # backward pass\n",
    "        optimizer.zero_grad()\n",
    "        loss.backward()\n",
    "        optimizer.step()\n",
    "        \n",
    "        # Early stopping\n",
    "        # Prime for evaluation\n",
    "        net.eval()\n",
    "        with torch.no_grad():\n",
    "            phi_val = net(reduced_features_val)\n",
    "            val_loss = l.nll_logistic_hazard(logits = phi_val, targets = surv_mat_val , dur_idx = dur_idx_val\n",
    "                                             )\n",
    "        \n",
    "        # Check if validation loss has improved\n",
    "        if val_loss < best_loss:\n",
    "            best_loss = val_loss\n",
    "            counter = 0\n",
    "        else:\n",
    "            counter += 1\n",
    "\n",
    "        # Check if early stopping condition is met\n",
    "        if counter >= patience:\n",
    "            # print(f\"Early stopping at epoch {epoch}.\")\n",
    "            break\n",
    "\n",
    "\n",
    "    if (epoch%50==0): print(f\"Epoch {epoch+1}: Training Loss: {loss.item():.4f}, Val Loss: {val_loss.item():.4f}\") \n",
    "\n",
    "# turn training off\n",
    "# net.eval()"
   ]
  },
  {
   "cell_type": "code",
   "execution_count": 14,
   "metadata": {},
   "outputs": [],
   "source": [
    "with torch.no_grad():\n",
    "    hazards = torch.sigmoid(net(reduced_features_test))\n",
    "    survival = torch.log(1 - hazards).cumsum(1).exp()"
   ]
  },
  {
   "cell_type": "code",
   "execution_count": 15,
   "metadata": {},
   "outputs": [
    {
     "data": {
      "image/png": "[encoded data removed]",
      "text/plain": [
       "<Figure size 640x480 with 1 Axes>"
      ]
     },
     "metadata": {},
     "output_type": "display_data"
    }
   ],
   "source": [
    "for i , surv in enumerate(survival.detach().numpy()[:40]):\n",
    "    plt.step(t.bin_edges , surv , where = 'post' , label = i)\n",
    "    # plt.legend()\n",
    "    plt.ylim(0 , 1)"
   ]
  },
  {
   "cell_type": "code",
   "execution_count": 1,
   "metadata": {},
   "outputs": [
    {
     "ename": "NameError",
     "evalue": "name 'EvalSurv' is not defined",
     "output_type": "error",
     "traceback": [
      "\u001b[1;31m---------------------------------------------------------------------------\u001b[0m",
      "\u001b[1;31mNameError\u001b[0m                                 Traceback (most recent call last)",
      "Cell \u001b[1;32mIn[1], line 1\u001b[0m\n\u001b[1;32m----> 1\u001b[0m ev_ \u001b[39m=\u001b[39m EvalSurv(pd\u001b[39m.\u001b[39mDataFrame(survival\u001b[39m.\u001b[39mdetach()\u001b[39m.\u001b[39mnumpy()\u001b[39m.\u001b[39mT) , _outcomes_test[\u001b[39m0\u001b[39m] , _outcomes_test[\u001b[39m1\u001b[39m] , censor_surv\u001b[39m=\u001b[39m\u001b[39m'\u001b[39m\u001b[39mkm\u001b[39m\u001b[39m'\u001b[39m)\n\u001b[0;32m      2\u001b[0m \u001b[39mprint\u001b[39m(ev_\u001b[39m.\u001b[39mconcordance_td())\n\u001b[0;32m      4\u001b[0m time_grid \u001b[39m=\u001b[39m np\u001b[39m.\u001b[39mlinspace(_outcomes_test[\u001b[39m0\u001b[39m]\u001b[39m.\u001b[39mmin(), _outcomes_test[\u001b[39m0\u001b[39m]\u001b[39m.\u001b[39mmax(), \u001b[39m100\u001b[39m)\n",
      "\u001b[1;31mNameError\u001b[0m: name 'EvalSurv' is not defined"
     ]
    }
   ],
   "source": [
    "ev_ = EvalSurv(pd.DataFrame(survival.detach().numpy().T) , _outcomes_test[0] , _outcomes_test[1] , censor_surv='km')\n",
    "print(ev_.concordance_td())\n",
    "\n",
    "time_grid = np.linspace(_outcomes_test[0].min(), _outcomes_test[0].max(), 100)\n",
    "print(ev_.integrated_brier_score(time_grid))\n",
    "\n",
    "ev_.brier_score(time_grid).rename('crap').plot()\n",
    "plt.legend()\n",
    "plt.ylabel('Brier score')\n",
    "_ = plt.xlabel('Time')"
   ]
  },
  {
   "cell_type": "markdown",
   "metadata": {},
   "source": [
    "## **havak/pycox**"
   ]
  },
  {
   "cell_type": "code",
   "execution_count": 2,
   "metadata": {},
   "outputs": [],
   "source": [
    "import numpy as np\n",
    "import matplotlib.pyplot as plt\n",
    "from sklearn.preprocessing import StandardScaler\n",
    "from sklearn_pandas import DataFrameMapper\n",
    "\n",
    "import torch\n",
    "import torchtuples as tt\n",
    "\n",
    "from pycox.datasets import support\n",
    "from pycox.preprocessing.feature_transforms import OrderedCategoricalLong\n",
    "from pycox.models import LogisticHazard\n",
    "# from pycox.evaluation import EvalSurv"
   ]
  },
  {
   "cell_type": "code",
   "execution_count": null,
   "metadata": {},
   "outputs": [],
   "source": [
    "cols_standardize =  ['x0', 'x7', 'x8', 'x9', 'x10', 'x11', 'x12', 'x13']\n",
    "cols_leave = ['x1', 'x4', 'x5']\n",
    "cols_categorical =  ['x2', 'x3', 'x6']\n",
    "\n",
    "standardize = [([col], StandardScaler()) for col in cols_standardize]\n",
    "leave = [(col, None) for col in cols_leave]\n",
    "categorical = [(col, OrderedCategoricalLong()) for col in cols_categorical]\n",
    "\n",
    "x_mapper_float = DataFrameMapper(standardize + leave)\n",
    "x_mapper_long = DataFrameMapper(categorical)  # we need a separate mapper to ensure the data type 'int64'\n",
    "x_fit_transform = lambda df: tt.tuplefy(x_mapper_float.fit_transform(df), x_mapper_long.fit_transform(df))\n",
    "x_transform = lambda df: tt.tuplefy(x_mapper_float.transform(df), x_mapper_long.transform(df))\n",
    "x_train = x_fit_transform(df_train)\n",
    "x_val = x_transform(df_val)\n",
    "x_test = x_transform(df_test)"
   ]
  },
  {
   "cell_type": "code",
   "execution_count": null,
   "metadata": {},
   "outputs": [
    {
     "name": "stderr",
     "output_type": "stream",
     "text": [
      "c:\\Users\\soura\\Documents\\ECMM451\\project_env\\lib\\site-packages\\torchtuples\\callbacks.py:607: UserWarning: This overload of add is deprecated:\n",
      "\tadd(Number alpha, Tensor other)\n",
      "Consider using one of the following signatures instead:\n",
      "\tadd(Tensor other, *, Number alpha) (Triggered internally at ..\\torch\\csrc\\utils\\python_arg_parser.cpp:1485.)\n",
      "  p.data = p.data.add(-weight_decay * eta, p.data)\n"
     ]
    },
    {
     "data": {
      "image/png": "[encoded data removed]",
      "text/plain": [
       "<Figure size 640x480 with 1 Axes>"
      ]
     },
     "metadata": {},
     "output_type": "display_data"
    }
   ],
   "source": [
    "num_durations = 20\n",
    "scheme = 'quantiles'\n",
    "labtrans = LogisticHazard.label_transform(num_durations, scheme)\n",
    "\n",
    "get_target = lambda df: (df['duration'].values, df['event'].values)\n",
    "y_train = labtrans.fit_transform(*get_target(df_train))\n",
    "y_val = labtrans.transform(*get_target(df_val))\n",
    "durations_test, events_test = get_target(df_test)\n",
    "\n",
    "num_embeddings = x_train[1].max(0) + 1\n",
    "embedding_dims = num_embeddings // 2\n",
    "\n",
    "in_features = x_train[0].shape[1]\n",
    "out_features = labtrans.out_features\n",
    "num_nodes = [32, 32, 32, 32]\n",
    "batch_norm = True\n",
    "dropout = 0.2\n",
    "\n",
    "train = tt.tuplefy(x_train, y_train)\n",
    "val = tt.tuplefy(x_val, y_val)\n",
    "\n",
    "net = tt.practical.MixedInputMLP(in_features, num_embeddings, embedding_dims,\n",
    "                                 num_nodes, out_features, batch_norm, dropout)\n",
    "\n",
    "optimizer = tt.optim.AdamWR(decoupled_weight_decay=0.01, cycle_eta_multiplier=0.8,\n",
    "                            cycle_multiplier=2)\n",
    "model = LogisticHazard(net, optimizer, duration_index=labtrans.cuts)\n",
    "\n",
    "model.optimizer.set_lr(0.02)\n",
    "\n",
    "epochs = 512\n",
    "callbacks = [tt.cb.EarlyStoppingCycle()]\n",
    "verbose = False # set to True if you want printout\n",
    "\n",
    "log = model.fit(x_train, y_train, batch_size, epochs, callbacks, verbose,\n",
    "                val_data=val)\n",
    "\n",
    "_ = log.to_pandas().iloc[1:].plot()"
   ]
  },
  {
   "cell_type": "code",
   "execution_count": null,
   "metadata": {},
   "outputs": [
    {
     "name": "stdout",
     "output_type": "stream",
     "text": [
      "shapes : (1775, 1775, 1775, 1775)\n"
     ]
    },
    {
     "data": {
      "text/plain": [
       "(0.6283554318312125,)"
      ]
     },
     "execution_count": 20,
     "metadata": {},
     "output_type": "execute_result"
    }
   ],
   "source": [
    "surv_cdi = model.predict_surv_df(x_test)\n",
    "# surv_chi = model.interpolate(100, 'const_hazard').predict_surv_df(x_test)\n",
    "ev_cdi = EvalSurv(surv_cdi, durations_test, events_test, censor_surv='km')\n",
    "# ev_chi = EvalSurv(surv_chi, durations_test, events_test, censor_surv='km')\n",
    "ev_cdi.concordance_td(), # ev_chi.concordance_td()"
   ]
  }
 ],
 "metadata": {
  "kernelspec": {
   "display_name": "project_env",
   "language": "python",
   "name": "python3"
  },
  "language_info": {
   "codemirror_mode": {
    "name": "ipython",
    "version": 3
   },
   "file_extension": ".py",
   "mimetype": "text/x-python",
   "name": "python",
   "nbconvert_exporter": "python",
   "pygments_lexer": "ipython3",
   "version": "3.10.7"
  },
  "orig_nbformat": 4
 },
 "nbformat": 4,
 "nbformat_minor": 2
}
